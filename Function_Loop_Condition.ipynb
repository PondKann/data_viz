{
  "nbformat": 4,
  "nbformat_minor": 0,
  "metadata": {
    "colab": {
      "name": "Function_Loop_Condition.ipynb",
      "provenance": [],
      "authorship_tag": "ABX9TyOhsjs5iw7DZ77LNWmyddGO",
      "include_colab_link": true
    },
    "kernelspec": {
      "name": "python3",
      "display_name": "Python 3"
    }
  },
  "cells": [
    {
      "cell_type": "markdown",
      "metadata": {
        "id": "view-in-github",
        "colab_type": "text"
      },
      "source": [
        "<a href=\"https://colab.research.google.com/github/PondKann/data_viz/blob/main/Function_Loop_Condition.ipynb\" target=\"_parent\"><img src=\"https://colab.research.google.com/assets/colab-badge.svg\" alt=\"Open In Colab\"/></a>"
      ]
    },
    {
      "cell_type": "markdown",
      "metadata": {
        "id": "ZjOPyKeJtPm0"
      },
      "source": [
        "# Function\r\n",
        "ทำหน้าที่รับ input มาประมวลผลออกมาเป็น output\r\n",
        "f(x) = y"
      ]
    },
    {
      "cell_type": "markdown",
      "metadata": {
        "id": "PFoc2fqftWtL"
      },
      "source": [
        "## def คือการกำหนดฟังก์ชั่น\r\n",
        "backtick (`) ==> กด ~ ค้าง, alt - 9>6 (full keyboard with number)\r\n",
        "\r\n",
        "tilde (~)\r\n",
        "\r\n",
        "curly bracket ({ })\r\n",
        "\r\n",
        "square bracket ([ ])\r\n",
        "\r\n",
        "```python\r\n",
        "            def function_name(_input_) :\r\n",
        "                  do_something with _input_ to get _output_\r\n",
        "                  return _output_\r\n",
        "```\r\n"
      ]
    },
    {
      "cell_type": "markdown",
      "metadata": {
        "id": "3khYS_WstfeM"
      },
      "source": [
        "function มีส่วนสำคัญทั้งหมด 4 ส่วน \r\n",
        "1. บอก python ว่าเราจะเขียนฟังก์ชัน ชื่ออะไร    ``` def function_name() : ``` (ขาดไม่ได้)\r\n",
        "2. กำหนดตัวแปรที่จะเป็น input  ```_input_```  (ขาดได้)\r\n",
        "3. ส่วนประมวลผล  ```do_something with _input_ to get _output_```"
      ]
    },
    {
      "cell_type": "code",
      "metadata": {
        "id": "ZtoMC4-CtKRS"
      },
      "source": [
        "def print_name(surname, ID, Name) :\r\n",
        "  st = f' ชื่อ {Name}  นามสกุล {surname}  รหัส  {ID} '\r\n",
        "  return st"
      ],
      "execution_count": null,
      "outputs": []
    },
    {
      "cell_type": "code",
      "metadata": {
        "colab": {
          "base_uri": "https://localhost:8080/",
          "height": 34
        },
        "id": "Hpb30lEbtcsF",
        "outputId": "cc5c6a67-bd2b-466f-a348-68a65339295a"
      },
      "source": [
        "print_name('พรมุสข', '613021014-9','กัณญารัตน์' ) #เรียงลำดับให้ตรงตาม input "
      ],
      "execution_count": null,
      "outputs": [
        {
          "output_type": "execute_result",
          "data": {
            "application/vnd.google.colaboratory.intrinsic+json": {
              "type": "string"
            },
            "text/plain": [
              "' ชื่อ กัณญารัตน์  นามสกุล พรมุสข  รหัส  613021014-9 '"
            ]
          },
          "metadata": {
            "tags": []
          },
          "execution_count": 2
        }
      ]
    },
    {
      "cell_type": "code",
      "metadata": {
        "colab": {
          "base_uri": "https://localhost:8080/"
        },
        "id": "xLF5CJJbtcp0",
        "outputId": "3859c83c-164f-4d62-cd06-14026dbe35a7"
      },
      "source": [
        "print(print_name(surname ='พรมุสข', ID = '613021014-9', Name='กัณญารัตน์' ) ) # ไม่จำเป็นต้องเรียง แค่ใส่ชื่อของค่านั้น ๆ ด้วย"
      ],
      "execution_count": null,
      "outputs": [
        {
          "output_type": "stream",
          "text": [
            " ชื่อ กัณญารัตน์  นามสกุล พรมุสข  รหัส  613021014-9 \n"
          ],
          "name": "stdout"
        }
      ]
    },
    {
      "cell_type": "markdown",
      "metadata": {
        "id": "IMeBjZfPtpUf"
      },
      "source": [
        "####ฟังก์ชั่นไม่จำเป็นต้องมี output"
      ]
    },
    {
      "cell_type": "code",
      "metadata": {
        "id": "foPb_hnEtcnb"
      },
      "source": [
        "def print_name2(surname, ID, Name):\r\n",
        "  st = f' ชื่อ {Name}  นามสกุล {surname}  รหัส  {ID} '\r\n",
        "  print(st)"
      ],
      "execution_count": null,
      "outputs": []
    },
    {
      "cell_type": "code",
      "metadata": {
        "colab": {
          "base_uri": "https://localhost:8080/"
        },
        "id": "N8UcDhZItno9",
        "outputId": "7fa37ce2-89d4-4f0f-bfb6-94695c994850"
      },
      "source": [
        "print_name2(surname ='พรมุสข', ID = '613021014-9', Name='กัณญารัตน์' )"
      ],
      "execution_count": null,
      "outputs": [
        {
          "output_type": "stream",
          "text": [
            " ชื่อ กัณญารัตน์  นามสกุล พรมุสข  รหัส  613021014-9 \n"
          ],
          "name": "stdout"
        }
      ]
    },
    {
      "cell_type": "markdown",
      "metadata": {
        "id": "7UJZYVgjtuOU"
      },
      "source": [
        "####ฟังก์ชั่นไม่จำเป็นต้องมี input"
      ]
    },
    {
      "cell_type": "code",
      "metadata": {
        "id": "rDiepUXLtnmM"
      },
      "source": [
        "def pi() :  # pi เป็นชื่อฟังก์ชั่น แต่ไม่มี input โดยให้ คืนค่า 3.14159\r\n",
        "      return 3.14159"
      ],
      "execution_count": null,
      "outputs": []
    },
    {
      "cell_type": "code",
      "metadata": {
        "colab": {
          "base_uri": "https://localhost:8080/"
        },
        "id": "EL7899bntnj0",
        "outputId": "07bb5c34-f7fd-478f-e6ce-d42b8a653f3c"
      },
      "source": [
        "pi()*(2**2)  #หาพื้นที่วงกลมที่มีรัศมีเท่ากับ pi"
      ],
      "execution_count": null,
      "outputs": [
        {
          "output_type": "execute_result",
          "data": {
            "text/plain": [
              "12.56636"
            ]
          },
          "metadata": {
            "tags": []
          },
          "execution_count": 7
        }
      ]
    },
    {
      "cell_type": "markdown",
      "metadata": {
        "id": "Sbw7ZZQGt3p3"
      },
      "source": [
        "####เราสามารถกำหนดค่า default ให้กับฟังก์ชั่นได้\r\n",
        "input ของ function ใน python มีสองแบบ input ที่จำเป็นต้องใส่ กับ input ที่ไม่จำเป็นต้องใส่ (มีค่า default)\r\n",
        "\r\n",
        "เราต้องเรียง input ที่จำเป็นต้องใส่ขึ้นก่อน"
      ]
    },
    {
      "cell_type": "code",
      "metadata": {
        "id": "Ft_AfBIDtnhU"
      },
      "source": [
        "def print_2lines_default(Name, surname, ID, grad = 'A') :\r\n",
        "      st = f'ชื่อ {Name} นามสกุล {surname} รหัส {ID} '\r\n",
        "      print(st)\r\n",
        "      st2= f'เกรดวิชา Data Viz >>> {grad}'\r\n",
        "      print(st2)"
      ],
      "execution_count": null,
      "outputs": []
    },
    {
      "cell_type": "code",
      "metadata": {
        "colab": {
          "base_uri": "https://localhost:8080/"
        },
        "id": "FYhw9GYxt5hE",
        "outputId": "481ae92e-8fbc-4452-cb54-f289529c14f9"
      },
      "source": [
        "print_2lines_default('กัณญารัตน์', 'พรมุสข', '613021014-9' )"
      ],
      "execution_count": null,
      "outputs": [
        {
          "output_type": "stream",
          "text": [
            "ชื่อ กัณญารัตน์ นามสกุล พรมุสข รหัส 613021014-9 \n",
            "เกรดวิชา Data Viz >>> A\n"
          ],
          "name": "stdout"
        }
      ]
    },
    {
      "cell_type": "markdown",
      "metadata": {
        "id": "qjJzOsiSt8wB"
      },
      "source": [
        "# Loop\r\n",
        "for เป็นคำที่ใช้บอก python ว่าเรากำลังเขียน loop โดย for จะวนดึงสมาชิกจาก listA มาทำ process do_something\r\n",
        "```python\r\n",
        "for each_member in listA :\r\n",
        "        do_something\r\n",
        "```\r\n"
      ]
    },
    {
      "cell_type": "markdown",
      "metadata": {
        "id": "KBNNeMezuWah"
      },
      "source": [
        "\r\n",
        "คำสั่ง for เป็นคำสั่งวนซ้ำที่ใช้ควบคุมการทำงานซ้ำๆ ในจำนวนรอบที่แน่นอน"
      ]
    },
    {
      "cell_type": "code",
      "metadata": {
        "colab": {
          "base_uri": "https://localhost:8080/"
        },
        "id": "nX2axQ_auWSh",
        "outputId": "22f94ca4-2511-4f9e-d812-25e74c345378"
      },
      "source": [
        "for i in [1,2,3] :\r\n",
        "    o = i**2            # (**)คือ ยกกำลัง\r\n",
        "    print (f'this member = {i} after process = {o}')"
      ],
      "execution_count": 2,
      "outputs": [
        {
          "output_type": "stream",
          "text": [
            "this member = 1 after process = 1\n",
            "this member = 2 after process = 4\n",
            "this member = 3 after process = 9\n"
          ],
          "name": "stdout"
        }
      ]
    },
    {
      "cell_type": "code",
      "metadata": {
        "id": "wbpLhufWt5Zf",
        "outputId": "79139a7f-5b10-46fe-dfc4-e10c5f252c39",
        "colab": {
          "base_uri": "https://localhost:8080/"
        }
      },
      "source": [
        "for i in'Kanyarat' :\r\n",
        "  print (f'{i} -> / ', end = ' ') #สั่งให้ปริ้นท์ แบบไม่เว้นบรรทัด"
      ],
      "execution_count": 3,
      "outputs": [
        {
          "output_type": "stream",
          "text": [
            "K -> /  a -> /  n -> /  y -> /  a -> /  r -> /  a -> /  t -> /  "
          ],
          "name": "stdout"
        }
      ]
    },
    {
      "cell_type": "markdown",
      "metadata": {
        "id": "Z8mUOea2XiIq"
      },
      "source": [
        "## สร้าง list ตัวแ+เลขแบบอัตโนมัติ range()"
      ]
    },
    {
      "cell_type": "code",
      "metadata": {
        "id": "s5Nrj3uPXg1S",
        "outputId": "bed1e616-d339-4533-cdaa-acbf7d4a6e18",
        "colab": {
          "base_uri": "https://localhost:8080/"
        }
      },
      "source": [
        "renge5_output = range(5)\r\n",
        "print(list(renge5_output))"
      ],
      "execution_count": 1,
      "outputs": [
        {
          "output_type": "stream",
          "text": [
            "[0, 1, 2, 3, 4]\n"
          ],
          "name": "stdout"
        }
      ]
    },
    {
      "cell_type": "code",
      "metadata": {
        "id": "KsGGrRLYXgum",
        "outputId": "0ff3451d-d3dc-407a-faae-089031e2f899",
        "colab": {
          "base_uri": "https://localhost:8080/"
        }
      },
      "source": [
        "for i in range(100) :\r\n",
        "  print(f' งง', end = '  ') "
      ],
      "execution_count": 8,
      "outputs": [
        {
          "output_type": "stream",
          "text": [
            " งง   งง   งง   งง   งง   งง   งง   งง   งง   งง   งง   งง   งง   งง   งง   งง   งง   งง   งง   งง   งง   งง   งง   งง   งง   งง   งง   งง   งง   งง   งง   งง   งง   งง   งง   งง   งง   งง   งง   งง   งง   งง   งง   งง   งง   งง   งง   งง   งง   งง   งง   งง   งง   งง   งง   งง   งง   งง   งง   งง   งง   งง   งง   งง   งง   งง   งง   งง   งง   งง   งง   งง   งง   งง   งง   งง   งง   งง   งง   งง   งง   งง   งง   งง   งง   งง   งง   งง   งง   งง   งง   งง   งง   งง   งง   งง   งง   งง   งง   งง  "
          ],
          "name": "stdout"
        }
      ]
    },
    {
      "cell_type": "code",
      "metadata": {
        "id": "FXsndruQZGWH",
        "outputId": "fa782a3f-7282-4cd7-f454-6d3a32f6f6d4",
        "colab": {
          "base_uri": "https://localhost:8080/"
        }
      },
      "source": [
        "list(range(1,11))  # เริ่มต้นเป็นวงกลม จบเป็นวงกลมโปร่ง เริ่มจากเลข 1-10"
      ],
      "execution_count": 9,
      "outputs": [
        {
          "output_type": "execute_result",
          "data": {
            "text/plain": [
              "[1, 2, 3, 4, 5, 6, 7, 8, 9, 10]"
            ]
          },
          "metadata": {
            "tags": []
          },
          "execution_count": 9
        }
      ]
    },
    {
      "cell_type": "code",
      "metadata": {
        "id": "yqYUeA4kclbW",
        "outputId": "4bdfefc7-3f4d-4078-bf35-c245d0b20661",
        "colab": {
          "base_uri": "https://localhost:8080/"
        }
      },
      "source": [
        "list(range(-3,20,4)) #เริ่มจาก -3 ไปจนถึงไม่เกิน 20 บวกไปทีละ 4 step"
      ],
      "execution_count": 10,
      "outputs": [
        {
          "output_type": "execute_result",
          "data": {
            "text/plain": [
              "[-3, 1, 5, 9, 13, 17]"
            ]
          },
          "metadata": {
            "tags": []
          },
          "execution_count": 10
        }
      ]
    },
    {
      "cell_type": "markdown",
      "metadata": {
        "id": "q2SZJtrPdQ9x"
      },
      "source": [
        "## สามารถใช้ for loop ซ้อนกันได้"
      ]
    },
    {
      "cell_type": "code",
      "metadata": {
        "id": "dHg09ay6c3Zt"
      },
      "source": [
        "for name1 in range(2,5):\r\n",
        "    print(f'now name1 = {name1}')\r\n",
        "    for name2 in range(1,13):\r\n",
        "      print(name1, ' x ' , name2, ' = ' , name1*name2)\r\n",
        "    print('the inner loop is end')"
      ],
      "execution_count": null,
      "outputs": []
    },
    {
      "cell_type": "code",
      "metadata": {
        "id": "pKHIYMpCfIgl"
      },
      "source": [
        "def print_fellings(I, friendS, feeling = 'คิดถึง'):\r\n",
        "  for fd in friendS: # ให้วนทุกค่าใน friendS\r\n",
        "    print(f'{I} {feeling} {fd}')"
      ],
      "execution_count": 29,
      "outputs": []
    },
    {
      "cell_type": "code",
      "metadata": {
        "id": "IcziSnqkfIk_"
      },
      "source": [
        "list_friendS = ['JB' , 'Mark' , 'Jackson' , 'Jinyoung' , 'Youngjae' , 'Bambam' , 'Yugyeom'  ]"
      ],
      "execution_count": 37,
      "outputs": []
    },
    {
      "cell_type": "code",
      "metadata": {
        "id": "Xbi7jTB3dP-6"
      },
      "source": [
        "print_fellings('Ahgasa', list_friendS)  #จาก def   I = 'Ahgasa' ,  friendS = list_friendS"
      ],
      "execution_count": null,
      "outputs": []
    },
    {
      "cell_type": "markdown",
      "metadata": {
        "id": "f01ujlJqkMP4"
      },
      "source": [
        "## True / False\r\n",
        "==, !=, >=, <=  < , >\r\n",
        "\r\n",
        "  การวบลูปโดยมีเงื่อนไขต่าง ๆ มาเกี่ยวข้อง โดยมี pattern  ดังนี้\r\n",
        "```python\r\n",
        "  if condition1 :\r\n",
        "      do something\r\n",
        "  elif condition2 : #\r\n",
        "  ```\r\n",
        "  "
      ]
    },
    {
      "cell_type": "code",
      "metadata": {
        "id": "HZWCGMALdP5x"
      },
      "source": [
        "for name1 in list_friendS:\r\n",
        "    for name2 in list_friendS:\r\n",
        "        if name1 != name2:   # ไม่ปริ้นชื่อคนเดียวกัน   ถ้าไม่เท่ากัน ให้ปริ้นท์\r\n",
        "           print(name1, 'รัก' , name2 )"
      ],
      "execution_count": null,
      "outputs": []
    },
    {
      "cell_type": "code",
      "metadata": {
        "id": "TGzJ50jCkLNt"
      },
      "source": [
        "for name1 in list_friendS:\r\n",
        "    for name2 in list_friendS:\r\n",
        "        if name1 == name2:  \r\n",
        "            'do something' \r\n",
        "        else:\r\n",
        "            print(name1, 'รัก' , name2 )"
      ],
      "execution_count": null,
      "outputs": []
    },
    {
      "cell_type": "code",
      "metadata": {
        "id": "G5qPEW39kLKV",
        "outputId": "ae6d14ea-06b8-4574-b606-4d68d2782ea8",
        "colab": {
          "base_uri": "https://localhost:8080/"
        }
      },
      "source": [
        "'JB' == 'Mark'"
      ],
      "execution_count": 41,
      "outputs": [
        {
          "output_type": "execute_result",
          "data": {
            "text/plain": [
              "False"
            ]
          },
          "metadata": {
            "tags": []
          },
          "execution_count": 41
        }
      ]
    },
    {
      "cell_type": "markdown",
      "metadata": {
        "id": "awqsIuionrqY"
      },
      "source": [
        "## HW \r\n",
        "ให้เขียนฟังก์ชันตัดเกรด โดยที่ input เป็นคะแนน (0-100) ,  output เป็น เกรด (F-A)\r\n",
        "\r\n",
        "วนลูปตัดเกรด input = [1,50,65,90,101,-5,49]\r\n",
        "\r\n",
        "กำหนด\r\n",
        "- ถ้าคะแนนอยู่ระหว่างมากกว่าหรือเท่ากับ  0  แต่น้อยกว่า 50 จะได้เกรด \r\n",
        "- ถ้าคะแนนอยู่ระหว่างมากกว่าหรือเท่ากับ 50 แต่น้อยกว่า 55 จะได้เกรด D\r\n",
        "- ถ้าคะแนนอยู่ระหว่างมากกว่าหรือเท่ากับ 55 แต่น้อยกว่า 60 จะได้เกรด D+\r\n",
        "-  ถ้าคะแนนอยู่ระหว่างมากกว่าหรือเท่ากับ 60 แต่น้อยกว่า 65 จะได้เกรด C\r\n",
        "-  ถ้าคะแนนอยู่ระหว่างมากกว่าหรือเท่ากับ 65 แต่น้อยกว่า 70 จะได้เกรด C+\r\n",
        "-  ถ้าคะแนนอยู่ระหว่างมากกว่าหรือเท่ากับ 70 แต่น้อยกว่า 75 จะได้เกรด B\r\n",
        "-  ถ้าคะแนนอยู่ระหว่างมากกว่าหรือเท่ากับ 75 แต่น้อยกว่า 80 จะได้เกรด B+\r\n",
        "-  ถ้าคะแนนอยู่ระหว่างมากกว่าหรือเท่ากับ 80  จะได้เกรด A\r\n",
        "-  แต่ว่าค่าคะแนนจะต้องไม่ต่ำกว่า 0 และมากกว่า 100 ไม่งั้นจะเกิด error\r\n"
      ]
    },
    {
      "cell_type": "code",
      "metadata": {
        "id": "k38GX73lm0lg"
      },
      "source": [
        ""
      ],
      "execution_count": null,
      "outputs": []
    }
  ]
}