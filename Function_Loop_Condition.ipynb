{
  "nbformat": 4,
  "nbformat_minor": 0,
  "metadata": {
    "colab": {
      "name": "Function_Loop_Condition.ipynb",
      "provenance": [],
      "authorship_tag": "ABX9TyPKWea5/NnwbTBdSaaEhk9g",
      "include_colab_link": true
    },
    "kernelspec": {
      "name": "python3",
      "display_name": "Python 3"
    }
  },
  "cells": [
    {
      "cell_type": "markdown",
      "metadata": {
        "id": "view-in-github",
        "colab_type": "text"
      },
      "source": [
        "<a href=\"https://colab.research.google.com/github/PondKann/data_viz/blob/main/Function_Loop_Condition.ipynb\" target=\"_parent\"><img src=\"https://colab.research.google.com/assets/colab-badge.svg\" alt=\"Open In Colab\"/></a>"
      ]
    },
    {
      "cell_type": "markdown",
      "metadata": {
        "id": "ZjOPyKeJtPm0"
      },
      "source": [
        "# Function\r\n",
        "ทำหน้าที่รับ input มาประมวลผลออกมาเป็น output\r\n",
        "f(x) = y"
      ]
    },
    {
      "cell_type": "markdown",
      "metadata": {
        "id": "PFoc2fqftWtL"
      },
      "source": [
        "## def คือการกำหนดฟังก์ชั่น\r\n",
        "backtick (`) ==> กด ~ ค้าง, alt - 9>6 (full keyboard with number)\r\n",
        "\r\n",
        "tilde (~)\r\n",
        "\r\n",
        "curly bracket ({ })\r\n",
        "\r\n",
        "square bracket ([ ])\r\n",
        "\r\n",
        "```python\r\n",
        "            def function_name(_input_) :\r\n",
        "                  do_something with _input_ to get _output_\r\n",
        "                  return _output_\r\n",
        "```\r\n"
      ]
    },
    {
      "cell_type": "markdown",
      "metadata": {
        "id": "3khYS_WstfeM"
      },
      "source": [
        "function มีส่วนสำคัญทั้งหมด 4 ส่วน \r\n",
        "1. บอก python ว่าเราจะเขียนฟังก์ชัน ชื่ออะไร    ``` def function_name() : ``` (ขาดไม่ได้)\r\n",
        "2. กำหนดตัวแปรที่จะเป็น input  ```_input_```  (ขาดได้)\r\n",
        "3. ส่วนประมวลผล  ```do_something with _input_ to get _output_```"
      ]
    },
    {
      "cell_type": "code",
      "metadata": {
        "id": "ZtoMC4-CtKRS"
      },
      "source": [
        "def print_name(surname, ID, Name) :\r\n",
        "  st = f' ชื่อ {Name}  นามสกุล {surname}  รหัส  {ID} '\r\n",
        "  return st"
      ],
      "execution_count": 1,
      "outputs": []
    },
    {
      "cell_type": "code",
      "metadata": {
        "colab": {
          "base_uri": "https://localhost:8080/",
          "height": 34
        },
        "id": "Hpb30lEbtcsF",
        "outputId": "cc5c6a67-bd2b-466f-a348-68a65339295a"
      },
      "source": [
        "print_name('พรมุสข', '613021014-9','กัณญารัตน์' ) #เรียงลำดับให้ตรงตาม input "
      ],
      "execution_count": 2,
      "outputs": [
        {
          "output_type": "execute_result",
          "data": {
            "application/vnd.google.colaboratory.intrinsic+json": {
              "type": "string"
            },
            "text/plain": [
              "' ชื่อ กัณญารัตน์  นามสกุล พรมุสข  รหัส  613021014-9 '"
            ]
          },
          "metadata": {
            "tags": []
          },
          "execution_count": 2
        }
      ]
    },
    {
      "cell_type": "code",
      "metadata": {
        "colab": {
          "base_uri": "https://localhost:8080/"
        },
        "id": "xLF5CJJbtcp0",
        "outputId": "3859c83c-164f-4d62-cd06-14026dbe35a7"
      },
      "source": [
        "print(print_name(surname ='พรมุสข', ID = '613021014-9', Name='กัณญารัตน์' ) ) # ไม่จำเป็นต้องเรียง แค่ใส่ชื่อของค่านั้น ๆ ด้วย"
      ],
      "execution_count": 3,
      "outputs": [
        {
          "output_type": "stream",
          "text": [
            " ชื่อ กัณญารัตน์  นามสกุล พรมุสข  รหัส  613021014-9 \n"
          ],
          "name": "stdout"
        }
      ]
    },
    {
      "cell_type": "markdown",
      "metadata": {
        "id": "IMeBjZfPtpUf"
      },
      "source": [
        "####ฟังก์ชั่นไม่จำเป็นต้องมี output"
      ]
    },
    {
      "cell_type": "code",
      "metadata": {
        "id": "foPb_hnEtcnb"
      },
      "source": [
        "def print_name2(surname, ID, Name):\r\n",
        "  st = f' ชื่อ {Name}  นามสกุล {surname}  รหัส  {ID} '\r\n",
        "  print(st)"
      ],
      "execution_count": 4,
      "outputs": []
    },
    {
      "cell_type": "code",
      "metadata": {
        "colab": {
          "base_uri": "https://localhost:8080/"
        },
        "id": "N8UcDhZItno9",
        "outputId": "7fa37ce2-89d4-4f0f-bfb6-94695c994850"
      },
      "source": [
        "print_name2(surname ='พรมุสข', ID = '613021014-9', Name='กัณญารัตน์' )"
      ],
      "execution_count": 5,
      "outputs": [
        {
          "output_type": "stream",
          "text": [
            " ชื่อ กัณญารัตน์  นามสกุล พรมุสข  รหัส  613021014-9 \n"
          ],
          "name": "stdout"
        }
      ]
    },
    {
      "cell_type": "markdown",
      "metadata": {
        "id": "7UJZYVgjtuOU"
      },
      "source": [
        "####ฟังก์ชั่นไม่จำเป็นต้องมี input"
      ]
    },
    {
      "cell_type": "code",
      "metadata": {
        "id": "rDiepUXLtnmM"
      },
      "source": [
        "def pi() :  # pi เป็นชื่อฟังก์ชั่น แต่ไม่มี input โดยให้ คืนค่า 3.14159\r\n",
        "      return 3.14159"
      ],
      "execution_count": 6,
      "outputs": []
    },
    {
      "cell_type": "code",
      "metadata": {
        "colab": {
          "base_uri": "https://localhost:8080/"
        },
        "id": "EL7899bntnj0",
        "outputId": "07bb5c34-f7fd-478f-e6ce-d42b8a653f3c"
      },
      "source": [
        "pi()*(2**2)  #หาพื้นที่วงกลมที่มีรัศมีเท่ากับ pi"
      ],
      "execution_count": 7,
      "outputs": [
        {
          "output_type": "execute_result",
          "data": {
            "text/plain": [
              "12.56636"
            ]
          },
          "metadata": {
            "tags": []
          },
          "execution_count": 7
        }
      ]
    },
    {
      "cell_type": "markdown",
      "metadata": {
        "id": "Sbw7ZZQGt3p3"
      },
      "source": [
        "####เราสามารถกำหนดค่า default ให้กับฟังก์ชั่นได้\r\n",
        "input ของ function ใน python มีสองแบบ input ที่จำเป็นต้องใส่ กับ input ที่ไม่จำเป็นต้องใส่ (มีค่า default)\r\n",
        "\r\n",
        "เราต้องเรียง input ที่จำเป็นต้องใส่ขึ้นก่อน"
      ]
    },
    {
      "cell_type": "code",
      "metadata": {
        "id": "Ft_AfBIDtnhU"
      },
      "source": [
        "def print_2lines_default(Name, surname, ID, grad = 'A') :\r\n",
        "      st = f'ชื่อ {Name} นามสกุล {surname} รหัส {ID} '\r\n",
        "      print(st)\r\n",
        "      st2= f'เกรดวิชา Data Viz >>> {grad}'\r\n",
        "      print(st2)"
      ],
      "execution_count": 11,
      "outputs": []
    },
    {
      "cell_type": "code",
      "metadata": {
        "colab": {
          "base_uri": "https://localhost:8080/"
        },
        "id": "FYhw9GYxt5hE",
        "outputId": "481ae92e-8fbc-4452-cb54-f289529c14f9"
      },
      "source": [
        "print_2lines_default('กัณญารัตน์', 'พรมุสข', '613021014-9' )"
      ],
      "execution_count": 12,
      "outputs": [
        {
          "output_type": "stream",
          "text": [
            "ชื่อ กัณญารัตน์ นามสกุล พรมุสข รหัส 613021014-9 \n",
            "เกรดวิชา Data Viz >>> A\n"
          ],
          "name": "stdout"
        }
      ]
    },
    {
      "cell_type": "markdown",
      "metadata": {
        "id": "qjJzOsiSt8wB"
      },
      "source": [
        "# Loop\r\n",
        "for เป็นคำที่ใช้บอก python ว่าเรากำลังเขียน loop โดย for จะวนดึงสมาชิกจาก listA มาทำ process do_something\r\n",
        "```python\r\n",
        "for each_member in listA :\r\n",
        "        do_something\r\n",
        "```\r\n"
      ]
    },
    {
      "cell_type": "markdown",
      "metadata": {
        "id": "KBNNeMezuWah"
      },
      "source": [
        "\r\n",
        "คำสั่ง for เป็นคำสั่งวนซ้ำที่ใช้ควบคุมการทำงานซ้ำๆ ในจำนวนรอบที่แน่นอน"
      ]
    },
    {
      "cell_type": "code",
      "metadata": {
        "colab": {
          "base_uri": "https://localhost:8080/"
        },
        "id": "nX2axQ_auWSh",
        "outputId": "f96a1bb2-a691-458f-f1e8-aefae497a2ea"
      },
      "source": [
        "for i in [1,2,3] :\r\n",
        "    o = i**2            # (**)คือ ยกกำลัง\r\n",
        "    print (f'this member = {i} after process = {o}')"
      ],
      "execution_count": 28,
      "outputs": [
        {
          "output_type": "stream",
          "text": [
            "this member = 1 after process = 1\n",
            "this member = 2 after process = 4\n",
            "this member = 3 after process = 9\n"
          ],
          "name": "stdout"
        }
      ]
    },
    {
      "cell_type": "code",
      "metadata": {
        "id": "wbpLhufWt5Zf"
      },
      "source": [
        ""
      ],
      "execution_count": 10,
      "outputs": []
    }
  ]
}