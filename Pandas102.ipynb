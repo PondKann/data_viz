{
  "nbformat": 4,
  "nbformat_minor": 0,
  "metadata": {
    "colab": {
      "name": "Pandas102.ipynb",
      "provenance": [],
      "authorship_tag": "ABX9TyOu1VyOhohYUlhwkiW2Pu6W",
      "include_colab_link": true
    },
    "kernelspec": {
      "name": "python3",
      "display_name": "Python 3"
    }
  },
  "cells": [
    {
      "cell_type": "markdown",
      "metadata": {
        "id": "view-in-github",
        "colab_type": "text"
      },
      "source": [
        "<a href=\"https://colab.research.google.com/github/PondKann/data_viz/blob/main/Pandas102.ipynb\" target=\"_parent\"><img src=\"https://colab.research.google.com/assets/colab-badge.svg\" alt=\"Open In Colab\"/></a>"
      ]
    },
    {
      "cell_type": "code",
      "metadata": {
        "colab": {
          "base_uri": "https://localhost:8080/"
        },
        "id": "DzLkFPCKYPjR",
        "outputId": "a6d1205a-1afb-4e7f-ac34-93e33a8acd8c"
      },
      "source": [
        "import pandas as pd\r\n",
        "from google.colab import drive\r\n",
        "drive.mount('/content/drive')"
      ],
      "execution_count": 1,
      "outputs": [
        {
          "output_type": "stream",
          "text": [
            "Mounted at /content/drive\n"
          ],
          "name": "stdout"
        }
      ]
    },
    {
      "cell_type": "code",
      "metadata": {
        "colab": {
          "base_uri": "https://localhost:8080/"
        },
        "id": "z_lgMYI3YegI",
        "outputId": "a0a727f5-bd6d-44a6-e0c7-54c29be41409"
      },
      "source": [
        "import os\r\n",
        "path = '/content/drive/My Drive/DataViz_2021'\r\n",
        "os.listdir(path)"
      ],
      "execution_count": 2,
      "outputs": [
        {
          "output_type": "execute_result",
          "data": {
            "text/plain": [
              "['pm-18-jan-2021.csv', 'covid-19-daily_data_dictionary.xlsx']"
            ]
          },
          "metadata": {
            "tags": []
          },
          "execution_count": 2
        }
      ]
    },
    {
      "cell_type": "code",
      "metadata": {
        "colab": {
          "base_uri": "https://localhost:8080/"
        },
        "id": "MtQy6uMvYeeQ",
        "outputId": "aabd66ff-553d-4229-a971-429ae3c25fa9"
      },
      "source": [
        "covid_file_path = os.path.join(path,'pm-18-jan-2021.csv')\r\n",
        "print(covid_file_path)"
      ],
      "execution_count": 3,
      "outputs": [
        {
          "output_type": "stream",
          "text": [
            "/content/drive/My Drive/DataViz_2021/pm-18-jan-2021.csv\n"
          ],
          "name": "stdout"
        }
      ]
    },
    {
      "cell_type": "code",
      "metadata": {
        "id": "Sfm--twCYebz"
      },
      "source": [
        "data_covid = pd.read_csv(covid_file_path)\r\n",
        "data_covid"
      ],
      "execution_count": null,
      "outputs": []
    },
    {
      "cell_type": "code",
      "metadata": {
        "colab": {
          "base_uri": "https://localhost:8080/"
        },
        "id": "s1GP309oYeZa",
        "outputId": "34c28d70-e900-42b7-b632-ed05b0098421"
      },
      "source": [
        "data_covid.shape"
      ],
      "execution_count": 5,
      "outputs": [
        {
          "output_type": "execute_result",
          "data": {
            "text/plain": [
              "(12423, 10)"
            ]
          },
          "metadata": {
            "tags": []
          },
          "execution_count": 5
        }
      ]
    },
    {
      "cell_type": "markdown",
      "metadata": {
        "id": "fqiaFsKgaS47"
      },
      "source": [
        "### .isnull()\r\n",
        ".isnull()  ข้อมูลต้องเป็น array\r\n"
      ]
    },
    {
      "cell_type": "code",
      "metadata": {
        "id": "cOw8y5KaYeWT"
      },
      "source": [
        "data_covid.isnull()"
      ],
      "execution_count": null,
      "outputs": []
    },
    {
      "cell_type": "markdown",
      "metadata": {
        "id": "zCt7na2Ab23I"
      },
      "source": [
        "### .any()เอาค่าความจริงในแต่ละ column ทุกค่ามา or กัน\r\n",
        "### .all() เอาค่าความจริงภายในแต่ละ column มา AND กัน"
      ]
    },
    {
      "cell_type": "code",
      "metadata": {
        "id": "1gL6v5R1YeBn"
      },
      "source": [
        "data_covid.isnull().any()  #ได้"
      ],
      "execution_count": null,
      "outputs": []
    },
    {
      "cell_type": "code",
      "metadata": {
        "id": "PRbTD6jd0xGO"
      },
      "source": [
        "data_covid.isnull().all() "
      ],
      "execution_count": null,
      "outputs": []
    },
    {
      "cell_type": "code",
      "metadata": {
        "id": "0ptowPfocSQi"
      },
      "source": [
        "# data_covid.iloc[0,0].isnull()  #ใช้ .isnull() ไม่ได้ ข้อมูลต้องเป็น array"
      ],
      "execution_count": 41,
      "outputs": []
    },
    {
      "cell_type": "code",
      "metadata": {
        "id": "v1ssamCTdyOR"
      },
      "source": [
        "data_covid['No.'][0].isnull()  #อันนี้เป็นการชี้ของ pandas "
      ],
      "execution_count": null,
      "outputs": []
    },
    {
      "cell_type": "markdown",
      "metadata": {
        "id": "rZ2Y29DjeWlg"
      },
      "source": [
        "ต้องใช้วิธีตัดตาราง"
      ]
    },
    {
      "cell_type": "code",
      "metadata": {
        "colab": {
          "base_uri": "https://localhost:8080/"
        },
        "id": "K2rZgg67cSOR",
        "outputId": "f80fd41e-524f-4f72-c6b6-b10fdc11f90b"
      },
      "source": [
        "data_covid.iloc[:1,0].isnull()"
      ],
      "execution_count": 11,
      "outputs": [
        {
          "output_type": "execute_result",
          "data": {
            "text/plain": [
              "0    False\n",
              "Name: No., dtype: bool"
            ]
          },
          "metadata": {
            "tags": []
          },
          "execution_count": 11
        }
      ]
    },
    {
      "cell_type": "markdown",
      "metadata": {
        "id": "VM1fwtNmg2o_"
      },
      "source": [
        "# การต่อตาราง ในแนวแกน x แกน y\r\n",
        "- ต่อแกน y คือ เพิ่ม records (เพิ่มจำนวนข้อมูล) \r\n",
        "- ต่อแกน x คือ เพิ่ม record (เพิ่มรายละเอียดของข้อมูล)\r\n"
      ]
    },
    {
      "cell_type": "markdown",
      "metadata": {
        "id": "AdYYFbEDiFyn"
      },
      "source": [
        "## ต่อแกน Y  ```pd.concat()```"
      ]
    },
    {
      "cell_type": "code",
      "metadata": {
        "id": "ICOMxf7Q1BKE"
      },
      "source": [
        "data_covid['province_of_onset']=='ขอนแก่น'"
      ],
      "execution_count": null,
      "outputs": []
    },
    {
      "cell_type": "code",
      "metadata": {
        "id": "ANfTebdJimUy"
      },
      "source": [
        "dataKK = data_covid[data_covid['province_of_onset']=='ขอนแก่น']  # จะได้ list ของ T F\r\n",
        "dataKK.head()"
      ],
      "execution_count": null,
      "outputs": []
    },
    {
      "cell_type": "code",
      "metadata": {
        "id": "WAUAh6V5g2V4"
      },
      "source": [
        "dataUD = data_covid[data_covid['province_of_onset']=='อุดรธานี']  # จะได้ list ของ T F\r\n",
        "dataUD.head()"
      ],
      "execution_count": null,
      "outputs": []
    },
    {
      "cell_type": "code",
      "metadata": {
        "id": "xGJAS7dZcSGe"
      },
      "source": [
        "dataMS = data_covid[data_covid['province_of_onset']=='มหาสารคาม']  # จะได้ list ของ T F\r\n",
        "dataMS.head()"
      ],
      "execution_count": null,
      "outputs": []
    },
    {
      "cell_type": "code",
      "metadata": {
        "id": "FJikmvlTeHb5"
      },
      "source": [
        "dataMYisan = pd.concat([dataKK,dataUD,dataMS])\r\n",
        "dataMYisan"
      ],
      "execution_count": null,
      "outputs": []
    },
    {
      "cell_type": "markdown",
      "metadata": {
        "id": "-3uC1K7nkyXd"
      },
      "source": [
        "## ต่อแกน X  \r\n",
        "- จับ 2 ตารางมาต่อกันเลย     ``` .merge```\r\n",
        "- เลือกมาเพิ่มเฉพาะบางคอลัมน์     ```.map```"
      ]
    },
    {
      "cell_type": "code",
      "metadata": {
        "id": "FDAfYOSHma9d"
      },
      "source": [
        "data_province = data_covid[['No.','announce_date','province_of_onset']] # สร้างตารางใหม่\r\n",
        "data_province"
      ],
      "execution_count": null,
      "outputs": []
    },
    {
      "cell_type": "code",
      "metadata": {
        "id": "dza4aGFHkwYu"
      },
      "source": [
        "data_human = data_covid[['No.','sex','age','nationality']]\r\n",
        "data_human"
      ],
      "execution_count": null,
      "outputs": []
    },
    {
      "cell_type": "markdown",
      "metadata": {
        "id": "6EkWW0Jpnu3A"
      },
      "source": [
        "#### แบบง่าย รู้ว่า 2 ตาราง record ตรงกัน"
      ]
    },
    {
      "cell_type": "code",
      "metadata": {
        "id": "TvO6ltl8kwVy"
      },
      "source": [
        "full_table1 = data_human.merge(data_province)\r\n",
        "full_table1"
      ],
      "execution_count": null,
      "outputs": []
    },
    {
      "cell_type": "markdown",
      "metadata": {
        "id": "x93iiCaEp3bo"
      },
      "source": [
        "#### sort"
      ]
    },
    {
      "cell_type": "code",
      "metadata": {
        "id": "X59HBpnEeHWN"
      },
      "source": [
        "data_human2 = data_human.sort_values('age') # ทำการเรียงตาม อายุ จาก น้อย -> มาก\r\n",
        "data_human2"
      ],
      "execution_count": null,
      "outputs": []
    },
    {
      "cell_type": "markdown",
      "metadata": {
        "id": "PP67TKFmuKU6"
      },
      "source": [
        "### .merge"
      ]
    },
    {
      "cell_type": "code",
      "metadata": {
        "colab": {
          "base_uri": "https://localhost:8080/",
          "height": 198
        },
        "id": "qr9lJAJzpayO",
        "outputId": "4ae5018b-353f-40f1-f121-b95d7f4818c7"
      },
      "source": [
        "full_table2 = data_human2.merge(data_province) #ซ้าย merge ต่อด้วย ขวา\r\n",
        "full_table2.head()"
      ],
      "execution_count": 52,
      "outputs": [
        {
          "output_type": "execute_result",
          "data": {
            "text/html": [
              "<div>\n",
              "<style scoped>\n",
              "    .dataframe tbody tr th:only-of-type {\n",
              "        vertical-align: middle;\n",
              "    }\n",
              "\n",
              "    .dataframe tbody tr th {\n",
              "        vertical-align: top;\n",
              "    }\n",
              "\n",
              "    .dataframe thead th {\n",
              "        text-align: right;\n",
              "    }\n",
              "</style>\n",
              "<table border=\"1\" class=\"dataframe\">\n",
              "  <thead>\n",
              "    <tr style=\"text-align: right;\">\n",
              "      <th></th>\n",
              "      <th>No.</th>\n",
              "      <th>sex</th>\n",
              "      <th>age</th>\n",
              "      <th>nationality</th>\n",
              "      <th>announce_date</th>\n",
              "      <th>province_of_onset</th>\n",
              "    </tr>\n",
              "  </thead>\n",
              "  <tbody>\n",
              "    <tr>\n",
              "      <th>0</th>\n",
              "      <td>1988</td>\n",
              "      <td>ชาย</td>\n",
              "      <td>0.10</td>\n",
              "      <td>Thailand</td>\n",
              "      <td>4/4/2020</td>\n",
              "      <td>ระยอง</td>\n",
              "    </tr>\n",
              "    <tr>\n",
              "      <th>1</th>\n",
              "      <td>6478</td>\n",
              "      <td>หญิง</td>\n",
              "      <td>0.11</td>\n",
              "      <td>Thailand</td>\n",
              "      <td>12/30/2020</td>\n",
              "      <td>เพชรบุรี</td>\n",
              "    </tr>\n",
              "    <tr>\n",
              "      <th>2</th>\n",
              "      <td>11498</td>\n",
              "      <td>ชาย</td>\n",
              "      <td>0.11</td>\n",
              "      <td>Burma</td>\n",
              "      <td>1/16/2021</td>\n",
              "      <td>สมุทรสาคร</td>\n",
              "    </tr>\n",
              "    <tr>\n",
              "      <th>3</th>\n",
              "      <td>1676</td>\n",
              "      <td>ชาย</td>\n",
              "      <td>0.30</td>\n",
              "      <td>Japan</td>\n",
              "      <td>4/1/2020</td>\n",
              "      <td>กรุงเทพมหานคร</td>\n",
              "    </tr>\n",
              "    <tr>\n",
              "      <th>4</th>\n",
              "      <td>1076</td>\n",
              "      <td>ชาย</td>\n",
              "      <td>0.40</td>\n",
              "      <td>Thailand</td>\n",
              "      <td>3/27/2020</td>\n",
              "      <td>สุราษฎร์ธานี</td>\n",
              "    </tr>\n",
              "  </tbody>\n",
              "</table>\n",
              "</div>"
            ],
            "text/plain": [
              "     No.   sex   age nationality announce_date province_of_onset\n",
              "0   1988   ชาย  0.10    Thailand      4/4/2020             ระยอง\n",
              "1   6478  หญิง  0.11    Thailand    12/30/2020          เพชรบุรี\n",
              "2  11498   ชาย  0.11       Burma     1/16/2021         สมุทรสาคร\n",
              "3   1676   ชาย  0.30       Japan      4/1/2020     กรุงเทพมหานคร\n",
              "4   1076   ชาย  0.40    Thailand     3/27/2020      สุราษฎร์ธานี"
            ]
          },
          "metadata": {
            "tags": []
          },
          "execution_count": 52
        }
      ]
    },
    {
      "cell_type": "code",
      "metadata": {
        "id": "W3SSY7cp3PN_"
      },
      "source": [
        "data_covid[1987:1988]  # เช็ค ว่าต่อกันถูกต้องรึป่าว"
      ],
      "execution_count": null,
      "outputs": []
    },
    {
      "cell_type": "code",
      "metadata": {
        "colab": {
          "base_uri": "https://localhost:8080/",
          "height": 198
        },
        "id": "HRE4jc3Mp-r_",
        "outputId": "a8f530cf-dad2-4ffb-9528-f65bdc924df8"
      },
      "source": [
        "data_human2_renamed = data_human2.rename(columns={'No.': 'patientNumber'})  # เปลี่ยนชื่อ column ที่ชื่อ 'No.' ให้เป็นชื่อ  'patientNumber'\r\n",
        "data_human2_renamed.head()"
      ],
      "execution_count": 58,
      "outputs": [
        {
          "output_type": "execute_result",
          "data": {
            "text/html": [
              "<div>\n",
              "<style scoped>\n",
              "    .dataframe tbody tr th:only-of-type {\n",
              "        vertical-align: middle;\n",
              "    }\n",
              "\n",
              "    .dataframe tbody tr th {\n",
              "        vertical-align: top;\n",
              "    }\n",
              "\n",
              "    .dataframe thead th {\n",
              "        text-align: right;\n",
              "    }\n",
              "</style>\n",
              "<table border=\"1\" class=\"dataframe\">\n",
              "  <thead>\n",
              "    <tr style=\"text-align: right;\">\n",
              "      <th></th>\n",
              "      <th>patientNumber</th>\n",
              "      <th>sex</th>\n",
              "      <th>age</th>\n",
              "      <th>nationality</th>\n",
              "    </tr>\n",
              "  </thead>\n",
              "  <tbody>\n",
              "    <tr>\n",
              "      <th>1987</th>\n",
              "      <td>1988</td>\n",
              "      <td>ชาย</td>\n",
              "      <td>0.10</td>\n",
              "      <td>Thailand</td>\n",
              "    </tr>\n",
              "    <tr>\n",
              "      <th>6477</th>\n",
              "      <td>6478</td>\n",
              "      <td>หญิง</td>\n",
              "      <td>0.11</td>\n",
              "      <td>Thailand</td>\n",
              "    </tr>\n",
              "    <tr>\n",
              "      <th>11497</th>\n",
              "      <td>11498</td>\n",
              "      <td>ชาย</td>\n",
              "      <td>0.11</td>\n",
              "      <td>Burma</td>\n",
              "    </tr>\n",
              "    <tr>\n",
              "      <th>1675</th>\n",
              "      <td>1676</td>\n",
              "      <td>ชาย</td>\n",
              "      <td>0.30</td>\n",
              "      <td>Japan</td>\n",
              "    </tr>\n",
              "    <tr>\n",
              "      <th>1075</th>\n",
              "      <td>1076</td>\n",
              "      <td>ชาย</td>\n",
              "      <td>0.40</td>\n",
              "      <td>Thailand</td>\n",
              "    </tr>\n",
              "  </tbody>\n",
              "</table>\n",
              "</div>"
            ],
            "text/plain": [
              "       patientNumber   sex   age nationality\n",
              "1987            1988   ชาย  0.10    Thailand\n",
              "6477            6478  หญิง  0.11    Thailand\n",
              "11497          11498   ชาย  0.11       Burma\n",
              "1675            1676   ชาย  0.30       Japan\n",
              "1075            1076   ชาย  0.40    Thailand"
            ]
          },
          "metadata": {
            "tags": []
          },
          "execution_count": 58
        }
      ]
    },
    {
      "cell_type": "code",
      "metadata": {
        "id": "UX9Kp0_Rp-be"
      },
      "source": [
        "full_table3 = data_human2_renamed.merge(data_province,left_on='patientNumber',right_on='No.') # มีคีย์ เป็นตัวเชื่อม\r\n",
        "full_table3.head()"
      ],
      "execution_count": null,
      "outputs": []
    },
    {
      "cell_type": "markdown",
      "metadata": {
        "id": "n1WDUuXF2WNn"
      },
      "source": [
        "### map() เลือกมาเฉพาะบาง column มาแปะเพิ่มเข้าไป"
      ]
    },
    {
      "cell_type": "markdown",
      "metadata": {
        "id": "o-YhXJsR2etI"
      },
      "source": [
        "คุณสมบัติของ pandas ก็คือเราสามารถสร้าง column ใหม่ให้ตาราง df ได้ โดย\r\n",
        "\r\n",
        "df['ชื่อ column ใหม่'] = (list ที่มีจำนวนสมาชิกเท่ากับจำนวน record ของ df)"
      ]
    },
    {
      "cell_type": "code",
      "metadata": {
        "colab": {
          "base_uri": "https://localhost:8080/",
          "height": 198
        },
        "id": "x2SHmK80tM2y",
        "outputId": "c0313ee5-d662-4da6-c4c4-a8b613c52b96"
      },
      "source": [
        "data_human2_renamed.head()"
      ],
      "execution_count": 47,
      "outputs": [
        {
          "output_type": "execute_result",
          "data": {
            "text/html": [
              "<div>\n",
              "<style scoped>\n",
              "    .dataframe tbody tr th:only-of-type {\n",
              "        vertical-align: middle;\n",
              "    }\n",
              "\n",
              "    .dataframe tbody tr th {\n",
              "        vertical-align: top;\n",
              "    }\n",
              "\n",
              "    .dataframe thead th {\n",
              "        text-align: right;\n",
              "    }\n",
              "</style>\n",
              "<table border=\"1\" class=\"dataframe\">\n",
              "  <thead>\n",
              "    <tr style=\"text-align: right;\">\n",
              "      <th></th>\n",
              "      <th>patientNumber</th>\n",
              "      <th>sex</th>\n",
              "      <th>age</th>\n",
              "      <th>nationality</th>\n",
              "    </tr>\n",
              "  </thead>\n",
              "  <tbody>\n",
              "    <tr>\n",
              "      <th>1987</th>\n",
              "      <td>1988</td>\n",
              "      <td>ชาย</td>\n",
              "      <td>0.10</td>\n",
              "      <td>Thailand</td>\n",
              "    </tr>\n",
              "    <tr>\n",
              "      <th>6477</th>\n",
              "      <td>6478</td>\n",
              "      <td>หญิง</td>\n",
              "      <td>0.11</td>\n",
              "      <td>Thailand</td>\n",
              "    </tr>\n",
              "    <tr>\n",
              "      <th>11497</th>\n",
              "      <td>11498</td>\n",
              "      <td>ชาย</td>\n",
              "      <td>0.11</td>\n",
              "      <td>Burma</td>\n",
              "    </tr>\n",
              "    <tr>\n",
              "      <th>1675</th>\n",
              "      <td>1676</td>\n",
              "      <td>ชาย</td>\n",
              "      <td>0.30</td>\n",
              "      <td>Japan</td>\n",
              "    </tr>\n",
              "    <tr>\n",
              "      <th>1075</th>\n",
              "      <td>1076</td>\n",
              "      <td>ชาย</td>\n",
              "      <td>0.40</td>\n",
              "      <td>Thailand</td>\n",
              "    </tr>\n",
              "  </tbody>\n",
              "</table>\n",
              "</div>"
            ],
            "text/plain": [
              "       patientNumber   sex   age nationality\n",
              "1987            1988   ชาย  0.10    Thailand\n",
              "6477            6478  หญิง  0.11    Thailand\n",
              "11497          11498   ชาย  0.11       Burma\n",
              "1675            1676   ชาย  0.30       Japan\n",
              "1075            1076   ชาย  0.40    Thailand"
            ]
          },
          "metadata": {
            "tags": []
          },
          "execution_count": 47
        }
      ]
    },
    {
      "cell_type": "markdown",
      "metadata": {
        "id": "qj8zkGhh4yJC"
      },
      "source": [
        "### เพิ่ม column \r\n",
        " จากตาราง data_human2_renamed **เพิ่ม column** ['num'] เข้าไป ค่าที่ถูกนำไปใส่ คือ range(0-ตัวเลขก่อนหน้า) ของจำนวน 'แถว' ของ data_human2_renamed "
      ]
    },
    {
      "cell_type": "code",
      "metadata": {
        "colab": {
          "base_uri": "https://localhost:8080/",
          "height": 408
        },
        "id": "XpriLE632hoZ",
        "outputId": "87d606cc-19ea-4ff0-9a07-bdd3c124149c"
      },
      "source": [
        "data_human2_renamed['num'] = range(data_human2_renamed.shape[0])\r\n",
        "data_human2_renamed"
      ],
      "execution_count": 63,
      "outputs": [
        {
          "output_type": "execute_result",
          "data": {
            "text/html": [
              "<div>\n",
              "<style scoped>\n",
              "    .dataframe tbody tr th:only-of-type {\n",
              "        vertical-align: middle;\n",
              "    }\n",
              "\n",
              "    .dataframe tbody tr th {\n",
              "        vertical-align: top;\n",
              "    }\n",
              "\n",
              "    .dataframe thead th {\n",
              "        text-align: right;\n",
              "    }\n",
              "</style>\n",
              "<table border=\"1\" class=\"dataframe\">\n",
              "  <thead>\n",
              "    <tr style=\"text-align: right;\">\n",
              "      <th></th>\n",
              "      <th>patientNumber</th>\n",
              "      <th>sex</th>\n",
              "      <th>age</th>\n",
              "      <th>nationality</th>\n",
              "      <th>num</th>\n",
              "    </tr>\n",
              "  </thead>\n",
              "  <tbody>\n",
              "    <tr>\n",
              "      <th>1987</th>\n",
              "      <td>1988</td>\n",
              "      <td>ชาย</td>\n",
              "      <td>0.10</td>\n",
              "      <td>Thailand</td>\n",
              "      <td>0</td>\n",
              "    </tr>\n",
              "    <tr>\n",
              "      <th>6477</th>\n",
              "      <td>6478</td>\n",
              "      <td>หญิง</td>\n",
              "      <td>0.11</td>\n",
              "      <td>Thailand</td>\n",
              "      <td>1</td>\n",
              "    </tr>\n",
              "    <tr>\n",
              "      <th>11497</th>\n",
              "      <td>11498</td>\n",
              "      <td>ชาย</td>\n",
              "      <td>0.11</td>\n",
              "      <td>Burma</td>\n",
              "      <td>2</td>\n",
              "    </tr>\n",
              "    <tr>\n",
              "      <th>1675</th>\n",
              "      <td>1676</td>\n",
              "      <td>ชาย</td>\n",
              "      <td>0.30</td>\n",
              "      <td>Japan</td>\n",
              "      <td>3</td>\n",
              "    </tr>\n",
              "    <tr>\n",
              "      <th>1075</th>\n",
              "      <td>1076</td>\n",
              "      <td>ชาย</td>\n",
              "      <td>0.40</td>\n",
              "      <td>Thailand</td>\n",
              "      <td>4</td>\n",
              "    </tr>\n",
              "    <tr>\n",
              "      <th>...</th>\n",
              "      <td>...</td>\n",
              "      <td>...</td>\n",
              "      <td>...</td>\n",
              "      <td>...</td>\n",
              "      <td>...</td>\n",
              "    </tr>\n",
              "    <tr>\n",
              "      <th>12405</th>\n",
              "      <td>12406</td>\n",
              "      <td>NaN</td>\n",
              "      <td>NaN</td>\n",
              "      <td>NaN</td>\n",
              "      <td>12418</td>\n",
              "    </tr>\n",
              "    <tr>\n",
              "      <th>12406</th>\n",
              "      <td>12407</td>\n",
              "      <td>NaN</td>\n",
              "      <td>NaN</td>\n",
              "      <td>NaN</td>\n",
              "      <td>12419</td>\n",
              "    </tr>\n",
              "    <tr>\n",
              "      <th>12407</th>\n",
              "      <td>12408</td>\n",
              "      <td>NaN</td>\n",
              "      <td>NaN</td>\n",
              "      <td>NaN</td>\n",
              "      <td>12420</td>\n",
              "    </tr>\n",
              "    <tr>\n",
              "      <th>12408</th>\n",
              "      <td>12409</td>\n",
              "      <td>NaN</td>\n",
              "      <td>NaN</td>\n",
              "      <td>NaN</td>\n",
              "      <td>12421</td>\n",
              "    </tr>\n",
              "    <tr>\n",
              "      <th>12409</th>\n",
              "      <td>12410</td>\n",
              "      <td>NaN</td>\n",
              "      <td>NaN</td>\n",
              "      <td>NaN</td>\n",
              "      <td>12422</td>\n",
              "    </tr>\n",
              "  </tbody>\n",
              "</table>\n",
              "<p>12423 rows × 5 columns</p>\n",
              "</div>"
            ],
            "text/plain": [
              "       patientNumber   sex   age nationality    num\n",
              "1987            1988   ชาย  0.10    Thailand      0\n",
              "6477            6478  หญิง  0.11    Thailand      1\n",
              "11497          11498   ชาย  0.11       Burma      2\n",
              "1675            1676   ชาย  0.30       Japan      3\n",
              "1075            1076   ชาย  0.40    Thailand      4\n",
              "...              ...   ...   ...         ...    ...\n",
              "12405          12406   NaN   NaN         NaN  12418\n",
              "12406          12407   NaN   NaN         NaN  12419\n",
              "12407          12408   NaN   NaN         NaN  12420\n",
              "12408          12409   NaN   NaN         NaN  12421\n",
              "12409          12410   NaN   NaN         NaN  12422\n",
              "\n",
              "[12423 rows x 5 columns]"
            ]
          },
          "metadata": {
            "tags": []
          },
          "execution_count": 63
        }
      ]
    },
    {
      "cell_type": "markdown",
      "metadata": {
        "id": "rqOfcOht52bj"
      },
      "source": [
        "ลำดับที่อยู่ใน  'patientNumber'  ให้เป็นลำดับเดียวกับ 'No.' ที่อยู่ใน data_covid แล้วในลำดับนั้นเนี่ย ให้เอาค่าที่อยู่ใน column ชื่อ  'risk' มา"
      ]
    },
    {
      "cell_type": "code",
      "metadata": {
        "id": "LIbxg1B22hl7"
      },
      "source": [
        "data_human2_renamed['patientNumber'].map(data_covid.set_index('No.')['risk']) #.map มันจะ ผูกค่า 'patientNumber' กับ 'No.' เข้าด้วยกัน แล้ว return list ของค่า ['risk']"
      ],
      "execution_count": null,
      "outputs": []
    },
    {
      "cell_type": "code",
      "metadata": {
        "id": "HC2ERATr2hje"
      },
      "source": [
        "data_human2_renamed['detail'] = data_human2_renamed['patientNumber'].map(data_covid.set_index('No.')['risk'])\r\n",
        "data_human2_renamed"
      ],
      "execution_count": null,
      "outputs": []
    },
    {
      "cell_type": "code",
      "metadata": {
        "id": "9_4dkFET2hhG"
      },
      "source": [
        ""
      ],
      "execution_count": null,
      "outputs": []
    },
    {
      "cell_type": "markdown",
      "metadata": {
        "id": "Zvk8DvA26t07"
      },
      "source": [
        "## HW7 สร้างตารางใหม่ ที่ค่าใน ```sex``` เป็น missing ทั้งหมด\r\n",
        "- สรุปว่าทำไม record นั้นๆ ถึงเป็น missing \r\n",
        "\r\n",
        "สรุป ใน 100% มีกี่เปอร์เซ็นที่มาจาก..... "
      ]
    },
    {
      "cell_type": "code",
      "metadata": {
        "id": "SbLEiksS6unU"
      },
      "source": [
        ""
      ],
      "execution_count": null,
      "outputs": []
    },
    {
      "cell_type": "code",
      "metadata": {
        "id": "vckeMFn36utX"
      },
      "source": [
        ""
      ],
      "execution_count": null,
      "outputs": []
    },
    {
      "cell_type": "code",
      "metadata": {
        "id": "S5NyTeAG6uqJ"
      },
      "source": [
        ""
      ],
      "execution_count": null,
      "outputs": []
    }
  ]
}