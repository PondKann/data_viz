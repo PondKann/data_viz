{
  "nbformat": 4,
  "nbformat_minor": 0,
  "metadata": {
    "colab": {
      "name": "Pandas 101.ipynb",
      "provenance": [],
      "include_colab_link": true
    },
    "kernelspec": {
      "name": "python3",
      "display_name": "Python 3"
    }
  },
  "cells": [
    {
      "cell_type": "markdown",
      "metadata": {
        "id": "view-in-github",
        "colab_type": "text"
      },
      "source": [
        "<a href=\"https://colab.research.google.com/github/PondKann/data_viz/blob/main/Pandas_101.ipynb\" target=\"_parent\"><img src=\"https://colab.research.google.com/assets/colab-badge.svg\" alt=\"Open In Colab\"/></a>"
      ]
    },
    {
      "cell_type": "code",
      "metadata": {
        "id": "k2sCV_gkmrbE"
      },
      "source": [
        "import pandas as pd"
      ],
      "execution_count": 1,
      "outputs": []
    },
    {
      "cell_type": "code",
      "metadata": {
        "colab": {
          "base_uri": "https://localhost:8080/"
        },
        "id": "WiPy59j9m4rA",
        "outputId": "05d74f2d-71d2-46b2-e58e-cfd5b073ce7c"
      },
      "source": [
        "from google.colab import drive\r\n",
        "drive.mount('/content/drive')"
      ],
      "execution_count": 2,
      "outputs": [
        {
          "output_type": "stream",
          "text": [
            "Mounted at /content/drive\n"
          ],
          "name": "stdout"
        }
      ]
    },
    {
      "cell_type": "code",
      "metadata": {
        "id": "SkPN8Mfvm4oh",
        "colab": {
          "base_uri": "https://localhost:8080/"
        },
        "outputId": "b104dea5-52bc-4758-d1f2-a9c23a57d75f"
      },
      "source": [
        "# เรียกใช้ฟังก์ชั่น os เกี่ยวกับการจัดการไฟล์ เรียกไฟล์ ลบ \r\n",
        "import os\r\n",
        "path = '/content/drive/My Drive/DataViz_2021'\r\n",
        "os.listdir(path)"
      ],
      "execution_count": 3,
      "outputs": [
        {
          "output_type": "execute_result",
          "data": {
            "text/plain": [
              "['pm-18-jan-2021.csv', 'covid-19-daily_data_dictionary.xlsx']"
            ]
          },
          "metadata": {
            "tags": []
          },
          "execution_count": 3
        }
      ]
    },
    {
      "cell_type": "code",
      "metadata": {
        "colab": {
          "base_uri": "https://localhost:8080/"
        },
        "id": "gQlx4oPgrW94",
        "outputId": "ada5a81e-779b-48af-eec1-9f0977b72d5c"
      },
      "source": [
        "covid_file_path = os.path.join(path,'pm-18-jan-2021.csv')\r\n",
        "print(covid_file_path)"
      ],
      "execution_count": 4,
      "outputs": [
        {
          "output_type": "stream",
          "text": [
            "/content/drive/My Drive/DataViz_2021/pm-18-jan-2021.csv\n"
          ],
          "name": "stdout"
        }
      ]
    },
    {
      "cell_type": "code",
      "metadata": {
        "colab": {
          "base_uri": "https://localhost:8080/"
        },
        "id": "EvLOsRFSr-Gg",
        "outputId": "423bd89f-fba2-4a13-d68d-a8c4578ad0a7"
      },
      "source": [
        "#ใช้ได้เหมือน os\r\n",
        "a = path + '/covid_file_path'\r\n",
        "print(a)"
      ],
      "execution_count": null,
      "outputs": [
        {
          "output_type": "stream",
          "text": [
            "/content/drive/My Drive/DataViz_2021/covid_file_path\n"
          ],
          "name": "stdout"
        }
      ]
    },
    {
      "cell_type": "markdown",
      "metadata": {
        "id": "WGM7_8GutAB7"
      },
      "source": [
        "### Load data to memory\r\n",
        "ใส่ ```edcoding='utf-8'``` หรือ ```encoding='latin1'``` ถ้าภาษาไม่ตรงกับ"
      ]
    },
    {
      "cell_type": "code",
      "metadata": {
        "id": "ntFTveeBr-AV"
      },
      "source": [
        "data_covid = pd.read_csv(covid_file_path)\r\n",
        "data_covid"
      ],
      "execution_count": null,
      "outputs": []
    },
    {
      "cell_type": "code",
      "metadata": {
        "colab": {
          "base_uri": "https://localhost:8080/"
        },
        "id": "vyT-Hl8ur937",
        "outputId": "57ac4378-b11f-4054-be50-a253ec24f787"
      },
      "source": [
        "data_covid.shape"
      ],
      "execution_count": null,
      "outputs": [
        {
          "output_type": "execute_result",
          "data": {
            "text/plain": [
              "(12423, 10)"
            ]
          },
          "metadata": {
            "tags": []
          },
          "execution_count": 7
        }
      ]
    },
    {
      "cell_type": "markdown",
      "metadata": {
        "id": "fVWq89i6zRPC"
      },
      "source": [
        "### การชี้ค่าในตาราง"
      ]
    },
    {
      "cell_type": "code",
      "metadata": {
        "id": "PFbiMf3dxH4W"
      },
      "source": [
        "data_covid['province_of_onset']"
      ],
      "execution_count": null,
      "outputs": []
    },
    {
      "cell_type": "code",
      "metadata": {
        "colab": {
          "base_uri": "https://localhost:8080/",
          "height": 34
        },
        "id": "WZ2jQDdgyr_I",
        "outputId": "fd93e030-6f44-4308-833e-882e97170f3a"
      },
      "source": [
        "data_covid['province_of_onset'][4]"
      ],
      "execution_count": null,
      "outputs": [
        {
          "output_type": "execute_result",
          "data": {
            "application/vnd.google.colaboratory.intrinsic+json": {
              "type": "string"
            },
            "text/plain": [
              "'กรุงเทพมหานคร'"
            ]
          },
          "metadata": {
            "tags": []
          },
          "execution_count": 9
        }
      ]
    },
    {
      "cell_type": "markdown",
      "metadata": {
        "id": "ASqoDBKI0Iie"
      },
      "source": [
        "#### .iloc\r\n",
        "ชี้ตามลำดับ"
      ]
    },
    {
      "cell_type": "code",
      "metadata": {
        "colab": {
          "base_uri": "https://localhost:8080/",
          "height": 34
        },
        "id": "v-O9nIbDyr8I",
        "outputId": "d005a7d9-3727-4d2f-8a10-a5b379dfff70"
      },
      "source": [
        "data_covid.iloc[4,7]"
      ],
      "execution_count": null,
      "outputs": [
        {
          "output_type": "execute_result",
          "data": {
            "application/vnd.google.colaboratory.intrinsic+json": {
              "type": "string"
            },
            "text/plain": [
              "'กรุงเทพมหานคร'"
            ]
          },
          "metadata": {
            "tags": []
          },
          "execution_count": 10
        }
      ]
    },
    {
      "cell_type": "markdown",
      "metadata": {
        "id": "x7VNqnke024n"
      },
      "source": [
        "## Table slicing"
      ]
    },
    {
      "cell_type": "markdown",
      "metadata": {
        "id": "22HirNQK0_iW"
      },
      "source": [
        "### ตัดมาเฉพาะ column ที่ต้องการ"
      ]
    },
    {
      "cell_type": "code",
      "metadata": {
        "id": "qKy2QBF-0FJ1"
      },
      "source": [
        "smaller_table = data_covid[['announce_date','province_of_onset','risk']]\r\n",
        "smaller_table"
      ],
      "execution_count": null,
      "outputs": []
    },
    {
      "cell_type": "markdown",
      "metadata": {
        "id": "2m2ttIOC2Mqd"
      },
      "source": [
        "### ตัดเฉพาะ rows ที่ต้องการ"
      ]
    },
    {
      "cell_type": "markdown",
      "metadata": {
        "id": "uzpHyh092Vty"
      },
      "source": [
        "แบบง่าย แต่ใช้การอะไรไม่ค่อยได้ (มองเป็น array แล้วตัดแบบ array)"
      ]
    },
    {
      "cell_type": "code",
      "metadata": {
        "id": "1CZNRhwQ2Lcm"
      },
      "source": [
        "data_covid.iloc[1:5,:] #แถวที่1-4 เอาทุก ๆ คอลัมน์"
      ],
      "execution_count": null,
      "outputs": []
    },
    {
      "cell_type": "markdown",
      "metadata": {
        "id": "MoFLPBNJ2116"
      },
      "source": [
        "แบบ advanced แต่ใช้ปะโยชน์ได้เยอะกว่า (ตัดแบบใช้ logic query)"
      ]
    },
    {
      "cell_type": "code",
      "metadata": {
        "id": "zx9Qoepy2LUJ"
      },
      "source": [
        "data_covid[data_covid['province_of_onset']=='ขอนแก่น']"
      ],
      "execution_count": null,
      "outputs": []
    },
    {
      "cell_type": "markdown",
      "metadata": {
        "id": "Gst74U3Mw0N9"
      },
      "source": [
        "### การชี้ค่าในตารางด้วย data_covid[**x**]  \r\n",
        "ค่า **x** สามารถมีค่าที่ใส่เข้าไปได้ 2 แบบ\r\n",
        "\r\n",
        "1. ชื่อ column\r\n",
        "2. ใส่ rows ที่ต้องการ (ใส่ list ที่มีขนาดเท่ากับจำนวนแถว แล้วบอกว่าเอา แถวไหนบ้างโดยใช้ logical expression (True/False))"
      ]
    },
    {
      "cell_type": "code",
      "metadata": {
        "id": "Am7uQ_PU3qh9"
      },
      "source": [
        "eight_rows_covid = data_covid.iloc[:8,:] # แถว คนที่ 1 -8  , เอามาทุกคอมลัมป์\r\n",
        "eight_rows_covid"
      ],
      "execution_count": null,
      "outputs": []
    },
    {
      "cell_type": "code",
      "metadata": {
        "id": "dlqaJinW3qaq"
      },
      "source": [
        "eight_rows_covid[[True,False,True,True,False,True,False,False]]  # เลือกว่าเอาแถวไหนมาบ้าง ให้ ใส่ True - False"
      ],
      "execution_count": null,
      "outputs": []
    },
    {
      "cell_type": "code",
      "metadata": {
        "id": "lyY8xqpN3qST"
      },
      "source": [
        "eight_rows_covid['province_of_onset'] == 'กรุงเทพมหานคร'"
      ],
      "execution_count": null,
      "outputs": []
    },
    {
      "cell_type": "markdown",
      "metadata": {
        "id": "w6Gs6ypD14WS"
      },
      "source": [
        "จาก **```eight_rows_covid```** ข้างบนที่เป็นตารางใหญ่สุด  ->  ให้ชี้ไปที่ ตาราง **```eight_rows_covid```** ที่คอลัมน์  **```'province_of_onset'```** เอามาแค่ แถว **```กรุงเทพมหานคร```** แถวอื่น ๆ ใน province_of_onset ให้ตัดออกเลย คอมลัมน์อื่น ใน ```eight_rows_covid``` ตารางใหญ่ ยังคงอยู่"
      ]
    },
    {
      "cell_type": "code",
      "metadata": {
        "id": "ckzb4rGZw9B1"
      },
      "source": [
        "eight_rows_covid[eight_rows_covid['province_of_onset'] == 'กรุงเทพมหานคร']  #เราเอา 2 บรรทัดบนมาบวกกัน "
      ],
      "execution_count": null,
      "outputs": []
    },
    {
      "cell_type": "markdown",
      "metadata": {
        "id": "SomnLWEb7v-w"
      },
      "source": [
        "## HW6 (ให้ใช้เฉพาะที่อาจารย์สอนไปแล้วในวิชานี้)\r\n",
        "1. คำนวณ อายุเฉลี่ย ของ ผู้หญิง และผู้ชาย ของข้อมูลทั้งหมด\r\n",
        "2. คำนวณ อายุเฉลี่ย ของ ผู้หญิง และผู้ชาย ของผู้ป่วยในจังหวัดขอนแก่น"
      ]
    },
    {
      "cell_type": "markdown",
      "metadata": {
        "id": "ClrLKter8twR"
      },
      "source": [
        "Quiz 3. หาจำนวนผู้ป่วยที่เป็น **'คนต่างชาติเดินทางมาจากต่างประเทศ'**"
      ]
    },
    {
      "cell_type": "code",
      "metadata": {
        "colab": {
          "base_uri": "https://localhost:8080/"
        },
        "id": "rZ_Dme386mlZ",
        "outputId": "5a7a483f-b992-4e6e-f9f1-b6cc66268121"
      },
      "source": [
        "data_covid[data_covid['risk']=='คนต่างชาติเดินทางมาจากต่างประเทศ'].shape[0]"
      ],
      "execution_count": null,
      "outputs": [
        {
          "output_type": "execute_result",
          "data": {
            "text/plain": [
              "155"
            ]
          },
          "metadata": {
            "tags": []
          },
          "execution_count": 17
        }
      ]
    },
    {
      "cell_type": "markdown",
      "metadata": {
        "id": "XNbQAnrafzeI"
      },
      "source": [
        "### 1. คำนวณ อายุเฉลี่ย ของ ผู้หญิง และผู้ชาย ของข้อมูลทั้งหมด"
      ]
    },
    {
      "cell_type": "code",
      "metadata": {
        "id": "IDp7OS4sbwQq"
      },
      "source": [
        "data_all = data_covid[['sex','age']]\r\n",
        "dataF_all = data_all[data_all['sex']=='หญิง']\r\n",
        "female = dataF_all[['age']].values\r\n",
        "female"
      ],
      "execution_count": null,
      "outputs": []
    },
    {
      "cell_type": "code",
      "metadata": {
        "id": "NBb2H0T4XteG",
        "colab": {
          "base_uri": "https://localhost:8080/"
        },
        "outputId": "faf25b9e-1f3d-4e3c-eb21-50d9debcfd1c"
      },
      "source": [
        "sum_f = 0 \r\n",
        "count = 0 \r\n",
        "for i in female:\r\n",
        "  if i >= 0:\r\n",
        "    sum_f +=  float(i)\r\n",
        "    count+=1\r\n",
        "print(f' รวม {sum_f}  จำนวน {count} คน')\r\n",
        "print(f' อายุเฉลี่ยของผู้ป่วยหญิงทั้งหมด เท่ากับ {sum_f/count} ')"
      ],
      "execution_count": null,
      "outputs": [
        {
          "output_type": "stream",
          "text": [
            " รวม 157440.11  จำนวน 4289 คน\n",
            " อายุเฉลี่ยของผู้ป่วยหญิงทั้งหมด เท่ากับ 36.70788295640009 \n"
          ],
          "name": "stdout"
        }
      ]
    },
    {
      "cell_type": "code",
      "metadata": {
        "id": "_zeCVcDZXhjQ"
      },
      "source": [
        "data_all = data_covid[['sex','age']]\r\n",
        "dataM_all = data_all[data_all['sex']=='ชาย']\r\n",
        "male = dataM_all[['age']].values\r\n",
        "male"
      ],
      "execution_count": null,
      "outputs": []
    },
    {
      "cell_type": "code",
      "metadata": {
        "id": "d_cswmv2edQ1",
        "colab": {
          "base_uri": "https://localhost:8080/"
        },
        "outputId": "fc3a31b7-0005-463d-9501-1bcd28a41864"
      },
      "source": [
        "sum_m = 0 \r\n",
        "count = 0 \r\n",
        "for i in male:\r\n",
        "  if i >= 0:\r\n",
        "    sum_m +=  float(i)\r\n",
        "    count+=1\r\n",
        "print(f' รวม {sum_m}  จำนวน {count} คน')\r\n",
        "print(f' อายุเฉลี่ยของผู้ป่วยชายทั้งหมด เท่ากับ {sum_m/count} ')"
      ],
      "execution_count": null,
      "outputs": [
        {
          "output_type": "stream",
          "text": [
            " รวม 172705.11  จำนวน 4366 คน\n",
            " อายุเฉลี่ยของผู้ป่วยชายทั้งหมด เท่ากับ 39.55682775996335 \n"
          ],
          "name": "stdout"
        }
      ]
    },
    {
      "cell_type": "markdown",
      "metadata": {
        "id": "fk6cNnzIgLWJ"
      },
      "source": [
        "### 2. คำนวณ อายุเฉลี่ย ของ ผู้หญิง และผู้ชาย ของผู้ป่วยในจังหวัดขอนแก่น"
      ]
    },
    {
      "cell_type": "code",
      "metadata": {
        "id": "X-_KFPvzedNm"
      },
      "source": [
        "data_kk = data_covid[data_covid['province_of_onset']=='ขอนแก่น']\r\n",
        "data_kk1 = data_kk[['sex','age']]\r\n",
        "dataF_kk = data_kk1[data_all['sex']=='หญิง']\r\n",
        "female_kk = dataF_kk[['age']].values\r\n",
        "female_kk"
      ],
      "execution_count": null,
      "outputs": []
    },
    {
      "cell_type": "code",
      "metadata": {
        "id": "HnL2tltNgbmP",
        "colab": {
          "base_uri": "https://localhost:8080/"
        },
        "outputId": "c7e3692c-6c14-4e23-847a-de383400801d"
      },
      "source": [
        "sum_f = 0 \r\n",
        "count = 0 \r\n",
        "for i in female_kk:\r\n",
        "  if i >= 0:\r\n",
        "    sum_f +=  float(i)\r\n",
        "    count+=1\r\n",
        "print(f' รวม {sum_f}  จำนวน {count} คน')\r\n",
        "print(f' อายุเฉลี่ยของผู้ป่วยหญิงทั้งหมดในขอนแก่น เท่ากับ {sum_f/count} ')"
      ],
      "execution_count": null,
      "outputs": [
        {
          "output_type": "stream",
          "text": [
            " รวม 291.0  จำนวน 7 คน\n",
            " อายุเฉลี่ยของผู้ป่วยหญิงทั้งหมดในขอนแก่น เท่ากับ 41.57142857142857 \n"
          ],
          "name": "stdout"
        }
      ]
    },
    {
      "cell_type": "code",
      "metadata": {
        "id": "4NSt7bmegW5z"
      },
      "source": [
        "dataM_kk = data_kk1[data_all['sex']=='ชาย']\r\n",
        "male_kk = dataM_kk[['age']].values\r\n",
        "male_kk"
      ],
      "execution_count": null,
      "outputs": []
    },
    {
      "cell_type": "code",
      "metadata": {
        "id": "62k2j21cgW3T",
        "colab": {
          "base_uri": "https://localhost:8080/"
        },
        "outputId": "db9de515-2220-4a7b-f4e4-1e95c7f2749f"
      },
      "source": [
        "sum_f = 0 \r\n",
        "count = 0 \r\n",
        "for i in male_kk:\r\n",
        "  if i >= 0:\r\n",
        "    sum_f +=  float(i)\r\n",
        "    count+=1\r\n",
        "print(f' รวม {sum_f}  จำนวน {count} คน')\r\n",
        "print(f' อายุเฉลี่ยของผู้ป่วยชายทั้งหมดในขอนแก่น เท่ากับ {sum_f/count} ')"
      ],
      "execution_count": null,
      "outputs": [
        {
          "output_type": "stream",
          "text": [
            " รวม 186.0  จำนวน 7 คน\n",
            " อายุเฉลี่ยของผู้ป่วยชายทั้งหมดในขอนแก่น เท่ากับ 26.571428571428573 \n"
          ],
          "name": "stdout"
        }
      ]
    },
    {
      "cell_type": "markdown",
      "metadata": {
        "id": "REsPWKyTb_lv"
      },
      "source": [
        "## การจัดการ missing\r\n",
        "- ลบ record ที่เป็น  missing\r\n",
        "- แทนที่ ค่า missing ด้วยค่าที่เหมาะสม mean, default, category-unknown\r\n",
        "- ใช้ ค่าจาก columns อื่น ๆ ช่วยประมาณค่า ใน column ที่หายไป (regression, deep learning, ect.)"
      ]
    },
    {
      "cell_type": "markdown",
      "metadata": {
        "id": "qPwFHRrfegxW"
      },
      "source": [
        " ###  ลบ record (dropna)\r\n",
        " missing =  ` ` ` None ` ` `  ` ` ` NA` ` `(not autorized)  ` ` `Nan ` ` `(not number)"
      ]
    },
    {
      "cell_type": "code",
      "metadata": {
        "id": "sSgfPRTFege3"
      },
      "source": [
        "this_data = data_covid[['age','sex','province_of_onset']]\r\n",
        "this_data"
      ],
      "execution_count": null,
      "outputs": []
    },
    {
      "cell_type": "code",
      "metadata": {
        "colab": {
          "base_uri": "https://localhost:8080/"
        },
        "id": "mvXL5jy9egcR",
        "outputId": "5991ecc7-4350-485c-8f32-462d0e7536ce"
      },
      "source": [
        "this_data.shape"
      ],
      "execution_count": null,
      "outputs": [
        {
          "output_type": "execute_result",
          "data": {
            "text/plain": [
              "(12423, 3)"
            ]
          },
          "metadata": {
            "tags": []
          },
          "execution_count": 10
        }
      ]
    },
    {
      "cell_type": "code",
      "metadata": {
        "colab": {
          "base_uri": "https://localhost:8080/"
        },
        "id": "A6m7TLM3gOhC",
        "outputId": "a1e51421-7003-4c3e-aa20-a7e9f3750854"
      },
      "source": [
        "print(data_covid.shape)\r\n",
        "print(data_covid.dropna().shape)"
      ],
      "execution_count": null,
      "outputs": [
        {
          "output_type": "stream",
          "text": [
            "(12423, 10)\n",
            "(6430, 10)\n"
          ],
          "name": "stdout"
        }
      ]
    },
    {
      "cell_type": "code",
      "metadata": {
        "colab": {
          "base_uri": "https://localhost:8080/"
        },
        "id": "v7ss1H_ugOVx",
        "outputId": "08187cbf-731c-48d0-b5db-8392dbc121eb"
      },
      "source": [
        "this_data.dropna(inplace=True) # inplace=True อัพเดตค่าในตารางเลย\r\n",
        "this_data.shape"
      ],
      "execution_count": null,
      "outputs": [
        {
          "output_type": "execute_result",
          "data": {
            "text/plain": [
              "(8253, 3)"
            ]
          },
          "metadata": {
            "tags": []
          },
          "execution_count": 18
        }
      ]
    },
    {
      "cell_type": "markdown",
      "metadata": {
        "id": "NvSu5tONj632"
      },
      "source": [
        "### แทน missing ด้วยค่าที่เหมาะสม (fillna)"
      ]
    },
    {
      "cell_type": "code",
      "metadata": {
        "id": "RZ8B9a4ImKvA"
      },
      "source": [
        "this_data = data_covid[['age','sex','province_of_onset']]\r\n",
        "this_data.head()"
      ],
      "execution_count": null,
      "outputs": []
    },
    {
      "cell_type": "code",
      "metadata": {
        "colab": {
          "base_uri": "https://localhost:8080/"
        },
        "id": "0PV9eSZChhXL",
        "outputId": "00cbe5b5-32e7-4d4f-c304-9e763599ec05"
      },
      "source": [
        "print(f'จำนวน record ก่อน drop missing ใน province {this_data.shape[0]}')\r\n",
        "print(f\"จำนวน record หลัง drop missing ใน province {this_data.dropna(subset=['province_of_onset']).shape[0]}\")"
      ],
      "execution_count": null,
      "outputs": [
        {
          "output_type": "stream",
          "text": [
            "จำนวน record ก่อน drop missing ใน province 12423\n",
            "จำนวน record หลัง drop missing ใน province 10432\n"
          ],
          "name": "stdout"
        }
      ]
    },
    {
      "cell_type": "code",
      "metadata": {
        "id": "Tc_-qQ1VhhUZ"
      },
      "source": [
        "this_data_updated = this_data.fillna(value={'sex' : 'ไม่รู้', 'age' : -1, 'province_of_onset': 'ไม่รู้' })\r\n",
        "this_data_updated.head()"
      ],
      "execution_count": null,
      "outputs": []
    },
    {
      "cell_type": "markdown",
      "metadata": {
        "id": "uSi6Zh9U3H2Z"
      },
      "source": [
        "1. จาก **```data_covid```** เป็นตารางใหญ่สุด  ->  ให้ชี้ไปที่ ตาราง **```this_data_updated```** ที่คอลัมน์  **```'sex'```**  (ทั้ง2ตารางจะมีจำนวนแถวเท่ากัน)\r\n",
        "2. **```'sex'```**  เอามาแค่ แถว **```ไม่รู้```** แถวอื่น ๆ ใน 'sex' ที่ไม่ใช่ ค่า  **ไม่รู้** ให้ตัดออกเลย(ตัดในตารางใหญ่ด้วย) ส่วนคอลัมน์อื่น ๆ ใน ```data_covid``` ตารางใหญ่ ยังคงอยู่ \r\n",
        "3. ผลที่ออกมา จะเป็นค่าที่อยู่ในตาราง **```data_covid```** ตารางใหญ่ทั้งหมด โดยจะเป็นส่วนที่เหลือจากที่ถูกตัด แถว(ที่ไม่ใช่ค่า **ไม่รู้** ) ออกไปแล้ว"
      ]
    },
    {
      "cell_type": "code",
      "metadata": {
        "id": "0NW6Zln6hhRO"
      },
      "source": [
        "data_covid[this_data_updated['sex'] == 'ไม่รู้']"
      ],
      "execution_count": null,
      "outputs": []
    },
    {
      "cell_type": "code",
      "metadata": {
        "id": "Dg2xvmSSsy3o"
      },
      "source": [
        "this_data_updated2 = this_data.fillna(value={'province_of_onset': 'ไม่รู้' }) #this_data_updated2  เติมแค่ missing ให้ province_of_onset เท่านั้น\r\n",
        "this_data_updated2.head()"
      ],
      "execution_count": null,
      "outputs": []
    },
    {
      "cell_type": "markdown",
      "metadata": {
        "id": "8SVnj3nM6MYe"
      },
      "source": [
        "1. จาก **```this_data_updated2```** เป็นตารางใหญ่สุด(ตารางหลัก)  ->  ให้ชี้ไปที่ ตาราง **```this_data_updated```** ที่คอลัมน์  **```'sex'```**  (ทั้ง2ตารางจะมีจำนวนแถวเท่ากัน)\r\n",
        "2. **```'sex'```**  เอามาแค่ แถว **```ไม่รู้```** แถวอื่น ๆ ใน 'sex' ที่ไม่ใช่ ค่า  **อื่น** ให้ตัดออกเลย(ตัดแถวในตารางใหญ่ด้วย) ส่วนคอลัมน์อื่น ๆ ใน ```this_data_updated2``` ตารางใหญ่ ยังคงอยู่ \r\n",
        "3. ผลที่ออกมา จะเป็นค่าที่อยู่ในตาราง **```this_data_updated2```** ตารางใหญ่ทั้งหมด โดยจะเป็นส่วนที่เหลือจากที่ถูกตัด แถว(ที่ไม่ใช่ค่า **ไม่รู้** ) ออกไปแล้ว"
      ]
    },
    {
      "cell_type": "code",
      "metadata": {
        "id": "SN_pxWCStW8L"
      },
      "source": [
        "this_data_updated2[this_data_updated['sex'] == 'ไม่รู้'].head()"
      ],
      "execution_count": null,
      "outputs": []
    },
    {
      "cell_type": "markdown",
      "metadata": {
        "id": "g-T_gcXZcKqv"
      },
      "source": [
        "## การวนลูป record ในตาราง (``` iterroes```)"
      ]
    },
    {
      "cell_type": "code",
      "metadata": {
        "id": "9xUzHwCXq_aF"
      },
      "source": [
        "this_data = data_covid[['age','sex','province_of_onset']]\r\n",
        "this_data"
      ],
      "execution_count": null,
      "outputs": []
    },
    {
      "cell_type": "code",
      "metadata": {
        "colab": {
          "base_uri": "https://localhost:8080/"
        },
        "id": "co0QixKwcEDP",
        "outputId": "69ca1b71-54b5-4a78-cdb0-b138df0f955f"
      },
      "source": [
        "for each_row in  this_data.iterrows():\r\n",
        "    #print(each_row)\r\n",
        "    #print(each_row[1])\r\n",
        "    if (each_row[1]['age'] == 20) and (each_row[1]['province_of_onset'] == 'ขอนแก่น') :\r\n",
        "        print(each_row)"
      ],
      "execution_count": 18,
      "outputs": [
        {
          "output_type": "stream",
          "text": [
            "(9334, age                       20\n",
            "sex                      ชาย\n",
            "province_of_onset    ขอนแก่น\n",
            "Name: 9334, dtype: object)\n"
          ],
          "name": "stdout"
        }
      ]
    },
    {
      "cell_type": "markdown",
      "metadata": {
        "id": "5sUB-pUysNvI"
      },
      "source": [
        "## การวนลูป แบบมองตารางแพนด้าส์ (pandas dataframe) เป็น numpy array (```.iloc ```)"
      ]
    },
    {
      "cell_type": "code",
      "metadata": {
        "id": "3Khmewfv7ank",
        "outputId": "46eecf9e-a802-40d3-f260-58547877a20a",
        "colab": {
          "base_uri": "https://localhost:8080/"
        }
      },
      "source": [
        "for each_row in range(this_data.shape[0]):  # วิ่งทีละแถว \r\n",
        "    if (this_data.iloc[each_row,0]==20) and (this_data.iloc[each_row,2]== 'ขอนแก่น') :   # each_row คือ ตัวเลข\r\n",
        "        print(this_data.iloc[each_row, : ])"
      ],
      "execution_count": 43,
      "outputs": [
        {
          "output_type": "stream",
          "text": [
            "age                       20\n",
            "sex                      ชาย\n",
            "province_of_onset    ขอนแก่น\n",
            "Name: 9334, dtype: object\n"
          ],
          "name": "stdout"
        }
      ]
    },
    {
      "cell_type": "markdown",
      "metadata": {
        "id": "IA4RBBmV0ftR"
      },
      "source": [
        "#Quiz  ตัดตารางออกมาเฉพาะปี 2021  (```announce_data ```) ในปี 2521\r\n",
        "\r\n",
        "\r\n",
        "1.  วนลูปหา index ของปี 2021 \r\n",
        "2.   ตัดตารางมาเฉพาะปี 2021\r\n",
        "\r\n"
      ]
    },
    {
      "cell_type": "code",
      "metadata": {
        "id": "CxZ9WWKIyF5a"
      },
      "source": [
        "data_covid"
      ],
      "execution_count": null,
      "outputs": []
    },
    {
      "cell_type": "code",
      "metadata": {
        "id": "MewenouH3E10"
      },
      "source": [
        "for nd in  data_covid.iterrows():\r\n",
        "    if (nd[1]['announce_date'] == '1/1/2021') : # 6885\r\n",
        "        print(nd)"
      ],
      "execution_count": null,
      "outputs": []
    },
    {
      "cell_type": "code",
      "metadata": {
        "id": "muH8qsUc3_M2"
      },
      "source": [
        "covid2021 = data_covid.iloc[6885:,:]\r\n",
        "covid2021"
      ],
      "execution_count": null,
      "outputs": []
    }
  ]
}