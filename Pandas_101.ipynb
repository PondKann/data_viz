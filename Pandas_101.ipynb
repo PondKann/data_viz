{
  "nbformat": 4,
  "nbformat_minor": 0,
  "metadata": {
    "colab": {
      "name": "Pandas 101.ipynb",
      "provenance": [],
      "include_colab_link": true
    },
    "kernelspec": {
      "name": "python3",
      "display_name": "Python 3"
    }
  },
  "cells": [
    {
      "cell_type": "markdown",
      "metadata": {
        "id": "view-in-github",
        "colab_type": "text"
      },
      "source": [
        "<a href=\"https://colab.research.google.com/github/PondKann/data_viz/blob/main/Pandas_101.ipynb\" target=\"_parent\"><img src=\"https://colab.research.google.com/assets/colab-badge.svg\" alt=\"Open In Colab\"/></a>"
      ]
    },
    {
      "cell_type": "code",
      "metadata": {
        "id": "k2sCV_gkmrbE"
      },
      "source": [
        "import pandas as pd"
      ],
      "execution_count": 2,
      "outputs": []
    },
    {
      "cell_type": "code",
      "metadata": {
        "colab": {
          "base_uri": "https://localhost:8080/"
        },
        "id": "WiPy59j9m4rA",
        "outputId": "f71cc226-33aa-4223-969c-0ccd3261c343"
      },
      "source": [
        "from google.colab import drive\r\n",
        "drive.mount('/content/drive')"
      ],
      "execution_count": 3,
      "outputs": [
        {
          "output_type": "stream",
          "text": [
            "Mounted at /content/drive\n"
          ],
          "name": "stdout"
        }
      ]
    },
    {
      "cell_type": "code",
      "metadata": {
        "id": "SkPN8Mfvm4oh",
        "outputId": "16f4a310-2bc1-4fea-c288-2fb6fc23065f",
        "colab": {
          "base_uri": "https://localhost:8080/"
        }
      },
      "source": [
        "# เรียกใช้ฟังก์ชั่น os เกี่ยวกับการจัดการไฟล์ เรียกไฟล์ ลบ \r\n",
        "import os\r\n",
        "path = '/content/drive/My Drive/DataViz_2021'\r\n",
        "os.listdir(path)"
      ],
      "execution_count": 4,
      "outputs": [
        {
          "output_type": "execute_result",
          "data": {
            "text/plain": [
              "['pm-18-jan-2021.csv', 'covid-19-daily_data_dictionary.xlsx']"
            ]
          },
          "metadata": {
            "tags": []
          },
          "execution_count": 4
        }
      ]
    },
    {
      "cell_type": "code",
      "metadata": {
        "colab": {
          "base_uri": "https://localhost:8080/"
        },
        "id": "gQlx4oPgrW94",
        "outputId": "49214b07-5a74-4191-ba41-fa96941eb7e1"
      },
      "source": [
        "covid_file_path = os.path.join(path,'pm-18-jan-2021.csv')\r\n",
        "print(covid_file_path)"
      ],
      "execution_count": 5,
      "outputs": [
        {
          "output_type": "stream",
          "text": [
            "/content/drive/My Drive/DataViz_2021/pm-18-jan-2021.csv\n"
          ],
          "name": "stdout"
        }
      ]
    },
    {
      "cell_type": "code",
      "metadata": {
        "colab": {
          "base_uri": "https://localhost:8080/"
        },
        "id": "EvLOsRFSr-Gg",
        "outputId": "cdce0e84-3bb5-47d8-93e0-33ff3332af12"
      },
      "source": [
        "#ใช้ได้เหมือน os\r\n",
        "a = path + '/covid_file_path'\r\n",
        "print(a)"
      ],
      "execution_count": 6,
      "outputs": [
        {
          "output_type": "stream",
          "text": [
            "/content/drive/My Drive/DataViz_2021/covid_file_path\n"
          ],
          "name": "stdout"
        }
      ]
    },
    {
      "cell_type": "markdown",
      "metadata": {
        "id": "WGM7_8GutAB7"
      },
      "source": [
        "## Load data to memory\r\n",
        "ใส่ edcoding='utf-8' หรือ encoding='latin1' ถ้าภาษาไม่ตรงกับ"
      ]
    },
    {
      "cell_type": "code",
      "metadata": {
        "id": "ntFTveeBr-AV"
      },
      "source": [
        "data_covid = pd.read_csv(covid_file_path)\r\n",
        "data_covid"
      ],
      "execution_count": null,
      "outputs": []
    },
    {
      "cell_type": "code",
      "metadata": {
        "colab": {
          "base_uri": "https://localhost:8080/"
        },
        "id": "vyT-Hl8ur937",
        "outputId": "f620e322-1316-4128-f588-d33b75bc789a"
      },
      "source": [
        "data_covid.shape"
      ],
      "execution_count": 8,
      "outputs": [
        {
          "output_type": "execute_result",
          "data": {
            "text/plain": [
              "(12423, 10)"
            ]
          },
          "metadata": {
            "tags": []
          },
          "execution_count": 8
        }
      ]
    },
    {
      "cell_type": "markdown",
      "metadata": {
        "id": "fVWq89i6zRPC"
      },
      "source": [
        "### การชี้ค่าในตาราง"
      ]
    },
    {
      "cell_type": "code",
      "metadata": {
        "colab": {
          "base_uri": "https://localhost:8080/",
          "height": 34
        },
        "id": "WZ2jQDdgyr_I",
        "outputId": "fd93e030-6f44-4308-833e-882e97170f3a"
      },
      "source": [
        "data_covid['province_of_onset'][4]"
      ],
      "execution_count": 9,
      "outputs": [
        {
          "output_type": "execute_result",
          "data": {
            "application/vnd.google.colaboratory.intrinsic+json": {
              "type": "string"
            },
            "text/plain": [
              "'กรุงเทพมหานคร'"
            ]
          },
          "metadata": {
            "tags": []
          },
          "execution_count": 9
        }
      ]
    },
    {
      "cell_type": "markdown",
      "metadata": {
        "id": "ASqoDBKI0Iie"
      },
      "source": [
        "#### .iloc\r\n",
        "ชี้ตามลำดับ"
      ]
    },
    {
      "cell_type": "code",
      "metadata": {
        "colab": {
          "base_uri": "https://localhost:8080/",
          "height": 34
        },
        "id": "v-O9nIbDyr8I",
        "outputId": "d005a7d9-3727-4d2f-8a10-a5b379dfff70"
      },
      "source": [
        "data_covid.iloc[4,7]"
      ],
      "execution_count": 10,
      "outputs": [
        {
          "output_type": "execute_result",
          "data": {
            "application/vnd.google.colaboratory.intrinsic+json": {
              "type": "string"
            },
            "text/plain": [
              "'กรุงเทพมหานคร'"
            ]
          },
          "metadata": {
            "tags": []
          },
          "execution_count": 10
        }
      ]
    },
    {
      "cell_type": "markdown",
      "metadata": {
        "id": "x7VNqnke024n"
      },
      "source": [
        "## Table slicing"
      ]
    },
    {
      "cell_type": "markdown",
      "metadata": {
        "id": "22HirNQK0_iW"
      },
      "source": [
        "### ตัดมาเฉพาะ column ที่ต้องการ"
      ]
    },
    {
      "cell_type": "code",
      "metadata": {
        "id": "qKy2QBF-0FJ1"
      },
      "source": [
        "smaller_table = data_covid[['announce_date','province_of_onset','risk']]\r\n",
        "smaller_table"
      ],
      "execution_count": null,
      "outputs": []
    },
    {
      "cell_type": "markdown",
      "metadata": {
        "id": "2m2ttIOC2Mqd"
      },
      "source": [
        "### ตัดเฉพาะ rows ที่ต้องการ"
      ]
    },
    {
      "cell_type": "markdown",
      "metadata": {
        "id": "uzpHyh092Vty"
      },
      "source": [
        "#### แบบง่าย แต่ใช้การอะไรไม่ค่อยได้"
      ]
    },
    {
      "cell_type": "code",
      "metadata": {
        "id": "1CZNRhwQ2Lcm"
      },
      "source": [
        "data_covid.iloc[1:5,:] #แถวที่1-4 เอาทุก ๆ คอลัมน์"
      ],
      "execution_count": null,
      "outputs": []
    },
    {
      "cell_type": "markdown",
      "metadata": {
        "id": "MoFLPBNJ2116"
      },
      "source": [
        "#### แบบ advanced แต่ใช้ปะโยชน์ได้เยอะกว่า (ตัดแบบใช้ logic query)"
      ]
    },
    {
      "cell_type": "code",
      "metadata": {
        "id": "zx9Qoepy2LUJ"
      },
      "source": [
        "data_covid[data_covid['province_of_onset']=='ขอนแก่น']"
      ],
      "execution_count": null,
      "outputs": []
    },
    {
      "cell_type": "code",
      "metadata": {
        "id": "Am7uQ_PU3qh9"
      },
      "source": [
        "eight_rows_covid = data_covid.iloc[:8,:]\r\n",
        "eight_rows_covid"
      ],
      "execution_count": null,
      "outputs": []
    },
    {
      "cell_type": "code",
      "metadata": {
        "id": "dlqaJinW3qaq"
      },
      "source": [
        "eight_rows_covid[[True,False,True,True,False,True,False,False]]"
      ],
      "execution_count": null,
      "outputs": []
    },
    {
      "cell_type": "code",
      "metadata": {
        "id": "lyY8xqpN3qST"
      },
      "source": [
        "eight_rows_covid['province_of_onset'] == 'กรุงเทพมหานคร'"
      ],
      "execution_count": null,
      "outputs": []
    },
    {
      "cell_type": "markdown",
      "metadata": {
        "id": "SomnLWEb7v-w"
      },
      "source": [
        "# HW6 (ให้ใช้เฉพาะที่อาจารย์สอนไปแล้วในวิชานี้)\r\n",
        "1. คำนวณ อายุเฉลี่ย ของ ผู้หญิง และผู้ชาย ของข้อมูลทั้งหมด\r\n",
        "2. คำนวณ อายุเฉลี่ย ของ ผู้หญิง และผู้ชาย ของผู้ป่วยในจังหวัดขอนแก่น"
      ]
    },
    {
      "cell_type": "markdown",
      "metadata": {
        "id": "ClrLKter8twR"
      },
      "source": [
        "Quiz 3. หาจำนวนผู้ป่วยที่เป็น **'คนต่างชาติเดินทางมาจากต่างประเทศ'**"
      ]
    },
    {
      "cell_type": "code",
      "metadata": {
        "colab": {
          "base_uri": "https://localhost:8080/"
        },
        "id": "rZ_Dme386mlZ",
        "outputId": "5a7a483f-b992-4e6e-f9f1-b6cc66268121"
      },
      "source": [
        "data_covid[data_covid['risk']=='คนต่างชาติเดินทางมาจากต่างประเทศ'].shape[0]"
      ],
      "execution_count": 17,
      "outputs": [
        {
          "output_type": "execute_result",
          "data": {
            "text/plain": [
              "155"
            ]
          },
          "metadata": {
            "tags": []
          },
          "execution_count": 17
        }
      ]
    },
    {
      "cell_type": "markdown",
      "metadata": {
        "id": "XNbQAnrafzeI"
      },
      "source": [
        "### 1. คำนวณ อายุเฉลี่ย ของ ผู้หญิง และผู้ชาย ของข้อมูลทั้งหมด"
      ]
    },
    {
      "cell_type": "code",
      "metadata": {
        "id": "IDp7OS4sbwQq"
      },
      "source": [
        "data_all = data_covid[['sex','age']]\r\n",
        "dataF_all = data_all[data_all['sex']=='หญิง']\r\n",
        "female = dataF_all[['age']].values\r\n",
        "female"
      ],
      "execution_count": null,
      "outputs": []
    },
    {
      "cell_type": "code",
      "metadata": {
        "id": "NBb2H0T4XteG",
        "outputId": "faf25b9e-1f3d-4e3c-eb21-50d9debcfd1c",
        "colab": {
          "base_uri": "https://localhost:8080/"
        }
      },
      "source": [
        "sum_f = 0 \r\n",
        "count = 0 \r\n",
        "for i in female:\r\n",
        "  if i >= 0:\r\n",
        "    sum_f +=  float(i)\r\n",
        "    count+=1\r\n",
        "print(f' รวม {sum_f}  จำนวน {count} คน')\r\n",
        "print(f' อายุเฉลี่ยของผู้ป่วยหญิงทั้งหมด เท่ากับ {sum_f/count} ')"
      ],
      "execution_count": 168,
      "outputs": [
        {
          "output_type": "stream",
          "text": [
            " รวม 157440.11  จำนวน 4289 คน\n",
            " อายุเฉลี่ยของผู้ป่วยหญิงทั้งหมด เท่ากับ 36.70788295640009 \n"
          ],
          "name": "stdout"
        }
      ]
    },
    {
      "cell_type": "code",
      "metadata": {
        "id": "_zeCVcDZXhjQ"
      },
      "source": [
        "data_all = data_covid[['sex','age']]\r\n",
        "dataM_all = data_all[data_all['sex']=='ชาย']\r\n",
        "male = dataM_all[['age']].values\r\n",
        "male"
      ],
      "execution_count": null,
      "outputs": []
    },
    {
      "cell_type": "code",
      "metadata": {
        "id": "d_cswmv2edQ1",
        "outputId": "fc3a31b7-0005-463d-9501-1bcd28a41864",
        "colab": {
          "base_uri": "https://localhost:8080/"
        }
      },
      "source": [
        "sum_m = 0 \r\n",
        "count = 0 \r\n",
        "for i in male:\r\n",
        "  if i >= 0:\r\n",
        "    sum_m +=  float(i)\r\n",
        "    count+=1\r\n",
        "print(f' รวม {sum_m}  จำนวน {count} คน')\r\n",
        "print(f' อายุเฉลี่ยของผู้ป่วยชายทั้งหมด เท่ากับ {sum_m/count} ')"
      ],
      "execution_count": 170,
      "outputs": [
        {
          "output_type": "stream",
          "text": [
            " รวม 172705.11  จำนวน 4366 คน\n",
            " อายุเฉลี่ยของผู้ป่วยชายทั้งหมด เท่ากับ 39.55682775996335 \n"
          ],
          "name": "stdout"
        }
      ]
    },
    {
      "cell_type": "markdown",
      "metadata": {
        "id": "fk6cNnzIgLWJ"
      },
      "source": [
        "### 2. คำนวณ อายุเฉลี่ย ของ ผู้หญิง และผู้ชาย ของผู้ป่วยในจังหวัดขอนแก่น"
      ]
    },
    {
      "cell_type": "code",
      "metadata": {
        "id": "X-_KFPvzedNm"
      },
      "source": [
        "data_kk = data_covid[data_covid['province_of_onset']=='ขอนแก่น']\r\n",
        "data_kk1 = data_kk[['sex','age']]\r\n",
        "dataF_kk = data_kk1[data_all['sex']=='หญิง']\r\n",
        "female_kk = dataF_kk[['age']].values\r\n",
        "female_kk"
      ],
      "execution_count": null,
      "outputs": []
    },
    {
      "cell_type": "code",
      "metadata": {
        "id": "HnL2tltNgbmP",
        "outputId": "c7e3692c-6c14-4e23-847a-de383400801d",
        "colab": {
          "base_uri": "https://localhost:8080/"
        }
      },
      "source": [
        "sum_f = 0 \r\n",
        "count = 0 \r\n",
        "for i in female_kk:\r\n",
        "  if i >= 0:\r\n",
        "    sum_f +=  float(i)\r\n",
        "    count+=1\r\n",
        "print(f' รวม {sum_f}  จำนวน {count} คน')\r\n",
        "print(f' อายุเฉลี่ยของผู้ป่วยหญิงทั้งหมดในขอนแก่น เท่ากับ {sum_f/count} ')"
      ],
      "execution_count": 172,
      "outputs": [
        {
          "output_type": "stream",
          "text": [
            " รวม 291.0  จำนวน 7 คน\n",
            " อายุเฉลี่ยของผู้ป่วยหญิงทั้งหมดในขอนแก่น เท่ากับ 41.57142857142857 \n"
          ],
          "name": "stdout"
        }
      ]
    },
    {
      "cell_type": "code",
      "metadata": {
        "id": "4NSt7bmegW5z"
      },
      "source": [
        "dataM_kk = data_kk1[data_all['sex']=='ชาย']\r\n",
        "male_kk = dataM_kk[['age']].values\r\n",
        "male_kk"
      ],
      "execution_count": null,
      "outputs": []
    },
    {
      "cell_type": "code",
      "metadata": {
        "id": "62k2j21cgW3T",
        "outputId": "db9de515-2220-4a7b-f4e4-1e95c7f2749f",
        "colab": {
          "base_uri": "https://localhost:8080/"
        }
      },
      "source": [
        "sum_f = 0 \r\n",
        "count = 0 \r\n",
        "for i in male_kk:\r\n",
        "  if i >= 0:\r\n",
        "    sum_f +=  float(i)\r\n",
        "    count+=1\r\n",
        "print(f' รวม {sum_f}  จำนวน {count} คน')\r\n",
        "print(f' อายุเฉลี่ยของผู้ป่วยชายทั้งหมดในขอนแก่น เท่ากับ {sum_f/count} ')"
      ],
      "execution_count": 174,
      "outputs": [
        {
          "output_type": "stream",
          "text": [
            " รวม 186.0  จำนวน 7 คน\n",
            " อายุเฉลี่ยของผู้ป่วยชายทั้งหมดในขอนแก่น เท่ากับ 26.571428571428573 \n"
          ],
          "name": "stdout"
        }
      ]
    }
  ]
}