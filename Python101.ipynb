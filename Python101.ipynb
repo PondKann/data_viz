{
  "nbformat": 4,
  "nbformat_minor": 0,
  "metadata": {
    "colab": {
      "name": "Python101.ipynb",
      "provenance": [],
      "include_colab_link": true
    },
    "kernelspec": {
      "name": "python3",
      "display_name": "Python 3"
    }
  },
  "cells": [
    {
      "cell_type": "markdown",
      "metadata": {
        "id": "view-in-github",
        "colab_type": "text"
      },
      "source": [
        "<a href=\"https://colab.research.google.com/github/PondKann/data_viz/blob/main/Python101.ipynb\" target=\"_parent\"><img src=\"https://colab.research.google.com/assets/colab-badge.svg\" alt=\"Open In Colab\"/></a>"
      ]
    },
    {
      "cell_type": "markdown",
      "metadata": {
        "id": "YPtwPvMgNbXu"
      },
      "source": [
        "# Variables"
      ]
    },
    {
      "cell_type": "markdown",
      "metadata": {
        "id": "PRf8YT3GOGux"
      },
      "source": [
        "หลักการตั้งชื่อตัวแปรเบื้องต้น\r\n",
        "\r\n",
        "    1. ตั้งให้สื่อ\r\n",
        "    2. ภาษาอังกฤษ\r\n",
        "    3. ใช้ตัวเลขได้ แต่ห้ามขึ้นต้นด้วยตัวเลข\r\n",
        "    4. ห้ามเว้นวรรค"
      ]
    },
    {
      "cell_type": "code",
      "metadata": {
        "colab": {
          "base_uri": "https://localhost:8080/"
        },
        "id": "6U_DfxK7OGFZ",
        "outputId": "504a6a96-4f7c-4b50-d335-95a62ba48eae"
      },
      "source": [
        "pi= 3.14159\r\n",
        "pi"
      ],
      "execution_count": null,
      "outputs": [
        {
          "output_type": "execute_result",
          "data": {
            "text/plain": [
              "3.14159"
            ]
          },
          "metadata": {
            "tags": []
          },
          "execution_count": 2
        }
      ]
    },
    {
      "cell_type": "markdown",
      "metadata": {
        "id": "5XtTZ3W4O0Zs"
      },
      "source": [
        "## int: จำนวนเต็ม"
      ]
    },
    {
      "cell_type": "code",
      "metadata": {
        "colab": {
          "base_uri": "https://localhost:8080/"
        },
        "id": "DaBtJ44UOyQq",
        "outputId": "02a2a1af-abf2-4f73-b1d2-ed2156bf3e60"
      },
      "source": [
        "a = 10\r\n",
        "print(a)"
      ],
      "execution_count": null,
      "outputs": [
        {
          "output_type": "stream",
          "text": [
            "10\n"
          ],
          "name": "stdout"
        }
      ]
    },
    {
      "cell_type": "markdown",
      "metadata": {
        "id": "mcxBGt2APLcZ"
      },
      "source": [
        "## ตัวอักษร (char (character)) ข้อความ(text (string))"
      ]
    },
    {
      "cell_type": "code",
      "metadata": {
        "colab": {
          "base_uri": "https://localhost:8080/"
        },
        "id": "cQB0AtPpOyMY",
        "outputId": "c0881727-5eaa-4abb-cf41-76fbac002914"
      },
      "source": [
        "c = 'กัณญารัตน์'\r\n",
        "print(c)"
      ],
      "execution_count": null,
      "outputs": [
        {
          "output_type": "stream",
          "text": [
            "กัณญารัตน์\n"
          ],
          "name": "stdout"
        }
      ]
    },
    {
      "cell_type": "markdown",
      "metadata": {
        "id": "qc4Io6V6RDgW"
      },
      "source": [
        "#### เป็นตัวเลข ที่ไม่สามารถเอามา + - * / กับตัวเลขได้"
      ]
    },
    {
      "cell_type": "code",
      "metadata": {
        "colab": {
          "base_uri": "https://localhost:8080/"
        },
        "id": "QGCFC7oTOyJl",
        "outputId": "cca54f53-49ae-49be-f397-2dfb5ce7b9da"
      },
      "source": [
        "d = '10'\r\n",
        "print(d)"
      ],
      "execution_count": null,
      "outputs": [
        {
          "output_type": "stream",
          "text": [
            "10\n"
          ],
          "name": "stdout"
        }
      ]
    },
    {
      "cell_type": "code",
      "metadata": {
        "colab": {
          "base_uri": "https://localhost:8080/"
        },
        "id": "tNK0w62COGCx",
        "outputId": "13b28dc5-a462-4319-d863-1e8f292f2c14"
      },
      "source": [
        "d + 1 "
      ],
      "execution_count": null,
      "outputs": [
        {
          "output_type": "error",
          "ename": "TypeError",
          "evalue": "ignored",
          "traceback": [
            "\u001b[0;31m---------------------------------------------------------------------------\u001b[0m",
            "\u001b[0;31mTypeError\u001b[0m                                 Traceback (most recent call last)",
            "\u001b[0;32m<ipython-input-5-f2c65cc21b93>\u001b[0m in \u001b[0;36m<module>\u001b[0;34m()\u001b[0m\n\u001b[0;32m----> 1\u001b[0;31m \u001b[0md\u001b[0m \u001b[0;34m+\u001b[0m \u001b[0;36m1\u001b[0m\u001b[0;34m\u001b[0m\u001b[0;34m\u001b[0m\u001b[0m\n\u001b[0m",
            "\u001b[0;31mTypeError\u001b[0m: must be str, not int"
          ]
        }
      ]
    },
    {
      "cell_type": "markdown",
      "metadata": {
        "id": "aJqC2Up6RwFs"
      },
      "source": [
        "## Variables casting (การเปลี่ยนชนิดของข้อมูล)"
      ]
    },
    {
      "cell_type": "code",
      "metadata": {
        "colab": {
          "base_uri": "https://localhost:8080/"
        },
        "id": "9QhQ3NwHRdI7",
        "outputId": "8050ac9b-fc8e-4e6b-f42d-ceab12ff90c9"
      },
      "source": [
        "int(d) + 1 "
      ],
      "execution_count": null,
      "outputs": [
        {
          "output_type": "execute_result",
          "data": {
            "text/plain": [
              "11"
            ]
          },
          "metadata": {
            "tags": []
          },
          "execution_count": 6
        }
      ]
    },
    {
      "cell_type": "code",
      "metadata": {
        "colab": {
          "base_uri": "https://localhost:8080/"
        },
        "id": "5-XwQKvHRdGK",
        "outputId": "43144991-f640-4f06-e96b-0131351947f6"
      },
      "source": [
        "print(a)\r\n",
        "print(float(a))\r\n",
        "print(str(a))"
      ],
      "execution_count": null,
      "outputs": [
        {
          "output_type": "stream",
          "text": [
            "10\n",
            "10.0\n",
            "10\n"
          ],
          "name": "stdout"
        }
      ]
    },
    {
      "cell_type": "markdown",
      "metadata": {
        "id": "2ZU1675XSurA"
      },
      "source": [
        "## Operation (Operator + - * / % )"
      ]
    },
    {
      "cell_type": "markdown",
      "metadata": {
        "id": "exPALzcrU721"
      },
      "source": [
        "### คำสั่ง print แบบ พิเศษ (การ format string)"
      ]
    },
    {
      "cell_type": "code",
      "metadata": {
        "colab": {
          "base_uri": "https://localhost:8080/"
        },
        "id": "qsmfL1EtRdDz",
        "outputId": "68486045-f837-444e-9826-28c0f5689785"
      },
      "source": [
        "print(f' % คือการหารเอาเศษ เช่น 7%3 = {7%3}')  #เพิ่ม f หน้า 'string' และใช้ {} ใส่ code"
      ],
      "execution_count": null,
      "outputs": [
        {
          "output_type": "stream",
          "text": [
            " % คือการหารเอาเศษ เช่น 7%3 = 1\n"
          ],
          "name": "stdout"
        }
      ]
    },
    {
      "cell_type": "code",
      "metadata": {
        "colab": {
          "base_uri": "https://localhost:8080/"
        },
        "id": "fMLHOlxARdBg",
        "outputId": "dd81eeb6-bff1-4479-86a9-c4818d74f744"
      },
      "source": [
        "print(f' % คือการหารเอาเศษ เช่น 7%3 = {7%3} แต่ \\n  / คือการหารปกติ เช่น 7/3 = {7/3}')  "
      ],
      "execution_count": null,
      "outputs": [
        {
          "output_type": "stream",
          "text": [
            " % คือการหารเอาเศษ เช่น 7%3 = 1 แต่ \n",
            "  / คือการหารปกติ เช่น 7/3 = 2.3333333333333335\n"
          ],
          "name": "stdout"
        }
      ]
    },
    {
      "cell_type": "code",
      "metadata": {
        "id": "20C7GX59Wng4"
      },
      "source": [
        "print(f' % คือการหารเอาเศษ เช่น 7%3 = {7%3} แต่ \\n  / คือการหารปกติ เช่น 7/3 = {7/3} \\n ')  "
      ],
      "execution_count": null,
      "outputs": []
    },
    {
      "cell_type": "markdown",
      "metadata": {
        "id": "xkwaKdj6X3eg"
      },
      "source": [
        "### เพิ่มอีกบรรทัด แสดงวิธีการ หารเอาส่วน"
      ]
    },
    {
      "cell_type": "code",
      "metadata": {
        "colab": {
          "base_uri": "https://localhost:8080/"
        },
        "id": "-S_1CCizXa5a",
        "outputId": "3da1ec9e-4d5a-4a51-9999-ebfee2c5ccb8"
      },
      "source": [
        "print(f' % คือ การหารเอาเศษ เช่น 7%3 = {7%3}  \\n / คือ การหารปกติ เช่น 7/3 = {7/3} \\n // คือ การหารเอาส่วน เช่น 7//3 = {7//3} ')  "
      ],
      "execution_count": null,
      "outputs": [
        {
          "output_type": "stream",
          "text": [
            " % คือ การหารเอาเศษ เช่น 7%3 = 1  \n",
            " / คือ การหารปกติ เช่น 7/3 = 2.3333333333333335 \n",
            " // คือ การหารเอาส่วน เช่น 7//3 = 2 \n"
          ],
          "name": "stdout"
        }
      ]
    },
    {
      "cell_type": "code",
      "metadata": {
        "colab": {
          "base_uri": "https://localhost:8080/"
        },
        "id": "0PdUZQVgXa0U",
        "outputId": "de4e8e62-a305-473f-c608-1b069fec19c7"
      },
      "source": [
        "print(f' % คือ การหารเอาเศษ เช่น 7%3 = {7%3} แต่\\\\\r\n",
        "  \\n / คือ การหารปกติ เช่น 7/3 = {7/3} และ\\\\\r\n",
        "  \\n // คือ การหารเอาส่วน เช่น 7//3 = {7//3} หรือ\\\\\r\n",
        "  \\n ใช้ int เพื่อหารเอาส่วน 7/3 = {int(7/3)}  ')  "
      ],
      "execution_count": null,
      "outputs": [
        {
          "output_type": "stream",
          "text": [
            " % คือ การหารเอาเศษ เช่น 7%3 = 1 แต่\\  \n",
            " / คือ การหารปกติ เช่น 7/3 = 2.3333333333333335 และ\\  \n",
            " // คือ การหารเอาส่วน เช่น 7//3 = 2 หรือ\\  \n",
            " ใช้ int เพื่อหารเอาส่วน 7/3 = 2  \n"
          ],
          "name": "stdout"
        }
      ]
    },
    {
      "cell_type": "code",
      "metadata": {
        "colab": {
          "base_uri": "https://localhost:8080/"
        },
        "id": "L6R3Iw7BYvS_",
        "outputId": "82196599-d0e6-40fc-982e-d7ab776c2998"
      },
      "source": [
        "print(f' 7/3 = {int(7/3)}')"
      ],
      "execution_count": null,
      "outputs": [
        {
          "output_type": "stream",
          "text": [
            " 7/3 = 2\n"
          ],
          "name": "stdout"
        }
      ]
    },
    {
      "cell_type": "markdown",
      "metadata": {
        "id": "wnFFLkSUapkj"
      },
      "source": [
        "# Data structure (โครงสร้างข้อมูล) "
      ]
    },
    {
      "cell_type": "markdown",
      "metadata": {
        "id": "8vm7f9hHbABm"
      },
      "source": [
        "## แบบที่ 1 "
      ]
    },
    {
      "cell_type": "code",
      "metadata": {
        "id": "v6kb1ZWJYvQW"
      },
      "source": [
        "list_a = []"
      ],
      "execution_count": null,
      "outputs": []
    },
    {
      "cell_type": "code",
      "metadata": {
        "colab": {
          "base_uri": "https://localhost:8080/"
        },
        "id": "nthR0IOfYvNY",
        "outputId": "c8671456-5b08-42ea-ef32-8931c21d0b70"
      },
      "source": [
        "list_b = [1, 5, 'v']\r\n",
        "print(list_b)"
      ],
      "execution_count": null,
      "outputs": [
        {
          "output_type": "stream",
          "text": [
            "[1, 5, 'v']\n"
          ],
          "name": "stdout"
        }
      ]
    },
    {
      "cell_type": "markdown",
      "metadata": {
        "id": "0Vv2iV0rbhcx"
      },
      "source": [
        "ลำดับใน list มีความสำคัญ (เริ่มจาก 0, 1, 2, 3, ...)"
      ]
    },
    {
      "cell_type": "code",
      "metadata": {
        "colab": {
          "base_uri": "https://localhost:8080/"
        },
        "id": "5gIisCs2bltg",
        "outputId": "00e8bed3-2abc-46b3-b153-80899066fac1"
      },
      "source": [
        "list_b[1]"
      ],
      "execution_count": null,
      "outputs": [
        {
          "output_type": "execute_result",
          "data": {
            "text/plain": [
              "5"
            ]
          },
          "metadata": {
            "tags": []
          },
          "execution_count": 56
        }
      ]
    },
    {
      "cell_type": "code",
      "metadata": {
        "colab": {
          "base_uri": "https://localhost:8080/"
        },
        "id": "RZqaB0Rpb_gf",
        "outputId": "122b89a6-146c-46c6-f47b-b245c703a87b"
      },
      "source": [
        "list_c = list()     #เป็นการสร้าง list อีกแบบหนึ่ง\r\n",
        "print(list_c)"
      ],
      "execution_count": null,
      "outputs": [
        {
          "output_type": "stream",
          "text": [
            "[]\n"
          ],
          "name": "stdout"
        }
      ]
    },
    {
      "cell_type": "code",
      "metadata": {
        "colab": {
          "base_uri": "https://localhost:8080/"
        },
        "id": "VqR0Rckrb_d9",
        "outputId": "c64565fd-4f71-4dfa-f660-93e5c89a41a8"
      },
      "source": [
        "list_b.append('u')  # เพิ่ม\r\n",
        "list_b"
      ],
      "execution_count": null,
      "outputs": [
        {
          "output_type": "execute_result",
          "data": {
            "text/plain": [
              "[1, 5, 'v', 'u']"
            ]
          },
          "metadata": {
            "tags": []
          },
          "execution_count": 58
        }
      ]
    },
    {
      "cell_type": "code",
      "metadata": {
        "colab": {
          "base_uri": "https://localhost:8080/"
        },
        "id": "dvL_L3UQb_bV",
        "outputId": "966ff671-8439-45ee-ce2b-eacfb4ed2126"
      },
      "source": [
        "list_b.pop() #ดึงสมาชิกตัวสุดท้ายออกจาก list_b\r\n",
        "list_b"
      ],
      "execution_count": null,
      "outputs": [
        {
          "output_type": "execute_result",
          "data": {
            "text/plain": [
              "[1, 5, 'v']"
            ]
          },
          "metadata": {
            "tags": []
          },
          "execution_count": 59
        }
      ]
    },
    {
      "cell_type": "code",
      "metadata": {
        "colab": {
          "base_uri": "https://localhost:8080/"
        },
        "id": "S_bu2CVId5hi",
        "outputId": "2adb0e3a-e06c-4be3-eb8b-b18618e7c208"
      },
      "source": [
        "list_b.append(list_a)\r\n",
        "list_b"
      ],
      "execution_count": null,
      "outputs": [
        {
          "output_type": "execute_result",
          "data": {
            "text/plain": [
              "[1, 5, 'v', []]"
            ]
          },
          "metadata": {
            "tags": []
          },
          "execution_count": 60
        }
      ]
    },
    {
      "cell_type": "markdown",
      "metadata": {
        "id": "lsFf6qMDdMrH"
      },
      "source": [
        "## String > list of xharacters"
      ]
    },
    {
      "cell_type": "code",
      "metadata": {
        "colab": {
          "base_uri": "https://localhost:8080/",
          "height": 34
        },
        "id": "ZDd7mLcpeWIg",
        "outputId": "a90d2894-1187-485a-9a3e-9913b6ff2db5"
      },
      "source": [
        "t = 'python is easy' #เป็น list\r\n",
        "t"
      ],
      "execution_count": 1,
      "outputs": [
        {
          "output_type": "execute_result",
          "data": {
            "application/vnd.google.colaboratory.intrinsic+json": {
              "type": "string"
            },
            "text/plain": [
              "'python is easy'"
            ]
          },
          "metadata": {
            "tags": []
          },
          "execution_count": 1
        }
      ]
    },
    {
      "cell_type": "code",
      "metadata": {
        "colab": {
          "base_uri": "https://localhost:8080/",
          "height": 165
        },
        "id": "c3GpFGoOb_YV",
        "outputId": "6ea19ac4-78cc-42cb-f99e-5a11a5676c18"
      },
      "source": [
        "len(list_b) #นับช่องว่าง, list ว่าด้วย"
      ],
      "execution_count": 2,
      "outputs": [
        {
          "output_type": "error",
          "ename": "NameError",
          "evalue": "ignored",
          "traceback": [
            "\u001b[0;31m---------------------------------------------------------------------------\u001b[0m",
            "\u001b[0;31mNameError\u001b[0m                                 Traceback (most recent call last)",
            "\u001b[0;32m<ipython-input-2-4251c6df50b3>\u001b[0m in \u001b[0;36m<module>\u001b[0;34m()\u001b[0m\n\u001b[0;32m----> 1\u001b[0;31m \u001b[0mlen\u001b[0m\u001b[0;34m(\u001b[0m\u001b[0mlist_b\u001b[0m\u001b[0;34m)\u001b[0m \u001b[0;31m#นับช่องว่าง, list ว่าด้วย\u001b[0m\u001b[0;34m\u001b[0m\u001b[0;34m\u001b[0m\u001b[0m\n\u001b[0m",
            "\u001b[0;31mNameError\u001b[0m: name 'list_b' is not defined"
          ]
        }
      ]
    },
    {
      "cell_type": "markdown",
      "metadata": {
        "id": "Kp9BALkMeuMQ"
      },
      "source": [
        "ตัวที่อยู่ข้างใน [ ] เราเรียกว่า index(ตัวชี้)"
      ]
    },
    {
      "cell_type": "code",
      "metadata": {
        "id": "-xvbDObUeg8q"
      },
      "source": [
        "t[1]"
      ],
      "execution_count": null,
      "outputs": []
    },
    {
      "cell_type": "code",
      "metadata": {
        "id": "_A2v71sZfBkS"
      },
      "source": [
        "t[-1]"
      ],
      "execution_count": null,
      "outputs": []
    },
    {
      "cell_type": "code",
      "metadata": {
        "id": "jau7E517eg51"
      },
      "source": [
        "t[-3]"
      ],
      "execution_count": null,
      "outputs": []
    },
    {
      "cell_type": "markdown",
      "metadata": {
        "id": "gVupG6dafaEF"
      },
      "source": [
        "## list slicing สามารถทำได้โดย colon :\r\n",
        "\r\n",
        "[a:b] -> [a,b) เช่น -2,3 คือ จาก -2 ถึงตัวที่อยู่ ก่อน 3 "
      ]
    },
    {
      "cell_type": "code",
      "metadata": {
        "colab": {
          "base_uri": "https://localhost:8080/",
          "height": 51
        },
        "id": "0Y6tkdTkeg3F",
        "outputId": "cc2f417d-0de5-4cf3-ae57-1c9c9b2baf31"
      },
      "source": [
        "print(t)\r\n",
        "t[7]\r\n",
        "t[8]\r\n",
        "t[9]"
      ],
      "execution_count": 5,
      "outputs": [
        {
          "output_type": "stream",
          "text": [
            "python is easy\n"
          ],
          "name": "stdout"
        },
        {
          "output_type": "execute_result",
          "data": {
            "application/vnd.google.colaboratory.intrinsic+json": {
              "type": "string"
            },
            "text/plain": [
              "' '"
            ]
          },
          "metadata": {
            "tags": []
          },
          "execution_count": 5
        }
      ]
    },
    {
      "cell_type": "code",
      "metadata": {
        "colab": {
          "base_uri": "https://localhost:8080/"
        },
        "id": "si9yWj5tg32B",
        "outputId": "630caeb9-bf19-4b19-e23e-be56c4c2ce3c"
      },
      "source": [
        "print(t)\r\n",
        "print(t[7:9])"
      ],
      "execution_count": 4,
      "outputs": [
        {
          "output_type": "stream",
          "text": [
            "python is easy\n",
            "is\n"
          ],
          "name": "stdout"
        }
      ]
    },
    {
      "cell_type": "code",
      "metadata": {
        "id": "nslry9icaxkW",
        "outputId": "c2c6e632-79e4-4a38-caf7-a04759ae6e08",
        "colab": {
          "base_uri": "https://localhost:8080/"
        }
      },
      "source": [
        "print(t[::2])"
      ],
      "execution_count": 6,
      "outputs": [
        {
          "output_type": "stream",
          "text": [
            "pto ses\n"
          ],
          "name": "stdout"
        }
      ]
    },
    {
      "cell_type": "code",
      "metadata": {
        "id": "Pbr_M_SQbHhR",
        "outputId": "68e27781-ba4c-4c98-c47a-828d26c5c5da",
        "colab": {
          "base_uri": "https://localhost:8080/"
        }
      },
      "source": [
        "print(list(range(10))[::2]) # : ตัวที่สอง กำหนด step "
      ],
      "execution_count": 7,
      "outputs": [
        {
          "output_type": "stream",
          "text": [
            "[0, 2, 4, 6, 8]\n"
          ],
          "name": "stdout"
        }
      ]
    },
    {
      "cell_type": "code",
      "metadata": {
        "id": "EwlkB2ehb3q1",
        "outputId": "523d3800-ad0c-48f3-f38f-bcd5a18aaf4d",
        "colab": {
          "base_uri": "https://localhost:8080/"
        }
      },
      "source": [
        "print(list(range(10))[2::2]) # : ตัวที่สอง กำหนด step"
      ],
      "execution_count": 8,
      "outputs": [
        {
          "output_type": "stream",
          "text": [
            "[2, 4, 6, 8]\n"
          ],
          "name": "stdout"
        }
      ]
    },
    {
      "cell_type": "markdown",
      "metadata": {
        "id": "0roeuCsuhUW3"
      },
      "source": [
        "ถ้าเว้นว่างหน้า : หมายความว่า เริ่มตั้งแต่ตัวแรก\r\n",
        "\r\n",
        "ถ้าเว้นว่างหลัง : หมายความว่า ไปจนถึงตัวสุดท้าย"
      ]
    },
    {
      "cell_type": "markdown",
      "metadata": {
        "id": "BmLGXCXNii1N"
      },
      "source": [
        "### สามารถเอา list มาต่อกันได้"
      ]
    },
    {
      "cell_type": "code",
      "metadata": {
        "colab": {
          "base_uri": "https://localhost:8080/",
          "height": 34
        },
        "id": "Q-kXebPchfQ4",
        "outputId": "ad95560b-0cac-4075-e4cb-88b2a928f158"
      },
      "source": [
        "t + '??'"
      ],
      "execution_count": null,
      "outputs": [
        {
          "output_type": "execute_result",
          "data": {
            "application/vnd.google.colaboratory.intrinsic+json": {
              "type": "string"
            },
            "text/plain": [
              "'python is easy??'"
            ]
          },
          "metadata": {
            "tags": []
          },
          "execution_count": 82
        }
      ]
    },
    {
      "cell_type": "code",
      "metadata": {
        "id": "OHA-kCxwi0Q8"
      },
      "source": [
        "t + list_b #ไม่สามารถเอา list มาบวกกับ string ได้"
      ],
      "execution_count": null,
      "outputs": []
    },
    {
      "cell_type": "code",
      "metadata": {
        "colab": {
          "base_uri": "https://localhost:8080/"
        },
        "id": "lZtnHrOyhgBJ",
        "outputId": "ef4c43c1-eb6e-4530-d6df-37f01f5a4d45"
      },
      "source": [
        "list_a + list_b"
      ],
      "execution_count": null,
      "outputs": [
        {
          "output_type": "execute_result",
          "data": {
            "text/plain": [
              "[1, 5, 'v', []]"
            ]
          },
          "metadata": {
            "tags": []
          },
          "execution_count": 83
        }
      ]
    },
    {
      "cell_type": "markdown",
      "metadata": {
        "id": "6gwDU25cjAvP"
      },
      "source": [
        "## การแบ่ง string ตามสัญลักษณ์ที่กำหนด ใช้คำสั่ง split string"
      ]
    },
    {
      "cell_type": "code",
      "metadata": {
        "colab": {
          "base_uri": "https://localhost:8080/"
        },
        "id": "pU6l3f1_hf_k",
        "outputId": "5fbee725-7cdb-4a50-f19b-4a6a73f045f0"
      },
      "source": [
        "t_sp = t.split(' ') #แบ่งด้วย ช่องว่าง\r\n",
        "t_sp"
      ],
      "execution_count": null,
      "outputs": [
        {
          "output_type": "execute_result",
          "data": {
            "text/plain": [
              "['python', 'is', 'easy']"
            ]
          },
          "metadata": {
            "tags": []
          },
          "execution_count": 88
        }
      ]
    },
    {
      "cell_type": "code",
      "metadata": {
        "colab": {
          "base_uri": "https://localhost:8080/"
        },
        "id": "ICtqhC2Jhf51",
        "outputId": "aa0de25b-3860-4e48-de9a-57b901013b0b"
      },
      "source": [
        "#วิธีรวมกลับ\r\n",
        "print(' '.join(t_sp))"
      ],
      "execution_count": null,
      "outputs": [
        {
          "output_type": "stream",
          "text": [
            "python is easy\n"
          ],
          "name": "stdout"
        }
      ]
    },
    {
      "cell_type": "markdown",
      "metadata": {
        "id": "n6cZ4Qu3lJjv"
      },
      "source": [
        "# HW คำนวณเวลาเป็นวินาทีของเวลาต่อไปนี้\r\n",
        "12:30:15\r\n",
        "\r\n",
        "13:41:07\r\n",
        "\r\n",
        "12:53:15\r\n",
        "\r\n",
        "00:59:25\r\n",
        "\r\n",
        "11:11:11\r\n",
        "\r\n",
        "16:06:09"
      ]
    },
    {
      "cell_type": "markdown",
      "metadata": {
        "id": "qXc6mxy3zrMq"
      },
      "source": [
        "## วิธีปกติ เขียนซ้ำๆ"
      ]
    },
    {
      "cell_type": "code",
      "metadata": {
        "id": "b5FV7QVvlErj",
        "colab": {
          "base_uri": "https://localhost:8080/"
        },
        "outputId": "96569a45-909a-4adf-ed0a-d13b66504dae"
      },
      "source": [
        "t1 = '12:30:15'       #กำหนดให้เวลาที่ 1 อยู่ใน list ชื่อ t1\r\n",
        "t1s = t1.split(':')     #แยกเวลาออกจากกัน โดยแยกด้วย เครื่องหมาย colon :\r\n",
        "time1 = (int(t1s[0])*3600)+(int(t1s[1])*60)+(int(t1s[2]))     #เปลี่ยนตัวเลขลำดับที่ 0(ชั่วโมง) ให้เป็นวินาที โดยนำไปคูณกับ 3600(วินาที) \r\n",
        "                                                                                       #เปลี่ยนตัวเลขลำดับที่ 1(นาที) ให้เป็นวินาที โดยนำไปคูณกับ 60(วินาที) \r\n",
        "                                                                                       #นำสองตัวที่เปลี่ยนเป็นวินาทีแล้ว ไปบวกกับ ตัวเลขลำดับที่ 2(วินาที) ใส่ int ข้างหน้าเพื่อเปลี่ยน str ให้เป็นจำนวนเต็ม\r\n",
        "print(f'เวลา {t1} มีทั้งหมด {time1} วินาที')"
      ],
      "execution_count": null,
      "outputs": [
        {
          "output_type": "stream",
          "text": [
            "เวลา 12:30:15 มีทั้งหมด 45015 วินาที\n"
          ],
          "name": "stdout"
        }
      ]
    },
    {
      "cell_type": "code",
      "metadata": {
        "id": "E04JIX0ZzVXg",
        "colab": {
          "base_uri": "https://localhost:8080/"
        },
        "outputId": "a3a6d9b4-680d-4a33-aea8-4a0cd3455853"
      },
      "source": [
        "t2 = '13:41:07'\r\n",
        "t2s = t2.split(':')\r\n",
        "time2 = (int(t2s[0])*3600)+(int(t2s[1])*60)+(int(t2s[2]))\r\n",
        "print(f'เวลา {t2} มีทั้งหมด {time2} วินาที')"
      ],
      "execution_count": null,
      "outputs": [
        {
          "output_type": "stream",
          "text": [
            "เวลา 13:41:07 มีทั้งหมด 49267 วินาที\n"
          ],
          "name": "stdout"
        }
      ]
    },
    {
      "cell_type": "code",
      "metadata": {
        "id": "ItTN_W1PlElx",
        "colab": {
          "base_uri": "https://localhost:8080/"
        },
        "outputId": "021ec080-8902-4c85-9992-358e716f834a"
      },
      "source": [
        "t3 = '12:53:15'\r\n",
        "t3s = t3.split(':')\r\n",
        "time3 = (int(t3s[0])*3600)+(int(t3s[1])*60)+(int(t3s[2]))\r\n",
        "print(f'เวลา {t3} มีทั้งหมด {time3} วินาที')"
      ],
      "execution_count": null,
      "outputs": [
        {
          "output_type": "stream",
          "text": [
            "เวลา 12:53:15 มีทั้งหมด 46395 วินาที\n"
          ],
          "name": "stdout"
        }
      ]
    },
    {
      "cell_type": "code",
      "metadata": {
        "id": "tyZleIGD1tn5",
        "colab": {
          "base_uri": "https://localhost:8080/"
        },
        "outputId": "415ba7b7-896c-4ba7-9d22-a947190d5a5c"
      },
      "source": [
        "t4 = '00:59:25'\r\n",
        "t4s = t4.split(':')\r\n",
        "time4 = (int(t4s[0])*3600)+(int(t4s[1])*60)+(int(t4s[2]))\r\n",
        "print(f'เวลา {t4} มีทั้งหมด {time4} วินาที')"
      ],
      "execution_count": null,
      "outputs": [
        {
          "output_type": "stream",
          "text": [
            "เวลา 00:59:25 มีทั้งหมด 3565 วินาที\n"
          ],
          "name": "stdout"
        }
      ]
    },
    {
      "cell_type": "code",
      "metadata": {
        "id": "9MU6m0l22isH",
        "colab": {
          "base_uri": "https://localhost:8080/"
        },
        "outputId": "a80155b1-b79b-4347-b6e0-e77755c1acd2"
      },
      "source": [
        "t5 = '11:11:11'\r\n",
        "t5s = t5.split(':')\r\n",
        "time5 = (int(t5s[0])*3600)+(int(t5s[1])*60)+(int(t5s[2]))\r\n",
        "print(f'เวลา {t5} มีทั้งหมด {time5} วินาที')"
      ],
      "execution_count": null,
      "outputs": [
        {
          "output_type": "stream",
          "text": [
            "เวลา 11:11:11 มีทั้งหมด 40271 วินาที\n"
          ],
          "name": "stdout"
        }
      ]
    },
    {
      "cell_type": "code",
      "metadata": {
        "id": "VWVARYbH1tlb",
        "colab": {
          "base_uri": "https://localhost:8080/"
        },
        "outputId": "ffa1edca-cac7-4d27-a41e-6bce3d8a4c4f"
      },
      "source": [
        "t6 = '16:06:09'\r\n",
        "t6s = t6.split(':')\r\n",
        "time6 = (int(t6s[0])*3600)+(int(t6s[1])*60)+(int(t6s[2]))\r\n",
        "print(f'เวลา {t6} มีทั้งหมด {time6} วินาที')"
      ],
      "execution_count": null,
      "outputs": [
        {
          "output_type": "stream",
          "text": [
            "เวลา 16:06:09 มีทั้งหมด 57969 วินาที\n"
          ],
          "name": "stdout"
        }
      ]
    },
    {
      "cell_type": "code",
      "metadata": {
        "id": "Y7cMjEZV1tig",
        "colab": {
          "base_uri": "https://localhost:8080/"
        },
        "outputId": "7eec45d0-0325-44ff-be6c-ddd6024d0030"
      },
      "source": [
        "print(f'เวลาทั้งหมด รวมเป็น {time1+time2+time3+time4+time5+time6} วินาที')"
      ],
      "execution_count": null,
      "outputs": [
        {
          "output_type": "stream",
          "text": [
            "เวลาทั้งหมด รวมเป็น 242482 วินาที\n"
          ],
          "name": "stdout"
        }
      ]
    },
    {
      "cell_type": "markdown",
      "metadata": {
        "id": "5Xdzeokftpii"
      },
      "source": [
        "## ให้สร้างฟังก์ชั่นคำนวณเวลาเป็นวินาที ของเวลาใด ๆ ที่จะ input เข้ามา แล้วพิมพ์ให้สวยงาม"
      ]
    },
    {
      "cell_type": "code",
      "metadata": {
        "id": "xgZQA2zatmXc"
      },
      "source": [
        "def time_second(t):\r\n",
        "      ts = t.split(':')\r\n",
        "      h = (int(ts[0])*3600) + (int(ts[1])*60) + (int(ts[2]))\r\n",
        "      time_second = f' เวลา {t} คิดเป็นเวลา {h} วินาที'\r\n",
        "      print(time_second)"
      ],
      "execution_count": null,
      "outputs": []
    },
    {
      "cell_type": "code",
      "metadata": {
        "colab": {
          "base_uri": "https://localhost:8080/"
        },
        "id": "HYM3Hisow1HC",
        "outputId": "c2ceb1e4-69f3-4141-fd24-5e8f2382dc38"
      },
      "source": [
        "time_second('12:30:15')\r\n",
        "time_second('13:41:07')\r\n",
        "time_second('12:53:15')\r\n",
        "time_second('00:59:25')\r\n",
        "time_second('11:11:11')\r\n",
        "time_second('16:06:09')"
      ],
      "execution_count": null,
      "outputs": [
        {
          "output_type": "stream",
          "text": [
            " เวลา 12:30:15 คิดเป็นเวลา 45015 วินาที\n",
            " เวลา 13:41:07 คิดเป็นเวลา 49267 วินาที\n",
            " เวลา 12:53:15 คิดเป็นเวลา 46395 วินาที\n",
            " เวลา 00:59:25 คิดเป็นเวลา 3565 วินาที\n",
            " เวลา 11:11:11 คิดเป็นเวลา 40271 วินาที\n",
            " เวลา 16:06:09 คิดเป็นเวลา 57969 วินาที\n"
          ],
          "name": "stdout"
        }
      ]
    },
    {
      "cell_type": "markdown",
      "metadata": {
        "id": "womR4uFh3A15"
      },
      "source": [
        "## ให้สร้าง list ของเวลา ['12:30:15' , '13:41:07' , ... ] แล้ววนลูปเรียกฟังก์ชั่น คำนวณเวลาเป็นวินาที\r\n",
        "HW3"
      ]
    },
    {
      "cell_type": "code",
      "metadata": {
        "id": "rl6ssDNx0unh"
      },
      "source": [
        "t1 = '12:30:15' \r\n",
        "t2 = '13:41:07'\r\n",
        "t3 = '12:53:15'\r\n",
        "t4 = '00:59:25'\r\n",
        "t5 = '11:11:11'\r\n",
        "t6 = '16:06:09'"
      ],
      "execution_count": null,
      "outputs": []
    },
    {
      "cell_type": "code",
      "metadata": {
        "id": "pKMkr5Uz-bqv",
        "colab": {
          "base_uri": "https://localhost:8080/"
        },
        "outputId": "691bd695-2305-4612-abe5-a816c187eaec"
      },
      "source": [
        "list_time = []                          #กำหนด list_time ให้เป็น list ว่าง \r\n",
        "for i in [t1, t2, t3, t4, t5, t6]:    #วนลูป เริ่มจาก i ตัวแรกคือ t1 ไปจนถึง t6\r\n",
        "  list_time.append(i)                #ให้เพิ่มค่าที่อยู่ใน i จากตัวแรก ไปจนถึงตัวสุดท้าย เข้าไปใน list_time \r\n",
        "print(list_time)                        #เมื่อวนลูปเพิ่มค่า i ครบทุกตัวแล้ว ให้แสดงค่าที่อยู่ใน list_time "
      ],
      "execution_count": null,
      "outputs": [
        {
          "output_type": "stream",
          "text": [
            "['12:30:15', '13:41:07', '12:53:15', '00:59:25', '11:11:11', '16:06:09']\n"
          ],
          "name": "stdout"
        }
      ]
    },
    {
      "cell_type": "code",
      "metadata": {
        "id": "OVK05UKO_9Gv",
        "colab": {
          "base_uri": "https://localhost:8080/"
        },
        "outputId": "f2342fc0-7bee-4282-a534-32eee9fe582a"
      },
      "source": [
        "for i in list_time:          #วนลูปค่า i ทุกค่าที่อยู่ใน list_time  \r\n",
        "  time_second(i)          #นำค่าที่อยู่ใน i เข้าไปในฟังก์ชั่น time_second\r\n",
        "#i เริ่มจากข้อมูลตัวเลขที่อยู่ใน list_time จะถูกนำเข้าไปใน ฟังก์ชั่น time_second เพื่อเปลี่ยนให้เวลากลายเป็นวินาที"
      ],
      "execution_count": null,
      "outputs": [
        {
          "output_type": "stream",
          "text": [
            " เวลา 12:30:15 คิดเป็นเวลา 45015 วินาที\n",
            " เวลา 13:41:07 คิดเป็นเวลา 49267 วินาที\n",
            " เวลา 12:53:15 คิดเป็นเวลา 46395 วินาที\n",
            " เวลา 00:59:25 คิดเป็นเวลา 3565 วินาที\n",
            " เวลา 11:11:11 คิดเป็นเวลา 40271 วินาที\n",
            " เวลา 16:06:09 คิดเป็นเวลา 57969 วินาที\n"
          ],
          "name": "stdout"
        }
      ]
    },
    {
      "cell_type": "code",
      "metadata": {
        "id": "cGlwCVGR_pop"
      },
      "source": [
        ""
      ],
      "execution_count": null,
      "outputs": []
    },
    {
      "cell_type": "code",
      "metadata": {
        "id": "f9tC-mW0_pmO"
      },
      "source": [
        ""
      ],
      "execution_count": null,
      "outputs": []
    }
  ]
}