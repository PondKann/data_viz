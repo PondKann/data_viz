{
  "nbformat": 4,
  "nbformat_minor": 0,
  "metadata": {
    "colab": {
      "name": "Python101.ipynb",
      "provenance": [],
      "authorship_tag": "ABX9TyOJakRT3+8pC6CRe5ei267y",
      "include_colab_link": true
    },
    "kernelspec": {
      "name": "python3",
      "display_name": "Python 3"
    }
  },
  "cells": [
    {
      "cell_type": "markdown",
      "metadata": {
        "id": "view-in-github",
        "colab_type": "text"
      },
      "source": [
        "<a href=\"https://colab.research.google.com/github/PondKann/data_viz/blob/main/Python101.ipynb\" target=\"_parent\"><img src=\"https://colab.research.google.com/assets/colab-badge.svg\" alt=\"Open In Colab\"/></a>"
      ]
    },
    {
      "cell_type": "markdown",
      "metadata": {
        "id": "YPtwPvMgNbXu"
      },
      "source": [
        "# Variables"
      ]
    },
    {
      "cell_type": "markdown",
      "metadata": {
        "id": "PRf8YT3GOGux"
      },
      "source": [
        "หลักการตั้งชื่อตัวแปรเบื้องต้น\r\n",
        "\r\n",
        "    1. ตั้งให้สื่อ\r\n",
        "    2. ภาษาอังกฤษ\r\n",
        "    3. ใช้ตัวเลขได้ แต่ห้ามขึ้นต้นด้วยตัวเลข\r\n",
        "    4. ห้ามเว้นวรรค"
      ]
    },
    {
      "cell_type": "code",
      "metadata": {
        "colab": {
          "base_uri": "https://localhost:8080/"
        },
        "id": "6U_DfxK7OGFZ",
        "outputId": "504a6a96-4f7c-4b50-d335-95a62ba48eae"
      },
      "source": [
        "pi= 3.14159\r\n",
        "pi"
      ],
      "execution_count": 2,
      "outputs": [
        {
          "output_type": "execute_result",
          "data": {
            "text/plain": [
              "3.14159"
            ]
          },
          "metadata": {
            "tags": []
          },
          "execution_count": 2
        }
      ]
    },
    {
      "cell_type": "markdown",
      "metadata": {
        "id": "5XtTZ3W4O0Zs"
      },
      "source": [
        "## int: จำนวนเต็ม"
      ]
    },
    {
      "cell_type": "code",
      "metadata": {
        "colab": {
          "base_uri": "https://localhost:8080/"
        },
        "id": "DaBtJ44UOyQq",
        "outputId": "02a2a1af-abf2-4f73-b1d2-ed2156bf3e60"
      },
      "source": [
        "a = 10\r\n",
        "print(a)"
      ],
      "execution_count": 7,
      "outputs": [
        {
          "output_type": "stream",
          "text": [
            "10\n"
          ],
          "name": "stdout"
        }
      ]
    },
    {
      "cell_type": "markdown",
      "metadata": {
        "id": "mcxBGt2APLcZ"
      },
      "source": [
        "## ตัวอักษร (char (character)) ข้อความ(text (string))"
      ]
    },
    {
      "cell_type": "code",
      "metadata": {
        "colab": {
          "base_uri": "https://localhost:8080/"
        },
        "id": "cQB0AtPpOyMY",
        "outputId": "c0881727-5eaa-4abb-cf41-76fbac002914"
      },
      "source": [
        "c = 'กัณญารัตน์'\r\n",
        "print(c)"
      ],
      "execution_count": 3,
      "outputs": [
        {
          "output_type": "stream",
          "text": [
            "กัณญารัตน์\n"
          ],
          "name": "stdout"
        }
      ]
    },
    {
      "cell_type": "markdown",
      "metadata": {
        "id": "qc4Io6V6RDgW"
      },
      "source": [
        "#### เป็นตัวเลข ที่ไม่สามารถเอามา + - * / กับตัวเลขได้"
      ]
    },
    {
      "cell_type": "code",
      "metadata": {
        "colab": {
          "base_uri": "https://localhost:8080/"
        },
        "id": "QGCFC7oTOyJl",
        "outputId": "cca54f53-49ae-49be-f397-2dfb5ce7b9da"
      },
      "source": [
        "d = '10'\r\n",
        "print(d)"
      ],
      "execution_count": 4,
      "outputs": [
        {
          "output_type": "stream",
          "text": [
            "10\n"
          ],
          "name": "stdout"
        }
      ]
    },
    {
      "cell_type": "code",
      "metadata": {
        "colab": {
          "base_uri": "https://localhost:8080/",
          "height": 0
        },
        "id": "tNK0w62COGCx",
        "outputId": "13b28dc5-a462-4319-d863-1e8f292f2c14"
      },
      "source": [
        "d + 1 "
      ],
      "execution_count": 5,
      "outputs": [
        {
          "output_type": "error",
          "ename": "TypeError",
          "evalue": "ignored",
          "traceback": [
            "\u001b[0;31m---------------------------------------------------------------------------\u001b[0m",
            "\u001b[0;31mTypeError\u001b[0m                                 Traceback (most recent call last)",
            "\u001b[0;32m<ipython-input-5-f2c65cc21b93>\u001b[0m in \u001b[0;36m<module>\u001b[0;34m()\u001b[0m\n\u001b[0;32m----> 1\u001b[0;31m \u001b[0md\u001b[0m \u001b[0;34m+\u001b[0m \u001b[0;36m1\u001b[0m\u001b[0;34m\u001b[0m\u001b[0;34m\u001b[0m\u001b[0m\n\u001b[0m",
            "\u001b[0;31mTypeError\u001b[0m: must be str, not int"
          ]
        }
      ]
    },
    {
      "cell_type": "markdown",
      "metadata": {
        "id": "aJqC2Up6RwFs"
      },
      "source": [
        "## Variables casting (การเปลี่ยนชนิดของข้อมูล)"
      ]
    },
    {
      "cell_type": "code",
      "metadata": {
        "colab": {
          "base_uri": "https://localhost:8080/"
        },
        "id": "9QhQ3NwHRdI7",
        "outputId": "8050ac9b-fc8e-4e6b-f42d-ceab12ff90c9"
      },
      "source": [
        "int(d) + 1 "
      ],
      "execution_count": 6,
      "outputs": [
        {
          "output_type": "execute_result",
          "data": {
            "text/plain": [
              "11"
            ]
          },
          "metadata": {
            "tags": []
          },
          "execution_count": 6
        }
      ]
    },
    {
      "cell_type": "code",
      "metadata": {
        "colab": {
          "base_uri": "https://localhost:8080/"
        },
        "id": "5-XwQKvHRdGK",
        "outputId": "43144991-f640-4f06-e96b-0131351947f6"
      },
      "source": [
        "print(a)\r\n",
        "print(float(a))\r\n",
        "print(str(a))"
      ],
      "execution_count": 9,
      "outputs": [
        {
          "output_type": "stream",
          "text": [
            "10\n",
            "10.0\n",
            "10\n"
          ],
          "name": "stdout"
        }
      ]
    },
    {
      "cell_type": "markdown",
      "metadata": {
        "id": "2ZU1675XSurA"
      },
      "source": [
        "## Operation (Operator + - * / % )"
      ]
    },
    {
      "cell_type": "markdown",
      "metadata": {
        "id": "exPALzcrU721"
      },
      "source": [
        "### คำสั่ง print แบบ พิเศษ (การ format string)"
      ]
    },
    {
      "cell_type": "code",
      "metadata": {
        "colab": {
          "base_uri": "https://localhost:8080/"
        },
        "id": "qsmfL1EtRdDz",
        "outputId": "68486045-f837-444e-9826-28c0f5689785"
      },
      "source": [
        "print(f' % คือการหารเอาเศษ เช่น 7%3 = {7%3}')  #เพิ่ม f หน้า 'string' และใช้ {} ใส่ code"
      ],
      "execution_count": 10,
      "outputs": [
        {
          "output_type": "stream",
          "text": [
            " % คือการหารเอาเศษ เช่น 7%3 = 1\n"
          ],
          "name": "stdout"
        }
      ]
    },
    {
      "cell_type": "code",
      "metadata": {
        "colab": {
          "base_uri": "https://localhost:8080/"
        },
        "id": "fMLHOlxARdBg",
        "outputId": "dd81eeb6-bff1-4479-86a9-c4818d74f744"
      },
      "source": [
        "print(f' % คือการหารเอาเศษ เช่น 7%3 = {7%3} แต่ \\n  / คือการหารปกติ เช่น 7/3 = {7/3}')  "
      ],
      "execution_count": 15,
      "outputs": [
        {
          "output_type": "stream",
          "text": [
            " % คือการหารเอาเศษ เช่น 7%3 = 1 แต่ \n",
            "  / คือการหารปกติ เช่น 7/3 = 2.3333333333333335\n"
          ],
          "name": "stdout"
        }
      ]
    },
    {
      "cell_type": "code",
      "metadata": {
        "id": "20C7GX59Wng4"
      },
      "source": [
        "print(f' % คือการหารเอาเศษ เช่น 7%3 = {7%3} แต่ \\n  / คือการหารปกติ เช่น 7/3 = {7/3} \\n ')  "
      ],
      "execution_count": null,
      "outputs": []
    },
    {
      "cell_type": "markdown",
      "metadata": {
        "id": "xkwaKdj6X3eg"
      },
      "source": [
        "### เพิ่มอีกบรรทัด แสดงวิธีการ หารเอาส่วน"
      ]
    },
    {
      "cell_type": "code",
      "metadata": {
        "colab": {
          "base_uri": "https://localhost:8080/"
        },
        "id": "-S_1CCizXa5a",
        "outputId": "3da1ec9e-4d5a-4a51-9999-ebfee2c5ccb8"
      },
      "source": [
        "print(f' % คือ การหารเอาเศษ เช่น 7%3 = {7%3}  \\n / คือ การหารปกติ เช่น 7/3 = {7/3} \\n // คือ การหารเอาส่วน เช่น 7//3 = {7//3} ')  "
      ],
      "execution_count": 23,
      "outputs": [
        {
          "output_type": "stream",
          "text": [
            " % คือ การหารเอาเศษ เช่น 7%3 = 1  \n",
            " / คือ การหารปกติ เช่น 7/3 = 2.3333333333333335 \n",
            " // คือ การหารเอาส่วน เช่น 7//3 = 2 \n"
          ],
          "name": "stdout"
        }
      ]
    },
    {
      "cell_type": "code",
      "metadata": {
        "colab": {
          "base_uri": "https://localhost:8080/"
        },
        "id": "0PdUZQVgXa0U",
        "outputId": "de4e8e62-a305-473f-c608-1b069fec19c7"
      },
      "source": [
        "print(f' % คือ การหารเอาเศษ เช่น 7%3 = {7%3} แต่\\\\\r\n",
        "  \\n / คือ การหารปกติ เช่น 7/3 = {7/3} และ\\\\\r\n",
        "  \\n // คือ การหารเอาส่วน เช่น 7//3 = {7//3} หรือ\\\\\r\n",
        "  \\n ใช้ int เพื่อหารเอาส่วน 7/3 = {int(7/3)}  ')  "
      ],
      "execution_count": 35,
      "outputs": [
        {
          "output_type": "stream",
          "text": [
            " % คือ การหารเอาเศษ เช่น 7%3 = 1 แต่\\  \n",
            " / คือ การหารปกติ เช่น 7/3 = 2.3333333333333335 และ\\  \n",
            " // คือ การหารเอาส่วน เช่น 7//3 = 2 หรือ\\  \n",
            " ใช้ int เพื่อหารเอาส่วน 7/3 = 2  \n"
          ],
          "name": "stdout"
        }
      ]
    },
    {
      "cell_type": "code",
      "metadata": {
        "colab": {
          "base_uri": "https://localhost:8080/"
        },
        "id": "L6R3Iw7BYvS_",
        "outputId": "82196599-d0e6-40fc-982e-d7ab776c2998"
      },
      "source": [
        "print(f' 7/3 = {int(7/3)}')"
      ],
      "execution_count": 33,
      "outputs": [
        {
          "output_type": "stream",
          "text": [
            " 7/3 = 2\n"
          ],
          "name": "stdout"
        }
      ]
    },
    {
      "cell_type": "markdown",
      "metadata": {
        "id": "wnFFLkSUapkj"
      },
      "source": [
        "# Data structure (โครงสร้างข้อมูล) "
      ]
    },
    {
      "cell_type": "markdown",
      "metadata": {
        "id": "8vm7f9hHbABm"
      },
      "source": [
        "## แบบที่ 1 "
      ]
    },
    {
      "cell_type": "code",
      "metadata": {
        "id": "v6kb1ZWJYvQW"
      },
      "source": [
        "list_a = []"
      ],
      "execution_count": 54,
      "outputs": []
    },
    {
      "cell_type": "code",
      "metadata": {
        "colab": {
          "base_uri": "https://localhost:8080/"
        },
        "id": "nthR0IOfYvNY",
        "outputId": "c8671456-5b08-42ea-ef32-8931c21d0b70"
      },
      "source": [
        "list_b = [1, 5, 'v']\r\n",
        "print(list_b)"
      ],
      "execution_count": 55,
      "outputs": [
        {
          "output_type": "stream",
          "text": [
            "[1, 5, 'v']\n"
          ],
          "name": "stdout"
        }
      ]
    },
    {
      "cell_type": "markdown",
      "metadata": {
        "id": "0Vv2iV0rbhcx"
      },
      "source": [
        "ลำดับใน list มีความสำคัญ (เริ่มจาก 0, 1, 2, 3, ...)"
      ]
    },
    {
      "cell_type": "code",
      "metadata": {
        "colab": {
          "base_uri": "https://localhost:8080/"
        },
        "id": "5gIisCs2bltg",
        "outputId": "00e8bed3-2abc-46b3-b153-80899066fac1"
      },
      "source": [
        "list_b[1]"
      ],
      "execution_count": 56,
      "outputs": [
        {
          "output_type": "execute_result",
          "data": {
            "text/plain": [
              "5"
            ]
          },
          "metadata": {
            "tags": []
          },
          "execution_count": 56
        }
      ]
    },
    {
      "cell_type": "code",
      "metadata": {
        "colab": {
          "base_uri": "https://localhost:8080/"
        },
        "id": "RZqaB0Rpb_gf",
        "outputId": "122b89a6-146c-46c6-f47b-b245c703a87b"
      },
      "source": [
        "list_c = list()     #เป็นการสร้าง list อีกแบบหนึ่ง\r\n",
        "print(list_c)"
      ],
      "execution_count": 57,
      "outputs": [
        {
          "output_type": "stream",
          "text": [
            "[]\n"
          ],
          "name": "stdout"
        }
      ]
    },
    {
      "cell_type": "code",
      "metadata": {
        "colab": {
          "base_uri": "https://localhost:8080/"
        },
        "id": "VqR0Rckrb_d9",
        "outputId": "c64565fd-4f71-4dfa-f660-93e5c89a41a8"
      },
      "source": [
        "list_b.append('u')  # เพิ่ม\r\n",
        "list_b"
      ],
      "execution_count": 58,
      "outputs": [
        {
          "output_type": "execute_result",
          "data": {
            "text/plain": [
              "[1, 5, 'v', 'u']"
            ]
          },
          "metadata": {
            "tags": []
          },
          "execution_count": 58
        }
      ]
    },
    {
      "cell_type": "code",
      "metadata": {
        "colab": {
          "base_uri": "https://localhost:8080/"
        },
        "id": "dvL_L3UQb_bV",
        "outputId": "966ff671-8439-45ee-ce2b-eacfb4ed2126"
      },
      "source": [
        "list_b.pop() #ดึงสมาชิกตัวสุดท้ายออกจาก list_b\r\n",
        "list_b"
      ],
      "execution_count": 59,
      "outputs": [
        {
          "output_type": "execute_result",
          "data": {
            "text/plain": [
              "[1, 5, 'v']"
            ]
          },
          "metadata": {
            "tags": []
          },
          "execution_count": 59
        }
      ]
    },
    {
      "cell_type": "code",
      "metadata": {
        "colab": {
          "base_uri": "https://localhost:8080/"
        },
        "id": "S_bu2CVId5hi",
        "outputId": "2adb0e3a-e06c-4be3-eb8b-b18618e7c208"
      },
      "source": [
        "list_b.append(list_a)\r\n",
        "list_b"
      ],
      "execution_count": 60,
      "outputs": [
        {
          "output_type": "execute_result",
          "data": {
            "text/plain": [
              "[1, 5, 'v', []]"
            ]
          },
          "metadata": {
            "tags": []
          },
          "execution_count": 60
        }
      ]
    },
    {
      "cell_type": "markdown",
      "metadata": {
        "id": "lsFf6qMDdMrH"
      },
      "source": [
        "## String > list of xharacters"
      ]
    },
    {
      "cell_type": "code",
      "metadata": {
        "colab": {
          "base_uri": "https://localhost:8080/",
          "height": 34
        },
        "id": "ZDd7mLcpeWIg",
        "outputId": "db7ef833-defd-4c9d-b18c-ab4bd93719e8"
      },
      "source": [
        "t = 'python is easy' #เป็น list\r\n",
        "t"
      ],
      "execution_count": 65,
      "outputs": [
        {
          "output_type": "execute_result",
          "data": {
            "application/vnd.google.colaboratory.intrinsic+json": {
              "type": "string"
            },
            "text/plain": [
              "'python is easy'"
            ]
          },
          "metadata": {
            "tags": []
          },
          "execution_count": 65
        }
      ]
    },
    {
      "cell_type": "code",
      "metadata": {
        "colab": {
          "base_uri": "https://localhost:8080/"
        },
        "id": "c3GpFGoOb_YV",
        "outputId": "f8b5b978-8b4c-41f9-9471-f8e64f56c9aa"
      },
      "source": [
        "len(list_b) #นับช่องว่าง, list ว่าด้วย"
      ],
      "execution_count": 61,
      "outputs": [
        {
          "output_type": "execute_result",
          "data": {
            "text/plain": [
              "4"
            ]
          },
          "metadata": {
            "tags": []
          },
          "execution_count": 61
        }
      ]
    },
    {
      "cell_type": "markdown",
      "metadata": {
        "id": "Kp9BALkMeuMQ"
      },
      "source": [
        "ตัวที่อยู่ข้างใน [ ] เราเรียกว่า index(ตัวชี้)"
      ]
    },
    {
      "cell_type": "code",
      "metadata": {
        "colab": {
          "base_uri": "https://localhost:8080/",
          "height": 34
        },
        "id": "-xvbDObUeg8q",
        "outputId": "5a33f93b-1f21-4a9a-ff23-1f4d2ac9f161"
      },
      "source": [
        "t[1]"
      ],
      "execution_count": 72,
      "outputs": [
        {
          "output_type": "execute_result",
          "data": {
            "application/vnd.google.colaboratory.intrinsic+json": {
              "type": "string"
            },
            "text/plain": [
              "'y'"
            ]
          },
          "metadata": {
            "tags": []
          },
          "execution_count": 72
        }
      ]
    },
    {
      "cell_type": "code",
      "metadata": {
        "colab": {
          "base_uri": "https://localhost:8080/",
          "height": 34
        },
        "id": "_A2v71sZfBkS",
        "outputId": "8fbb58b9-dbb6-4026-8e57-7da54b24f0a5"
      },
      "source": [
        "t[-1]"
      ],
      "execution_count": 73,
      "outputs": [
        {
          "output_type": "execute_result",
          "data": {
            "application/vnd.google.colaboratory.intrinsic+json": {
              "type": "string"
            },
            "text/plain": [
              "'y'"
            ]
          },
          "metadata": {
            "tags": []
          },
          "execution_count": 73
        }
      ]
    },
    {
      "cell_type": "code",
      "metadata": {
        "colab": {
          "base_uri": "https://localhost:8080/",
          "height": 34
        },
        "id": "jau7E517eg51",
        "outputId": "5664d939-6a78-48c8-95ba-c6bf25058a9d"
      },
      "source": [
        "t[-3]"
      ],
      "execution_count": 66,
      "outputs": [
        {
          "output_type": "execute_result",
          "data": {
            "application/vnd.google.colaboratory.intrinsic+json": {
              "type": "string"
            },
            "text/plain": [
              "'a'"
            ]
          },
          "metadata": {
            "tags": []
          },
          "execution_count": 66
        }
      ]
    },
    {
      "cell_type": "markdown",
      "metadata": {
        "id": "gVupG6dafaEF"
      },
      "source": [
        "## list slicing สามารถทำได้โดย colon :\r\n",
        "\r\n",
        "[a:b] -> [a,b) เช่น -2,3 คือ จาก -2 ถึงตัวที่อยู่ ก่อน 3 "
      ]
    },
    {
      "cell_type": "code",
      "metadata": {
        "colab": {
          "base_uri": "https://localhost:8080/",
          "height": 52
        },
        "id": "0Y6tkdTkeg3F",
        "outputId": "599e622a-b4be-412d-fcbd-00e0b690fcb4"
      },
      "source": [
        "print(t)\r\n",
        "t[7]\r\n",
        "t[8]\r\n",
        "t[9]"
      ],
      "execution_count": 77,
      "outputs": [
        {
          "output_type": "stream",
          "text": [
            "python is easy\n"
          ],
          "name": "stdout"
        },
        {
          "output_type": "execute_result",
          "data": {
            "application/vnd.google.colaboratory.intrinsic+json": {
              "type": "string"
            },
            "text/plain": [
              "' '"
            ]
          },
          "metadata": {
            "tags": []
          },
          "execution_count": 77
        }
      ]
    },
    {
      "cell_type": "code",
      "metadata": {
        "colab": {
          "base_uri": "https://localhost:8080/"
        },
        "id": "si9yWj5tg32B",
        "outputId": "1e594f91-6588-4c78-a169-1cee64e06020"
      },
      "source": [
        "print(t)\r\n",
        "print(t[7:9])"
      ],
      "execution_count": 80,
      "outputs": [
        {
          "output_type": "stream",
          "text": [
            "python is easy\n",
            "is\n"
          ],
          "name": "stdout"
        }
      ]
    },
    {
      "cell_type": "markdown",
      "metadata": {
        "id": "0roeuCsuhUW3"
      },
      "source": [
        "ถ้าเว้นว่างหน้า : หมายความว่า เริ่มตั้งแต่ตัวแรก\r\n",
        "ถ้าเว้นว่างหลัง : หมายความว่า ไปจนถึงตัวสุดท้าย"
      ]
    },
    {
      "cell_type": "markdown",
      "metadata": {
        "id": "BmLGXCXNii1N"
      },
      "source": [
        "### สามารถเอา list มาต่อกันได้"
      ]
    },
    {
      "cell_type": "code",
      "metadata": {
        "colab": {
          "base_uri": "https://localhost:8080/",
          "height": 34
        },
        "id": "Q-kXebPchfQ4",
        "outputId": "ad95560b-0cac-4075-e4cb-88b2a928f158"
      },
      "source": [
        "t + '??'"
      ],
      "execution_count": 82,
      "outputs": [
        {
          "output_type": "execute_result",
          "data": {
            "application/vnd.google.colaboratory.intrinsic+json": {
              "type": "string"
            },
            "text/plain": [
              "'python is easy??'"
            ]
          },
          "metadata": {
            "tags": []
          },
          "execution_count": 82
        }
      ]
    },
    {
      "cell_type": "code",
      "metadata": {
        "id": "OHA-kCxwi0Q8"
      },
      "source": [
        "t + list_b #ไม่สามารถเอา list มาบวกกับ string ได้"
      ],
      "execution_count": null,
      "outputs": []
    },
    {
      "cell_type": "code",
      "metadata": {
        "colab": {
          "base_uri": "https://localhost:8080/"
        },
        "id": "lZtnHrOyhgBJ",
        "outputId": "ef4c43c1-eb6e-4530-d6df-37f01f5a4d45"
      },
      "source": [
        "list_a + list_b"
      ],
      "execution_count": 83,
      "outputs": [
        {
          "output_type": "execute_result",
          "data": {
            "text/plain": [
              "[1, 5, 'v', []]"
            ]
          },
          "metadata": {
            "tags": []
          },
          "execution_count": 83
        }
      ]
    },
    {
      "cell_type": "markdown",
      "metadata": {
        "id": "6gwDU25cjAvP"
      },
      "source": [
        "## การแบ่ง string ตามสัญลักษณ์ที่กำหนด ใช้คำสั่ง split string"
      ]
    },
    {
      "cell_type": "code",
      "metadata": {
        "colab": {
          "base_uri": "https://localhost:8080/"
        },
        "id": "pU6l3f1_hf_k",
        "outputId": "5fbee725-7cdb-4a50-f19b-4a6a73f045f0"
      },
      "source": [
        "t_sp = t.split(' ') #แบ่งด้วย ช่องว่าง\r\n",
        "t_sp"
      ],
      "execution_count": 88,
      "outputs": [
        {
          "output_type": "execute_result",
          "data": {
            "text/plain": [
              "['python', 'is', 'easy']"
            ]
          },
          "metadata": {
            "tags": []
          },
          "execution_count": 88
        }
      ]
    },
    {
      "cell_type": "code",
      "metadata": {
        "colab": {
          "base_uri": "https://localhost:8080/"
        },
        "id": "ICtqhC2Jhf51",
        "outputId": "aa0de25b-3860-4e48-de9a-57b901013b0b"
      },
      "source": [
        "#วิธีรวมกลับ\r\n",
        "print(' '.join(t_sp))"
      ],
      "execution_count": 86,
      "outputs": [
        {
          "output_type": "stream",
          "text": [
            "python is easy\n"
          ],
          "name": "stdout"
        }
      ]
    },
    {
      "cell_type": "markdown",
      "metadata": {
        "id": "n6cZ4Qu3lJjv"
      },
      "source": [
        "# HW คำนวณเวลาเป็นวินาทีของเวลาต่อไปนี้"
      ]
    },
    {
      "cell_type": "code",
      "metadata": {
        "id": "b5FV7QVvlErj"
      },
      "source": [
        ""
      ],
      "execution_count": null,
      "outputs": []
    },
    {
      "cell_type": "code",
      "metadata": {
        "id": "2BKSgynUlEpN"
      },
      "source": [
        ""
      ],
      "execution_count": null,
      "outputs": []
    },
    {
      "cell_type": "code",
      "metadata": {
        "id": "ItTN_W1PlElx"
      },
      "source": [
        ""
      ],
      "execution_count": null,
      "outputs": []
    }
  ]
}