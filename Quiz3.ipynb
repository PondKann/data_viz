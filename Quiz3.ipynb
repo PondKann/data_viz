{
  "nbformat": 4,
  "nbformat_minor": 0,
  "metadata": {
    "colab": {
      "name": "Quiz3.ipynb",
      "provenance": [],
      "authorship_tag": "ABX9TyNOiJouek1Al/1hgG18nBCs",
      "include_colab_link": true
    },
    "kernelspec": {
      "name": "python3",
      "display_name": "Python 3"
    }
  },
  "cells": [
    {
      "cell_type": "markdown",
      "metadata": {
        "id": "view-in-github",
        "colab_type": "text"
      },
      "source": [
        "<a href=\"https://colab.research.google.com/github/PondKann/data_viz/blob/main/Quiz3.ipynb\" target=\"_parent\"><img src=\"https://colab.research.google.com/assets/colab-badge.svg\" alt=\"Open In Colab\"/></a>"
      ]
    },
    {
      "cell_type": "code",
      "metadata": {
        "colab": {
          "base_uri": "https://localhost:8080/"
        },
        "id": "W3IRBj-r8Pg0",
        "outputId": "f8a7d4a8-b5bd-48d0-f4e5-89825e3bf155"
      },
      "source": [
        "import pandas as pd\r\n",
        "from google.colab import drive\r\n",
        "drive.mount('/content/drive')"
      ],
      "execution_count": 1,
      "outputs": [
        {
          "output_type": "stream",
          "text": [
            "Mounted at /content/drive\n"
          ],
          "name": "stdout"
        }
      ]
    },
    {
      "cell_type": "code",
      "metadata": {
        "colab": {
          "base_uri": "https://localhost:8080/"
        },
        "id": "2_yjsiu98PXx",
        "outputId": "0d5c135c-e2bb-4e99-95cd-34421796a64f"
      },
      "source": [
        "import os\r\n",
        "path = '/content/drive/My Drive/DataViz_2021'\r\n",
        "os.listdir(path)"
      ],
      "execution_count": 2,
      "outputs": [
        {
          "output_type": "execute_result",
          "data": {
            "text/plain": [
              "['pm-18-jan-2021.csv',\n",
              " 'covid-19-daily_data_dictionary.xlsx',\n",
              " 'income.csv',\n",
              " 'income2.xls',\n",
              " 'จัดซื้อ 57-58.xls']"
            ]
          },
          "metadata": {
            "tags": []
          },
          "execution_count": 2
        }
      ]
    },
    {
      "cell_type": "code",
      "metadata": {
        "colab": {
          "base_uri": "https://localhost:8080/"
        },
        "id": "zayJQb2t8Wkf",
        "outputId": "63139bba-d75d-4146-9768-3bc3d8afd3fc"
      },
      "source": [
        "df_file_path = os.path.join(path,'จัดซื้อ 57-58.xls')\r\n",
        "print(df_file_path)"
      ],
      "execution_count": 4,
      "outputs": [
        {
          "output_type": "stream",
          "text": [
            "/content/drive/My Drive/DataViz_2021/จัดซื้อ 57-58.xls\n"
          ],
          "name": "stdout"
        }
      ]
    },
    {
      "cell_type": "code",
      "metadata": {
        "id": "FGFdB1438WiH"
      },
      "source": [
        "df= pd.read_excel(df_file_path,sheet_name=0,skiprows=0,header=4)\r\n",
        "df"
      ],
      "execution_count": null,
      "outputs": []
    },
    {
      "cell_type": "code",
      "metadata": {
        "id": "B5yBiYQm9pyd"
      },
      "source": [
        "df2= pd.read_excel(df_file_path,sheet_name=1,skiprows=0,header=4)\r\n",
        "df2"
      ],
      "execution_count": null,
      "outputs": []
    },
    {
      "cell_type": "code",
      "metadata": {
        "id": "W01fRQeO9pvY"
      },
      "source": [
        ""
      ],
      "execution_count": null,
      "outputs": []
    }
  ]
}