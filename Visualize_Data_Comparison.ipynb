{
  "nbformat": 4,
  "nbformat_minor": 0,
  "metadata": {
    "colab": {
      "name": "Visualize Data Comparison.ipynb",
      "provenance": [],
      "authorship_tag": "ABX9TyOqQOyySwhefMHfoGwYtlEJ",
      "include_colab_link": true
    },
    "kernelspec": {
      "name": "python3",
      "display_name": "Python 3"
    },
    "language_info": {
      "name": "python"
    }
  },
  "cells": [
    {
      "cell_type": "markdown",
      "metadata": {
        "id": "view-in-github",
        "colab_type": "text"
      },
      "source": [
        "<a href=\"https://colab.research.google.com/github/PondKann/data_viz/blob/main/Visualize_Data_Comparison.ipynb\" target=\"_parent\"><img src=\"https://colab.research.google.com/assets/colab-badge.svg\" alt=\"Open In Colab\"/></a>"
      ]
    },
    {
      "cell_type": "code",
      "metadata": {
        "colab": {
          "base_uri": "https://localhost:8080/"
        },
        "id": "yucoGBuYI7my",
        "outputId": "7c77f665-9463-48ad-e153-61450c88285b"
      },
      "source": [
        "import pandas as pd\n",
        "from google.colab import drive\n",
        "drive.mount('/content/drive')"
      ],
      "execution_count": 1,
      "outputs": [
        {
          "output_type": "stream",
          "text": [
            "Mounted at /content/drive\n"
          ],
          "name": "stdout"
        }
      ]
    },
    {
      "cell_type": "code",
      "metadata": {
        "colab": {
          "base_uri": "https://localhost:8080/"
        },
        "id": "iSCUIdsNJYBp",
        "outputId": "2d5408a2-a1a1-4662-885c-40b13a523984"
      },
      "source": [
        "import os\n",
        "path = '/content/drive/My Drive/DataViz_2021'\n",
        "os.listdir(path)"
      ],
      "execution_count": 2,
      "outputs": [
        {
          "output_type": "execute_result",
          "data": {
            "text/plain": [
              "['pm-18-jan-2021.csv',\n",
              " 'covid-19-daily_data_dictionary.xlsx',\n",
              " 'income.csv',\n",
              " 'income2.xls',\n",
              " 'จัดซื้อ 57-58.xls',\n",
              " 'online_retail_II.xlsx',\n",
              " 'online_retail_II.csv',\n",
              " 'dataClean.csv',\n",
              " 'search_click.csv',\n",
              " 'example_timestamp.csv',\n",
              " 'example_timestamp_02.csv',\n",
              " 'search_request.csv']"
            ]
          },
          "metadata": {
            "tags": []
          },
          "execution_count": 2
        }
      ]
    },
    {
      "cell_type": "code",
      "metadata": {
        "colab": {
          "base_uri": "https://localhost:8080/"
        },
        "id": "KZ2n_OZMJX_O",
        "outputId": "ba4dc513-4b71-413b-bec6-439d7742dbdc"
      },
      "source": [
        "data = pd.read_csv(os.path.join(path,'search_request.csv'))"
      ],
      "execution_count": 3,
      "outputs": [
        {
          "output_type": "stream",
          "text": [
            "/usr/local/lib/python3.7/dist-packages/IPython/core/interactiveshell.py:2718: DtypeWarning: Columns (7,8,9) have mixed types.Specify dtype option on import or set low_memory=False.\n",
            "  interactivity=interactivity, compiler=compiler, result=result)\n"
          ],
          "name": "stderr"
        }
      ]
    },
    {
      "cell_type": "code",
      "metadata": {
        "colab": {
          "base_uri": "https://localhost:8080/",
          "height": 484
        },
        "id": "iiF7AnroJX8Z",
        "outputId": "c993c71e-6752-4efe-8b5f-c1f4f80828f0"
      },
      "source": [
        "data.head()"
      ],
      "execution_count": 4,
      "outputs": [
        {
          "output_type": "execute_result",
          "data": {
            "text/html": [
              "<div>\n",
              "<style scoped>\n",
              "    .dataframe tbody tr th:only-of-type {\n",
              "        vertical-align: middle;\n",
              "    }\n",
              "\n",
              "    .dataframe tbody tr th {\n",
              "        vertical-align: top;\n",
              "    }\n",
              "\n",
              "    .dataframe thead th {\n",
              "        text-align: right;\n",
              "    }\n",
              "</style>\n",
              "<table border=\"1\" class=\"dataframe\">\n",
              "  <thead>\n",
              "    <tr style=\"text-align: right;\">\n",
              "      <th></th>\n",
              "      <th>Unnamed: 0</th>\n",
              "      <th>search_id</th>\n",
              "      <th>search_timestamp</th>\n",
              "      <th>user_agent</th>\n",
              "      <th>q</th>\n",
              "      <th>user_id</th>\n",
              "      <th>session_id</th>\n",
              "      <th>number_of_result</th>\n",
              "      <th>lat</th>\n",
              "      <th>long</th>\n",
              "    </tr>\n",
              "  </thead>\n",
              "  <tbody>\n",
              "    <tr>\n",
              "      <th>0</th>\n",
              "      <td>0</td>\n",
              "      <td>683de889-f923-494e-9d46-44a3d67b7259</td>\n",
              "      <td>2018-06-14 12:34:35.449</td>\n",
              "      <td>Wongnai/8.17.3 rv:8.17.3.3921 (iPhone5,4; iOS;...</td>\n",
              "      <td>NaN</td>\n",
              "      <td>NaN</td>\n",
              "      <td>5lqjjikta19d296mo7g2h1k86p</td>\n",
              "      <td>18</td>\n",
              "      <td>12.6347</td>\n",
              "      <td>101.463</td>\n",
              "    </tr>\n",
              "    <tr>\n",
              "      <th>1</th>\n",
              "      <td>1</td>\n",
              "      <td>4a811230-ffa4-4631-a4c8-5d0394137d02</td>\n",
              "      <td>2018-06-14 17:11:19.469</td>\n",
              "      <td>Mozilla/5.0 (iPhone; CPU iPhone OS 11_4 like M...</td>\n",
              "      <td>NaN</td>\n",
              "      <td>NaN</td>\n",
              "      <td>1r3iotmp0o9slom91stdt9vivc</td>\n",
              "      <td>10</td>\n",
              "      <td>14.8009</td>\n",
              "      <td>102.534</td>\n",
              "    </tr>\n",
              "    <tr>\n",
              "      <th>2</th>\n",
              "      <td>2</td>\n",
              "      <td>7ad6ee8e-438e-4bea-9183-74dcef9e358e</td>\n",
              "      <td>2018-06-14 13:22:31.736</td>\n",
              "      <td>Mozilla/5.0 (Linux; Android 7.0; SAMSUNG SM-J7...</td>\n",
              "      <td>NaN</td>\n",
              "      <td>NaN</td>\n",
              "      <td>5ci1eo4v5u9dha4ppgu94ue7p6</td>\n",
              "      <td>8</td>\n",
              "      <td>13.7383</td>\n",
              "      <td>100.371</td>\n",
              "    </tr>\n",
              "    <tr>\n",
              "      <th>3</th>\n",
              "      <td>3</td>\n",
              "      <td>0c17a5f5-fa89-40f4-ae94-a8659268f827</td>\n",
              "      <td>2018-06-02 12:37:27.331</td>\n",
              "      <td>Mozilla/5.0 (Linux; Android 7.1.1; SM-N950F Bu...</td>\n",
              "      <td>NaN</td>\n",
              "      <td>NaN</td>\n",
              "      <td>39n535qgje9kpojp0grhfj8umk</td>\n",
              "      <td>12</td>\n",
              "      <td>12.6669</td>\n",
              "      <td>101.861</td>\n",
              "    </tr>\n",
              "    <tr>\n",
              "      <th>4</th>\n",
              "      <td>4</td>\n",
              "      <td>6870dc3a-5602-44fc-80ed-df0a7783df9d</td>\n",
              "      <td>2018-06-02 11:19:22.404</td>\n",
              "      <td>Mozilla/5.0 (iPhone; CPU iPhone OS 11_3_1 like...</td>\n",
              "      <td>NaN</td>\n",
              "      <td>NaN</td>\n",
              "      <td>5pa03h6lj691to60erver1l8o4</td>\n",
              "      <td>14</td>\n",
              "      <td>12.2372</td>\n",
              "      <td>99.88</td>\n",
              "    </tr>\n",
              "  </tbody>\n",
              "</table>\n",
              "</div>"
            ],
            "text/plain": [
              "   Unnamed: 0                             search_id  ...      lat     long\n",
              "0           0  683de889-f923-494e-9d46-44a3d67b7259  ...  12.6347  101.463\n",
              "1           1  4a811230-ffa4-4631-a4c8-5d0394137d02  ...  14.8009  102.534\n",
              "2           2  7ad6ee8e-438e-4bea-9183-74dcef9e358e  ...  13.7383  100.371\n",
              "3           3  0c17a5f5-fa89-40f4-ae94-a8659268f827  ...  12.6669  101.861\n",
              "4           4  6870dc3a-5602-44fc-80ed-df0a7783df9d  ...  12.2372    99.88\n",
              "\n",
              "[5 rows x 10 columns]"
            ]
          },
          "metadata": {
            "tags": []
          },
          "execution_count": 4
        }
      ]
    },
    {
      "cell_type": "markdown",
      "metadata": {
        "id": "1Ue_aPrHKmOK"
      },
      "source": [
        "### เตรียมข้อมูล"
      ]
    },
    {
      "cell_type": "markdown",
      "metadata": {
        "id": "Siz9Pk8DKonT"
      },
      "source": [
        "#### แปลงข้อมูลบอกเวลาให้เป็นตัวแปรชนิด datetime (Timestamp)มันเหมือนกัน"
      ]
    },
    {
      "cell_type": "code",
      "metadata": {
        "id": "MZVkXZqfKluS"
      },
      "source": [
        "data['search_timestamp']  = pd.to_datetime(data['search_timestamp'],format='%Y-%m-%d %H:%M:%S',errors='coerce')"
      ],
      "execution_count": 5,
      "outputs": []
    },
    {
      "cell_type": "markdown",
      "metadata": {
        "id": "84fCEMO8KE3E"
      },
      "source": [
        "## Bar Chart (กราฟแท่ง)"
      ]
    },
    {
      "cell_type": "markdown",
      "metadata": {
        "id": "B2z0myGtLDVF"
      },
      "source": [
        "#### สร้างกราฟแท่งเปรียบเทียบปริมาณ คนเข้าใช้ web Wongnai.com เพื่อค้นหาร้านอาหารในแต่ละวัน\n",
        "` ` `matplotlib.pyplot.bar(x, height, width=0.8, bottom=None, *, align='center', data=None, **kwargs) ` ` `"
      ]
    },
    {
      "cell_type": "code",
      "metadata": {
        "id": "VgzvprSPKEfO"
      },
      "source": [
        "from matplotlib import pyplot as plt \n",
        "from datetime import datetime,time"
      ],
      "execution_count": 8,
      "outputs": []
    },
    {
      "cell_type": "code",
      "metadata": {
        "id": "Zu5V_Cw-RjXu"
      },
      "source": [
        "d0 = "
      ],
      "execution_count": null,
      "outputs": []
    },
    {
      "cell_type": "code",
      "metadata": {
        "id": "Fus2XR9oRjVX"
      },
      "source": [
        ""
      ],
      "execution_count": null,
      "outputs": []
    },
    {
      "cell_type": "code",
      "metadata": {
        "id": "3Upbgg-1RjSk"
      },
      "source": [
        ""
      ],
      "execution_count": null,
      "outputs": []
    },
    {
      "cell_type": "markdown",
      "metadata": {
        "id": "TkirN7UBTy_3"
      },
      "source": [
        "ส่วนประกอบของกราฟแท่ง\n",
        "- ตัวกราฟแท่ง (height)\n",
        "- ตำแหน่งกราฟแท่ง (x)\n",
        "- ชื่อแท่ง tick_label\n",
        "- ชื่อกราฟ (plt.title)\n",
        "- ชื่อแกน x (plt.xlabel)\n",
        "- ชื่อแกน y (plt.ylabel)"
      ]
    },
    {
      "cell_type": "markdown",
      "metadata": {
        "id": "H-Skgtw0V9nV"
      },
      "source": [
        "การแสดงตัวอักษรภาษาไทยในกราฟ \n",
        "https://medium.com/@kanyawee.work/%E0%B9%81%E0%B8%AA%E0%B8%94%E0%B8%87%E0%B8%9C%E0%B8%A5%E0%B8%A0%E0%B8%B2%E0%B8%A9%E0%B8%B2%E0%B9%84%E0%B8%97%E0%B8%A2%E0%B9%83%E0%B8%99%E0%B8%81%E0%B8%A3%E0%B8%B2%E0%B8%9F%E0%B8%82%E0%B8%AD%E0%B8%87-matplotlib-%E0%B8%9A%E0%B8%99-google-colab-37210d9a9f31"
      ]
    },
    {
      "cell_type": "code",
      "metadata": {
        "id": "ACYAIJUCWM8h"
      },
      "source": [
        "import matplotlib\n",
        "matplotlib.rcParams['font.family'] ='Tahoma'"
      ],
      "execution_count": null,
      "outputs": []
    },
    {
      "cell_type": "code",
      "metadata": {
        "colab": {
          "base_uri": "https://localhost:8080/",
          "height": 307
        },
        "id": "RF0GRn5iKEc7",
        "outputId": "c66b19b0-8dee-44b2-fdc8-6c5f8b008e52"
      },
      "source": [
        "plt.bar([1,2,3,4,5,6,7],[data[data['search_timestamp'].dt.dayofweek==0].shape[0],\n",
        "                                data[data['search_timestamp'].dt.dayofweek==1].shape[0],\n",
        "                                data[data['search_timestamp'].dt.dayofweek==2].shape[0],\n",
        "                                data[data['search_timestamp'].dt.dayofweek==3].shape[0],\n",
        "                                data[data['search_timestamp'].dt.dayofweek==4].shape[0],\n",
        "                                data[data['search_timestamp'].dt.dayofweek==5].shape[0],\n",
        "                                data[data['search_timestamp'].dt.dayofweek==6].shape[0]\n",
        "                                ],tick_label=['Mon', 'Tue', 'Wed', 'Thuy', 'Fri', 'Sat','Suny' ] )\n",
        "plt.xlabel('Day')\n",
        "plt.ylabel('Number of Requeste')\n",
        "plt.title('กราฟแท่งเปรียบเทียบปริมาณ คนเข้าใช้เพื่อค้นหาร้านอาหาร ในแต่ละวัน')"
      ],
      "execution_count": 25,
      "outputs": [
        {
          "output_type": "execute_result",
          "data": {
            "text/plain": [
              "Text(0, 0.5, 'Number of Requeste')"
            ]
          },
          "metadata": {
            "tags": []
          },
          "execution_count": 25
        },
        {
          "output_type": "display_data",
          "data": {
            "image/png": "[encoded data removed]",
            "text/plain": [
              "<Figure size 432x288 with 1 Axes>"
            ]
          },
          "metadata": {
            "tags": [],
            "needs_background": "light"
          }
        }
      ]
    },
    {
      "cell_type": "code",
      "metadata": {
        "id": "xO6M5qDWPtbG"
      },
      "source": [
        "\n",
        "plt.plot(df['PetalLength'][:50],df['PetalWidth'][:50], 'or' , alpha=0.5,label='setosa') \n",
        "plt.plot(df['PetalLength'][50:100],df['PetalWidth'][50:100], 'xc', alpha=0.5,label='versicolor') \n",
        "plt.plot(df['PetalLength'][100:],df['PetalWidth'][100:], '*m', alpha=0.5,label='virginica') \n",
        "plt.legend()"
      ],
      "execution_count": null,
      "outputs": []
    },
    {
      "cell_type": "code",
      "metadata": {
        "id": "H3vIHKKTPtWS"
      },
      "source": [
        ""
      ],
      "execution_count": null,
      "outputs": []
    },
    {
      "cell_type": "code",
      "metadata": {
        "id": "CCBPge5FKEYq"
      },
      "source": [
        ""
      ],
      "execution_count": null,
      "outputs": []
    }
  ]
}