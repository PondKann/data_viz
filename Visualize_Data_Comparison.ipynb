{
  "nbformat": 4,
  "nbformat_minor": 0,
  "metadata": {
    "colab": {
      "name": "Visualize Data Comparison.ipynb",
      "provenance": [],
      "authorship_tag": "ABX9TyOES68JTPN8SLjSNJr8gCLO",
      "include_colab_link": true
    },
    "kernelspec": {
      "name": "python3",
      "display_name": "Python 3"
    },
    "language_info": {
      "name": "python"
    }
  },
  "cells": [
    {
      "cell_type": "markdown",
      "metadata": {
        "id": "view-in-github",
        "colab_type": "text"
      },
      "source": [
        "<a href=\"https://colab.research.google.com/github/PondKann/data_viz/blob/main/Visualize_Data_Comparison.ipynb\" target=\"_parent\"><img src=\"https://colab.research.google.com/assets/colab-badge.svg\" alt=\"Open In Colab\"/></a>"
      ]
    },
    {
      "cell_type": "code",
      "metadata": {
        "colab": {
          "base_uri": "https://localhost:8080/"
        },
        "id": "yucoGBuYI7my",
        "outputId": "d384b9b9-6444-4468-c7db-3f2da84fedd7"
      },
      "source": [
        "import pandas as pd\n",
        "from google.colab import drive\n",
        "drive.mount('/content/drive')"
      ],
      "execution_count": 1,
      "outputs": [
        {
          "output_type": "stream",
          "text": [
            "Mounted at /content/drive\n"
          ],
          "name": "stdout"
        }
      ]
    },
    {
      "cell_type": "code",
      "metadata": {
        "colab": {
          "base_uri": "https://localhost:8080/"
        },
        "id": "iSCUIdsNJYBp",
        "outputId": "c949b1df-4e4c-44a4-963e-dc767a1a18ee"
      },
      "source": [
        "import os\n",
        "path = '/content/drive/My Drive/DataViz_2021'\n",
        "os.listdir(path)"
      ],
      "execution_count": 2,
      "outputs": [
        {
          "output_type": "execute_result",
          "data": {
            "text/plain": [
              "['pm-18-jan-2021.csv',\n",
              " 'covid-19-daily_data_dictionary.xlsx',\n",
              " 'income.csv',\n",
              " 'income2.xls',\n",
              " 'จัดซื้อ 57-58.xls',\n",
              " 'online_retail_II.xlsx',\n",
              " 'online_retail_II.csv',\n",
              " 'dataClean.csv',\n",
              " 'search_click.csv',\n",
              " 'example_timestamp.csv',\n",
              " 'example_timestamp_02.csv',\n",
              " 'search_request.csv']"
            ]
          },
          "metadata": {
            "tags": []
          },
          "execution_count": 2
        }
      ]
    },
    {
      "cell_type": "code",
      "metadata": {
        "colab": {
          "base_uri": "https://localhost:8080/"
        },
        "id": "KZ2n_OZMJX_O",
        "outputId": "ea6b176d-9aca-4811-9b4e-82dcac90e696"
      },
      "source": [
        "data = pd.read_csv(os.path.join(path,'search_request.csv'))"
      ],
      "execution_count": 3,
      "outputs": [
        {
          "output_type": "stream",
          "text": [
            "/usr/local/lib/python3.7/dist-packages/IPython/core/interactiveshell.py:2718: DtypeWarning: Columns (7,8,9) have mixed types.Specify dtype option on import or set low_memory=False.\n",
            "  interactivity=interactivity, compiler=compiler, result=result)\n"
          ],
          "name": "stderr"
        }
      ]
    },
    {
      "cell_type": "code",
      "metadata": {
        "colab": {
          "base_uri": "https://localhost:8080/",
          "height": 484
        },
        "id": "iiF7AnroJX8Z",
        "outputId": "7d442acb-ce18-4fbf-f2f9-2e9eb015bd68"
      },
      "source": [
        "data.head()"
      ],
      "execution_count": 4,
      "outputs": [
        {
          "output_type": "execute_result",
          "data": {
            "text/html": [
              "<div>\n",
              "<style scoped>\n",
              "    .dataframe tbody tr th:only-of-type {\n",
              "        vertical-align: middle;\n",
              "    }\n",
              "\n",
              "    .dataframe tbody tr th {\n",
              "        vertical-align: top;\n",
              "    }\n",
              "\n",
              "    .dataframe thead th {\n",
              "        text-align: right;\n",
              "    }\n",
              "</style>\n",
              "<table border=\"1\" class=\"dataframe\">\n",
              "  <thead>\n",
              "    <tr style=\"text-align: right;\">\n",
              "      <th></th>\n",
              "      <th>Unnamed: 0</th>\n",
              "      <th>search_id</th>\n",
              "      <th>search_timestamp</th>\n",
              "      <th>user_agent</th>\n",
              "      <th>q</th>\n",
              "      <th>user_id</th>\n",
              "      <th>session_id</th>\n",
              "      <th>number_of_result</th>\n",
              "      <th>lat</th>\n",
              "      <th>long</th>\n",
              "    </tr>\n",
              "  </thead>\n",
              "  <tbody>\n",
              "    <tr>\n",
              "      <th>0</th>\n",
              "      <td>0</td>\n",
              "      <td>683de889-f923-494e-9d46-44a3d67b7259</td>\n",
              "      <td>2018-06-14 12:34:35.449</td>\n",
              "      <td>Wongnai/8.17.3 rv:8.17.3.3921 (iPhone5,4; iOS;...</td>\n",
              "      <td>NaN</td>\n",
              "      <td>NaN</td>\n",
              "      <td>5lqjjikta19d296mo7g2h1k86p</td>\n",
              "      <td>18</td>\n",
              "      <td>12.6347</td>\n",
              "      <td>101.463</td>\n",
              "    </tr>\n",
              "    <tr>\n",
              "      <th>1</th>\n",
              "      <td>1</td>\n",
              "      <td>4a811230-ffa4-4631-a4c8-5d0394137d02</td>\n",
              "      <td>2018-06-14 17:11:19.469</td>\n",
              "      <td>Mozilla/5.0 (iPhone; CPU iPhone OS 11_4 like M...</td>\n",
              "      <td>NaN</td>\n",
              "      <td>NaN</td>\n",
              "      <td>1r3iotmp0o9slom91stdt9vivc</td>\n",
              "      <td>10</td>\n",
              "      <td>14.8009</td>\n",
              "      <td>102.534</td>\n",
              "    </tr>\n",
              "    <tr>\n",
              "      <th>2</th>\n",
              "      <td>2</td>\n",
              "      <td>7ad6ee8e-438e-4bea-9183-74dcef9e358e</td>\n",
              "      <td>2018-06-14 13:22:31.736</td>\n",
              "      <td>Mozilla/5.0 (Linux; Android 7.0; SAMSUNG SM-J7...</td>\n",
              "      <td>NaN</td>\n",
              "      <td>NaN</td>\n",
              "      <td>5ci1eo4v5u9dha4ppgu94ue7p6</td>\n",
              "      <td>8</td>\n",
              "      <td>13.7383</td>\n",
              "      <td>100.371</td>\n",
              "    </tr>\n",
              "    <tr>\n",
              "      <th>3</th>\n",
              "      <td>3</td>\n",
              "      <td>0c17a5f5-fa89-40f4-ae94-a8659268f827</td>\n",
              "      <td>2018-06-02 12:37:27.331</td>\n",
              "      <td>Mozilla/5.0 (Linux; Android 7.1.1; SM-N950F Bu...</td>\n",
              "      <td>NaN</td>\n",
              "      <td>NaN</td>\n",
              "      <td>39n535qgje9kpojp0grhfj8umk</td>\n",
              "      <td>12</td>\n",
              "      <td>12.6669</td>\n",
              "      <td>101.861</td>\n",
              "    </tr>\n",
              "    <tr>\n",
              "      <th>4</th>\n",
              "      <td>4</td>\n",
              "      <td>6870dc3a-5602-44fc-80ed-df0a7783df9d</td>\n",
              "      <td>2018-06-02 11:19:22.404</td>\n",
              "      <td>Mozilla/5.0 (iPhone; CPU iPhone OS 11_3_1 like...</td>\n",
              "      <td>NaN</td>\n",
              "      <td>NaN</td>\n",
              "      <td>5pa03h6lj691to60erver1l8o4</td>\n",
              "      <td>14</td>\n",
              "      <td>12.2372</td>\n",
              "      <td>99.88</td>\n",
              "    </tr>\n",
              "  </tbody>\n",
              "</table>\n",
              "</div>"
            ],
            "text/plain": [
              "   Unnamed: 0                             search_id  ...      lat     long\n",
              "0           0  683de889-f923-494e-9d46-44a3d67b7259  ...  12.6347  101.463\n",
              "1           1  4a811230-ffa4-4631-a4c8-5d0394137d02  ...  14.8009  102.534\n",
              "2           2  7ad6ee8e-438e-4bea-9183-74dcef9e358e  ...  13.7383  100.371\n",
              "3           3  0c17a5f5-fa89-40f4-ae94-a8659268f827  ...  12.6669  101.861\n",
              "4           4  6870dc3a-5602-44fc-80ed-df0a7783df9d  ...  12.2372    99.88\n",
              "\n",
              "[5 rows x 10 columns]"
            ]
          },
          "metadata": {
            "tags": []
          },
          "execution_count": 4
        }
      ]
    },
    {
      "cell_type": "markdown",
      "metadata": {
        "id": "1Ue_aPrHKmOK"
      },
      "source": [
        "### เตรียมข้อมูล"
      ]
    },
    {
      "cell_type": "markdown",
      "metadata": {
        "id": "Siz9Pk8DKonT"
      },
      "source": [
        "#### แปลงข้อมูลบอกเวลาให้เป็นตัวแปรชนิด datetime (Timestamp)มันเหมือนกัน"
      ]
    },
    {
      "cell_type": "code",
      "metadata": {
        "id": "MZVkXZqfKluS"
      },
      "source": [
        "data['search_timestamp']  = pd.to_datetime(data['search_timestamp'],format='%Y-%m-%d %H:%M:%S',errors='coerce')"
      ],
      "execution_count": null,
      "outputs": []
    },
    {
      "cell_type": "markdown",
      "metadata": {
        "id": "84fCEMO8KE3E"
      },
      "source": [
        "## Bar Chart (กราฟแท่ง)"
      ]
    },
    {
      "cell_type": "markdown",
      "metadata": {
        "id": "B2z0myGtLDVF"
      },
      "source": [
        "#### สร้างกราฟแท่งเปรียบเทียบปริมาณ คนเข้าใช้ web Wongnai.com เพื่อค้นหาร้านอาหารในแต่ละวัน\n",
        "` ` `matplotlib.pyplot.bar(x, height, width=0.8, bottom=None, *, align='center', data=None, **kwargs) ` ` `"
      ]
    },
    {
      "cell_type": "code",
      "metadata": {
        "id": "VgzvprSPKEfO"
      },
      "source": [
        "from matplotlib import pyplot as plt \n",
        "from datetime import datetime,time"
      ],
      "execution_count": 12,
      "outputs": []
    },
    {
      "cell_type": "markdown",
      "metadata": {
        "id": "TkirN7UBTy_3"
      },
      "source": [
        "ส่วนประกอบของกราฟแท่ง\n",
        "- ตัวกราฟแท่ง (height)\n",
        "- ตำแหน่งกราฟแท่ง (x)\n",
        "- ชื่อแท่ง tick_label\n",
        "- ชื่อกราฟ (plt.title)\n",
        "- ชื่อแกน x (plt.xlabel)\n",
        "- ชื่อแกน y (plt.ylabel)"
      ]
    },
    {
      "cell_type": "markdown",
      "metadata": {
        "id": "H-Skgtw0V9nV"
      },
      "source": [
        "การแสดงตัวอักษรภาษาไทยในกราฟ \n",
        "https://medium.com/@kanyawee.work/%E0%B9%81%E0%B8%AA%E0%B8%94%E0%B8%87%E0%B8%9C%E0%B8%A5%E0%B8%A0%E0%B8%B2%E0%B8%A9%E0%B8%B2%E0%B9%84%E0%B8%97%E0%B8%A2%E0%B9%83%E0%B8%99%E0%B8%81%E0%B8%A3%E0%B8%B2%E0%B8%9F%E0%B8%82%E0%B8%AD%E0%B8%87-matplotlib-%E0%B8%9A%E0%B8%99-google-colab-37210d9a9f31"
      ]
    },
    {
      "cell_type": "code",
      "metadata": {
        "id": "qqRFdiXoXeSw"
      },
      "source": [
        "import matplotlib as mpl \n",
        "!wget -q https://github.com/Phonbopit/sarabun-webfont/raw/master/fonts/thsarabunnew-webfont.ttf\n",
        "mpl.font_manager.fontManager.addfont('thsarabunnew-webfont.ttf')\n",
        "mpl.rc('font', family='TH Sarabun New')"
      ],
      "execution_count": 11,
      "outputs": []
    },
    {
      "cell_type": "code",
      "metadata": {
        "colab": {
          "base_uri": "https://localhost:8080/",
          "height": 315
        },
        "id": "RF0GRn5iKEc7",
        "outputId": "bac184dc-0442-4dc6-8ff9-84eb82544f27"
      },
      "source": [
        "plt.bar([1,2,3,4,5,6,7],[data[data['search_timestamp'].dt.dayofweek==0].shape[0],\n",
        "                                data[data['search_timestamp'].dt.dayofweek==1].shape[0],\n",
        "                                data[data['search_timestamp'].dt.dayofweek==2].shape[0],\n",
        "                                data[data['search_timestamp'].dt.dayofweek==3].shape[0],\n",
        "                                data[data['search_timestamp'].dt.dayofweek==4].shape[0],\n",
        "                                data[data['search_timestamp'].dt.dayofweek==5].shape[0],\n",
        "                                data[data['search_timestamp'].dt.dayofweek==6].shape[0]\n",
        "                                ],tick_label=['Mon', 'Tue', 'Wed', 'Thu', 'Fri', 'Sat','Sun' ] )\n",
        "plt.xlabel('Day')\n",
        "plt.ylabel('Number of Requeste')\n",
        "plt.title('เทียบปริมาณคนเข้าใช้ Web Wongnai.com ในแต่ละวัน')"
      ],
      "execution_count": null,
      "outputs": [
        {
          "output_type": "execute_result",
          "data": {
            "text/plain": [
              "Text(0.5, 1.0, 'เทียบปริมาณคนเข้าใช้ Web Wongnai.com ในแต่ละวัน')"
            ]
          },
          "metadata": {
            "tags": []
          },
          "execution_count": 8
        },
        {
          "output_type": "display_data",
          "data": {
            "image/png": "[encoded data removed]",
            "text/plain": [
              "<Figure size 432x288 with 1 Axes>"
            ]
          },
          "metadata": {
            "tags": [],
            "needs_background": "light"
          }
        }
      ]
    },
    {
      "cell_type": "markdown",
      "metadata": {
        "id": "6kdla82ZZI9q"
      },
      "source": [
        "วันจันทร์ และ ช่วงเวลาก่อนเที่ยง"
      ]
    },
    {
      "cell_type": "code",
      "metadata": {
        "id": "54i2zYRMY-WQ"
      },
      "source": [
        "mon11 = data[(data['search_timestamp'].dt.dayofweek==0) & (data['search_timestamp'].dt.time < time(hour=12))  & (data['search_timestamp'].dt.time >= time(hour=11)) ].shape[0]\n",
        "tue11 = data[(data['search_timestamp'].dt.dayofweek==1) & (data['search_timestamp'].dt.time < time(hour=12))  & (data['search_timestamp'].dt.time >= time(hour=11)) ].shape[0]\n",
        "wed11 = data[(data['search_timestamp'].dt.dayofweek==2) & (data['search_timestamp'].dt.time < time(hour=12))  & (data['search_timestamp'].dt.time >= time(hour=11)) ].shape[0]\n",
        "thu11 = data[(data['search_timestamp'].dt.dayofweek==3) & (data['search_timestamp'].dt.time < time(hour=12))  & (data['search_timestamp'].dt.time >= time(hour=11)) ].shape[0]\n",
        "fri11 = data[(data['search_timestamp'].dt.dayofweek==4) & (data['search_timestamp'].dt.time < time(hour=12))  & (data['search_timestamp'].dt.time >= time(hour=11)) ].shape[0]\n",
        "sat11 = data[(data['search_timestamp'].dt.dayofweek==5) & (data['search_timestamp'].dt.time < time(hour=12))  & (data['search_timestamp'].dt.time >= time(hour=11)) ].shape[0]\n",
        "son11 = data[(data['search_timestamp'].dt.dayofweek==6) & (data['search_timestamp'].dt.time < time(hour=12))  & (data['search_timestamp'].dt.time >= time(hour=11)) ].shape[0]"
      ],
      "execution_count": null,
      "outputs": []
    },
    {
      "cell_type": "code",
      "metadata": {
        "id": "hQPpt1Ou2sJ5"
      },
      "source": [
        ""
      ],
      "execution_count": null,
      "outputs": []
    },
    {
      "cell_type": "markdown",
      "metadata": {
        "id": "yIaJnNkeYZwD"
      },
      "source": [
        "### Grouped bar chart"
      ]
    },
    {
      "cell_type": "markdown",
      "metadata": {
        "id": "PuV4HcCuYoaz"
      },
      "source": [
        "แสดงปริมาณคนเข้าใช้เว็ปในแต่ละวัน"
      ]
    },
    {
      "cell_type": "code",
      "metadata": {
        "id": "b8hya95ccHPA"
      },
      "source": [
        "b4lunch = [data[(data['search_timestamp'].dt.dayofweek == 0)&(data['search_timestamp'].dt.time < time(hour=12))&(data['search_timestamp'].dt.time >= time(hour=11))].shape[0],\n",
        "           data[(data['search_timestamp'].dt.dayofweek == 1)&(data['search_timestamp'].dt.time < time(hour=12))&(data['search_timestamp'].dt.time >= time(hour=11))].shape[0],\n",
        "           data[(data['search_timestamp'].dt.dayofweek == 2)&(data['search_timestamp'].dt.time < time(hour=12))&(data['search_timestamp'].dt.time >= time(hour=11))].shape[0],\n",
        "           data[(data['search_timestamp'].dt.dayofweek == 3)&(data['search_timestamp'].dt.time < time(hour=12))&(data['search_timestamp'].dt.time >= time(hour=11))].shape[0],\n",
        "           data[(data['search_timestamp'].dt.dayofweek == 4)&(data['search_timestamp'].dt.time < time(hour=12))&(data['search_timestamp'].dt.time >= time(hour=11))].shape[0],\n",
        "           data[(data['search_timestamp'].dt.dayofweek == 5)&(data['search_timestamp'].dt.time < time(hour=12))&(data['search_timestamp'].dt.time >= time(hour=11))].shape[0],\n",
        "           data[(data['search_timestamp'].dt.dayofweek == 6)&(data['search_timestamp'].dt.time < time(hour=12))&(data['search_timestamp'].dt.time >= time(hour=11))].shape[0]\n",
        "                         ]"
      ],
      "execution_count": null,
      "outputs": []
    },
    {
      "cell_type": "code",
      "metadata": {
        "id": "1tTD9jPTcHMO",
        "colab": {
          "base_uri": "https://localhost:8080/"
        },
        "outputId": "165c4b41-fff3-4443-8bba-142d534710aa"
      },
      "source": [
        "b4lunch"
      ],
      "execution_count": null,
      "outputs": [
        {
          "output_type": "execute_result",
          "data": {
            "text/plain": [
              "[73249, 73083, 75429, 78024, 99007, 174165, 165440]"
            ]
          },
          "metadata": {
            "tags": []
          },
          "execution_count": 18
        }
      ]
    },
    {
      "cell_type": "code",
      "metadata": {
        "id": "eEsyHkOUcHD0",
        "colab": {
          "base_uri": "https://localhost:8080/"
        },
        "outputId": "e9edf6d6-2daf-4bb8-ca88-098706236595"
      },
      "source": [
        "b4midnight = [data[(data['search_timestamp'].dt.dayofweek == 0)&(data['search_timestamp'].dt.time >= time(hour=23))].shape[0],\n",
        "           data[(data['search_timestamp'].dt.dayofweek == 1)&(data['search_timestamp'].dt.time >= time(hour=23))].shape[0],\n",
        "           data[(data['search_timestamp'].dt.dayofweek == 2)&(data['search_timestamp'].dt.time >= time(hour=23))].shape[0],\n",
        "           data[(data['search_timestamp'].dt.dayofweek == 3)&(data['search_timestamp'].dt.time >= time(hour=23))].shape[0],\n",
        "           data[(data['search_timestamp'].dt.dayofweek == 4)&(data['search_timestamp'].dt.time >= time(hour=23))].shape[0],\n",
        "           data[(data['search_timestamp'].dt.dayofweek == 5)&(data['search_timestamp'].dt.time >= time(hour=23))].shape[0],\n",
        "           data[(data['search_timestamp'].dt.dayofweek == 6)&(data['search_timestamp'].dt.time >= time(hour=23))].shape[0]\n",
        "                         ]\n",
        "b4midnight"
      ],
      "execution_count": null,
      "outputs": [
        {
          "output_type": "execute_result",
          "data": {
            "text/plain": [
              "[31874, 32258, 31153, 35944, 53174, 58306, 35801]"
            ]
          },
          "metadata": {
            "tags": []
          },
          "execution_count": 11
        }
      ]
    },
    {
      "cell_type": "code",
      "metadata": {
        "id": "Uv6ft9t102GN"
      },
      "source": [
        "labels = ['Mon','Tue','Wed','Thu','Fri','Sat','Sun']"
      ],
      "execution_count": null,
      "outputs": []
    },
    {
      "cell_type": "code",
      "metadata": {
        "id": "Xu7EmnkT04on"
      },
      "source": [
        "import numpy as np"
      ],
      "execution_count": null,
      "outputs": []
    },
    {
      "cell_type": "code",
      "metadata": {
        "colab": {
          "base_uri": "https://localhost:8080/"
        },
        "id": "mNIlLz4z_T1s",
        "outputId": "d5be212b-d3d4-4cc3-cbce-4df1a1017ae0"
      },
      "source": [
        "x"
      ],
      "execution_count": null,
      "outputs": [
        {
          "output_type": "execute_result",
          "data": {
            "text/plain": [
              "array([0, 1, 2, 3, 4, 5, 6])"
            ]
          },
          "metadata": {
            "tags": []
          },
          "execution_count": 19
        }
      ]
    },
    {
      "cell_type": "code",
      "metadata": {
        "colab": {
          "base_uri": "https://localhost:8080/",
          "height": 285
        },
        "id": "lTagHGIs04mS",
        "outputId": "d60c4ff4-7cb0-4cd9-bd76-701e836bb40a"
      },
      "source": [
        "x = np.arange(len(labels))  # the label locations\n",
        "width = 0.35  # the width of the bars\n",
        "\n",
        "fig, ax = plt.subplots()\n",
        "rects1 = ax.bar(x - width/2, b4lunch, width, label='lunch time',color = '#fc9700')\n",
        "rects2 = ax.bar(x + width/2, b4midnight, width, label='midnight',color = '#19038a')\n",
        "\n",
        "# Add some text for labels, title and custom x-axis tick labels, etc.\n",
        "ax.set_ylabel('Number of requests')\n",
        "ax.set_title('ปริมาณคนเข้าใช้ Wongnai.com ในแต่ละวัน เปรียบเทียบ 2 ช่วงเวลา')\n",
        "ax.set_xticks(x)\n",
        "ax.set_xticklabels(labels)\n",
        "ax.legend();"
      ],
      "execution_count": null,
      "outputs": [
        {
          "output_type": "display_data",
          "data": {
            "image/png": "[encoded data removed]",
            "text/plain": [
              "<Figure size 432x288 with 1 Axes>"
            ]
          },
          "metadata": {
            "tags": [],
            "needs_background": "light"
          }
        }
      ]
    },
    {
      "cell_type": "markdown",
      "metadata": {
        "id": "I01ZD5v8ATkP"
      },
      "source": [
        "## Stacked bar chart"
      ]
    },
    {
      "cell_type": "code",
      "metadata": {
        "colab": {
          "base_uri": "https://localhost:8080/",
          "height": 285
        },
        "id": "C7dAie_N04j6",
        "outputId": "35d56c3e-0f29-42a3-9209-12efc33cf515"
      },
      "source": [
        "width = 0.35       # the width of the bars: can also be len(x) sequence\n",
        "\n",
        "fig, ax = plt.subplots()\n",
        "\n",
        "ax.bar(labels, b4lunch, width, label='Before lunch',color = '#FF8000')\n",
        "ax.bar(labels, b4midnight, width,bottom=b4lunch, label='Before midnight', color='#610B38')\n",
        "\n",
        "ax.set_ylabel('Number of requests')\n",
        "ax.set_title('ปริมาณคนเข้าใช้ Wongnai.com ในแต่ละวัน เปรียบเทียบ 2 ช่วงเวลา')\n",
        "ax.legend()\n",
        "\n",
        "plt.show()"
      ],
      "execution_count": null,
      "outputs": [
        {
          "output_type": "display_data",
          "data": {
            "image/png": "[encoded data removed]",
            "text/plain": [
              "<Figure size 432x288 with 1 Axes>"
            ]
          },
          "metadata": {
            "tags": [],
            "needs_background": "light"
          }
        }
      ]
    },
    {
      "cell_type": "code",
      "metadata": {
        "colab": {
          "base_uri": "https://localhost:8080/",
          "height": 299
        },
        "id": "TYTpkbG902DW",
        "outputId": "b611e830-fd2a-4a2c-cb9a-978f23083c05"
      },
      "source": [
        "width = 0.35       # the width of the bars: can also be len(x) sequence\n",
        "\n",
        "fig, ax = plt.subplots()\n",
        "\n",
        "ax.barh(labels, b4lunch, width, label='Before lunch',color = '#FF8000')\n",
        "ax.barh(labels, b4midnight, width, left=b4lunch, label='Before midnight', color='#610B38')\n",
        "\n",
        "ax.set_xlabel('Number of requests')\n",
        "ax.set_title('ปริมาณคนเข้าใช้ Wongnai.com ในแต่ละวัน เปรียบเทียบ 2 ช่วงเวลา')\n",
        "ax.legend()\n",
        "\n",
        "plt.show()"
      ],
      "execution_count": null,
      "outputs": [
        {
          "output_type": "display_data",
          "data": {
            "image/png": "[encoded data removed]",
            "text/plain": [
              "<Figure size 432x288 with 1 Axes>"
            ]
          },
          "metadata": {
            "tags": [],
            "needs_background": "light"
          }
        }
      ]
    },
    {
      "cell_type": "code",
      "metadata": {
        "id": "HYIm-jCNFtdt"
      },
      "source": [
        "labels2 = ['Before lunch','Before midnight']"
      ],
      "execution_count": null,
      "outputs": []
    },
    {
      "cell_type": "code",
      "metadata": {
        "colab": {
          "base_uri": "https://localhost:8080/"
        },
        "id": "3cjZOe96G18Q",
        "outputId": "b4325423-7105-46ff-c752-8e01f4a9414d"
      },
      "source": [
        "labels"
      ],
      "execution_count": null,
      "outputs": [
        {
          "output_type": "execute_result",
          "data": {
            "text/plain": [
              "['Mon', 'Tue', 'Wed', 'Thu', 'Fri', 'Sat', 'Sun']"
            ]
          },
          "metadata": {
            "tags": []
          },
          "execution_count": 53
        }
      ]
    },
    {
      "cell_type": "markdown",
      "metadata": {
        "id": "tAj7K6sQIYkc"
      },
      "source": [
        "### เช็คชื่อ โดยให้วาด Bar chart ที่เปรียบเทียบปริมาณคนใช้งาน Wongnai.com สองช่วงเวลา โดยให้กราฟแสดงสัดส่วนของปริมาณคนใช้งานในแต่ละวันด้วย"
      ]
    },
    {
      "cell_type": "code",
      "metadata": {
        "colab": {
          "base_uri": "https://localhost:8080/",
          "height": 286
        },
        "id": "h44sF3NfFfP8",
        "outputId": "eefee714-ea28-4439-bcfb-14e0ad339ba5"
      },
      "source": [
        "\n",
        "fig, ax = plt.subplots()\n",
        "\n",
        "ax.bar(labels2, b4lunch[0], width, label='Mon')\n",
        "ax.bar(labels2, b4midnight[1], width, bottom=b4lunch, label='Tue')\n",
        "ax.bar(labels2, b4midnight[2], width, bottom=b4lunch, label='Wed')\n",
        "ax.bar(labels2, b4midnight[3], width, bottom=b4lunch, label='Thu')\n",
        "ax.bar(labels2, b4midnight[4], width, bottom=b4lunch, label='Fri')\n",
        "ax.bar(labels2, b4midnight[5], width, bottom=b4lunch, label='Sat')\n",
        "ax.bar(labels2, b4midnight[6], width, bottom=b4lunch, label='Sun')\n",
        "\n",
        "\n",
        "ax.set_ylabel('Number of requests')\n",
        "ax.set_title('ปริมาณคนเข้าใช้ Wongnai.com ในแต่ละวัน เปรียบเทียบ 2 ช่วงเวลา')\n",
        "ax.legend()\n",
        "\n",
        "plt.show()"
      ],
      "execution_count": null,
      "outputs": [
        {
          "output_type": "display_data",
          "data": {
            "image/png": "[encoded data removed]",
            "text/plain": [
              "<Figure size 432x288 with 1 Axes>"
            ]
          },
          "metadata": {
            "tags": [],
            "needs_background": "light"
          }
        }
      ]
    },
    {
      "cell_type": "markdown",
      "metadata": {
        "id": "fZlbGmiQI53Q"
      },
      "source": [
        "## Histogram\n",
        "นับความถี่ แล้วนำมา plot เป็นความสูง"
      ]
    },
    {
      "cell_type": "markdown",
      "metadata": {
        "id": "5gCUzbBBJ75V"
      },
      "source": [
        "ตัวอย่างข้อมูลที่ random มาจาก normal distribution ที่มี mean=100 และ standev=15"
      ]
    },
    {
      "cell_type": "code",
      "metadata": {
        "id": "J-tPTGUNFfNr"
      },
      "source": [
        "import numpy as np\n",
        "import matplotlib.pyplot as plt\n",
        "np.random.seed(2021)\n",
        "np.random.randint(100)"
      ],
      "execution_count": 8,
      "outputs": []
    },
    {
      "cell_type": "code",
      "metadata": {
        "id": "fIOa5FPKLR_9"
      },
      "source": [
        "np.random.randn(1000)   # จะสุ่มเลขมา โดยที่ mu = 1 \n",
        "mu, sigma = 100, 15\n",
        "x = mu+ sigma * np.random.randn(10000) "
      ],
      "execution_count": null,
      "outputs": []
    },
    {
      "cell_type": "code",
      "metadata": {
        "id": "JMFuFaIhFf81"
      },
      "source": [
        "mu, sigma = 100, 15\n",
        "x = mu+ sigma * np.random.randn(10000) "
      ],
      "execution_count": null,
      "outputs": []
    },
    {
      "cell_type": "code",
      "metadata": {
        "colab": {
          "base_uri": "https://localhost:8080/"
        },
        "id": "h6sqGgZFFf5_",
        "outputId": "5d72bec7-e84b-453f-eede-731930dcb251"
      },
      "source": [
        "x #จุดของ data"
      ],
      "execution_count": null,
      "outputs": [
        {
          "output_type": "execute_result",
          "data": {
            "text/plain": [
              "array([ 90.20824855, 106.32897601,  97.39241564, ...,  63.97269435,\n",
              "        75.66277002,  81.55453175])"
            ]
          },
          "metadata": {
            "tags": []
          },
          "execution_count": 68
        }
      ]
    },
    {
      "cell_type": "code",
      "metadata": {
        "id": "OAgcXhu1LlYi",
        "colab": {
          "base_uri": "https://localhost:8080/",
          "height": 264
        },
        "outputId": "dd5c4a71-f2a2-47c6-e059-17e1bb89b552"
      },
      "source": [
        "output = plt.hist(x, 10, facecolor = 'violet', alpha = 0.75 );"
      ],
      "execution_count": null,
      "outputs": [
        {
          "output_type": "display_data",
          "data": {
            "image/png": "[encoded data removed]",
            "text/plain": [
              "<Figure size 432x288 with 1 Axes>"
            ]
          },
          "metadata": {
            "tags": [],
            "needs_background": "light"
          }
        }
      ]
    },
    {
      "cell_type": "code",
      "metadata": {
        "id": "wED6BgafLlWj",
        "colab": {
          "base_uri": "https://localhost:8080/"
        },
        "outputId": "cb712178-e2de-4f0d-9396-cd18cf03fb5e"
      },
      "source": [
        "output"
      ],
      "execution_count": null,
      "outputs": [
        {
          "output_type": "execute_result",
          "data": {
            "text/plain": [
              "(array([  13.,   70.,  350., 1265., 2470., 2975., 1905.,  752.,  171.,\n",
              "          29.]), array([ 40.88463603,  52.13062451,  63.376613  ,  74.62260148,\n",
              "         85.86858997,  97.11457845, 108.36056694, 119.60655543,\n",
              "        130.85254391, 142.0985324 , 153.34452088]), <a list of 10 Patch objects>)"
            ]
          },
          "metadata": {
            "tags": []
          },
          "execution_count": 79
        }
      ]
    },
    {
      "cell_type": "code",
      "metadata": {
        "id": "8KST-I0RM89D",
        "colab": {
          "base_uri": "https://localhost:8080/",
          "height": 484
        },
        "outputId": "93231afe-7eba-49ba-8829-817a94cfd54a"
      },
      "source": [
        "data.head()"
      ],
      "execution_count": 26,
      "outputs": [
        {
          "output_type": "execute_result",
          "data": {
            "text/html": [
              "<div>\n",
              "<style scoped>\n",
              "    .dataframe tbody tr th:only-of-type {\n",
              "        vertical-align: middle;\n",
              "    }\n",
              "\n",
              "    .dataframe tbody tr th {\n",
              "        vertical-align: top;\n",
              "    }\n",
              "\n",
              "    .dataframe thead th {\n",
              "        text-align: right;\n",
              "    }\n",
              "</style>\n",
              "<table border=\"1\" class=\"dataframe\">\n",
              "  <thead>\n",
              "    <tr style=\"text-align: right;\">\n",
              "      <th></th>\n",
              "      <th>Unnamed: 0</th>\n",
              "      <th>search_id</th>\n",
              "      <th>search_timestamp</th>\n",
              "      <th>user_agent</th>\n",
              "      <th>q</th>\n",
              "      <th>user_id</th>\n",
              "      <th>session_id</th>\n",
              "      <th>number_of_result</th>\n",
              "      <th>lat</th>\n",
              "      <th>long</th>\n",
              "    </tr>\n",
              "  </thead>\n",
              "  <tbody>\n",
              "    <tr>\n",
              "      <th>0</th>\n",
              "      <td>0</td>\n",
              "      <td>683de889-f923-494e-9d46-44a3d67b7259</td>\n",
              "      <td>2018-06-14 12:34:35.449</td>\n",
              "      <td>Wongnai/8.17.3 rv:8.17.3.3921 (iPhone5,4; iOS;...</td>\n",
              "      <td>NaN</td>\n",
              "      <td>NaN</td>\n",
              "      <td>5lqjjikta19d296mo7g2h1k86p</td>\n",
              "      <td>18</td>\n",
              "      <td>12.6347</td>\n",
              "      <td>101.463</td>\n",
              "    </tr>\n",
              "    <tr>\n",
              "      <th>1</th>\n",
              "      <td>1</td>\n",
              "      <td>4a811230-ffa4-4631-a4c8-5d0394137d02</td>\n",
              "      <td>2018-06-14 17:11:19.469</td>\n",
              "      <td>Mozilla/5.0 (iPhone; CPU iPhone OS 11_4 like M...</td>\n",
              "      <td>NaN</td>\n",
              "      <td>NaN</td>\n",
              "      <td>1r3iotmp0o9slom91stdt9vivc</td>\n",
              "      <td>10</td>\n",
              "      <td>14.8009</td>\n",
              "      <td>102.534</td>\n",
              "    </tr>\n",
              "    <tr>\n",
              "      <th>2</th>\n",
              "      <td>2</td>\n",
              "      <td>7ad6ee8e-438e-4bea-9183-74dcef9e358e</td>\n",
              "      <td>2018-06-14 13:22:31.736</td>\n",
              "      <td>Mozilla/5.0 (Linux; Android 7.0; SAMSUNG SM-J7...</td>\n",
              "      <td>NaN</td>\n",
              "      <td>NaN</td>\n",
              "      <td>5ci1eo4v5u9dha4ppgu94ue7p6</td>\n",
              "      <td>8</td>\n",
              "      <td>13.7383</td>\n",
              "      <td>100.371</td>\n",
              "    </tr>\n",
              "    <tr>\n",
              "      <th>3</th>\n",
              "      <td>3</td>\n",
              "      <td>0c17a5f5-fa89-40f4-ae94-a8659268f827</td>\n",
              "      <td>2018-06-02 12:37:27.331</td>\n",
              "      <td>Mozilla/5.0 (Linux; Android 7.1.1; SM-N950F Bu...</td>\n",
              "      <td>NaN</td>\n",
              "      <td>NaN</td>\n",
              "      <td>39n535qgje9kpojp0grhfj8umk</td>\n",
              "      <td>12</td>\n",
              "      <td>12.6669</td>\n",
              "      <td>101.861</td>\n",
              "    </tr>\n",
              "    <tr>\n",
              "      <th>4</th>\n",
              "      <td>4</td>\n",
              "      <td>6870dc3a-5602-44fc-80ed-df0a7783df9d</td>\n",
              "      <td>2018-06-02 11:19:22.404</td>\n",
              "      <td>Mozilla/5.0 (iPhone; CPU iPhone OS 11_3_1 like...</td>\n",
              "      <td>NaN</td>\n",
              "      <td>NaN</td>\n",
              "      <td>5pa03h6lj691to60erver1l8o4</td>\n",
              "      <td>14</td>\n",
              "      <td>12.2372</td>\n",
              "      <td>99.88</td>\n",
              "    </tr>\n",
              "  </tbody>\n",
              "</table>\n",
              "</div>"
            ],
            "text/plain": [
              "   Unnamed: 0                             search_id  ...      lat     long\n",
              "0           0  683de889-f923-494e-9d46-44a3d67b7259  ...  12.6347  101.463\n",
              "1           1  4a811230-ffa4-4631-a4c8-5d0394137d02  ...  14.8009  102.534\n",
              "2           2  7ad6ee8e-438e-4bea-9183-74dcef9e358e  ...  13.7383  100.371\n",
              "3           3  0c17a5f5-fa89-40f4-ae94-a8659268f827  ...  12.6669  101.861\n",
              "4           4  6870dc3a-5602-44fc-80ed-df0a7783df9d  ...  12.2372    99.88\n",
              "\n",
              "[5 rows x 10 columns]"
            ]
          },
          "metadata": {
            "tags": []
          },
          "execution_count": 26
        }
      ]
    },
    {
      "cell_type": "markdown",
      "metadata": {
        "id": "U2SPmdgBNh0P"
      },
      "source": [
        "## Plot Histogram ของ number_of_result"
      ]
    },
    {
      "cell_type": "code",
      "metadata": {
        "id": "lp6tH-YKNyVM"
      },
      "source": [
        "A = list(data['number_of_result'].drop(1000016))"
      ],
      "execution_count": null,
      "outputs": []
    },
    {
      "cell_type": "markdown",
      "metadata": {
        "id": "QMVD9QehKmi5"
      },
      "source": [
        "ตัวนี้เลขมันไม่เรียง มันอาจจะเป็น ตัวหนังสือรึป่าว"
      ]
    },
    {
      "cell_type": "code",
      "metadata": {
        "id": "p60NqXtlM854",
        "colab": {
          "base_uri": "https://localhost:8080/",
          "height": 274
        },
        "outputId": "887742d6-3699-4612-ed1b-6f0a0328150b"
      },
      "source": [
        "output2 = plt.hist(A, 20);"
      ],
      "execution_count": 28,
      "outputs": [
        {
          "output_type": "display_data",
          "data": {
            "image/png": "[encoded data removed]",
            "text/plain": [
              "<Figure size 432x288 with 1 Axes>"
            ]
          },
          "metadata": {
            "tags": [],
            "needs_background": "light"
          }
        }
      ]
    },
    {
      "cell_type": "markdown",
      "metadata": {
        "id": "tnaJpm3MKr5P"
      },
      "source": [
        "แก้ไขแกน x ที่เรียงข้อมูลผิด"
      ]
    },
    {
      "cell_type": "code",
      "metadata": {
        "id": "9Qub0iYeM81w",
        "colab": {
          "base_uri": "https://localhost:8080/"
        },
        "outputId": "7e81ce42-faa3-47b5-efe3-1760a1292c44"
      },
      "source": [
        "data.dtypes"
      ],
      "execution_count": 29,
      "outputs": [
        {
          "output_type": "execute_result",
          "data": {
            "text/plain": [
              "Unnamed: 0            int64\n",
              "search_id            object\n",
              "search_timestamp     object\n",
              "user_agent           object\n",
              "q                    object\n",
              "user_id             float64\n",
              "session_id           object\n",
              "number_of_result     object\n",
              "lat                  object\n",
              "long                 object\n",
              "dtype: object"
            ]
          },
          "metadata": {
            "tags": []
          },
          "execution_count": 29
        }
      ]
    },
    {
      "cell_type": "markdown",
      "metadata": {
        "id": "pypDPHWCLmsK"
      },
      "source": [
        "เรียกดู data type ของตัวแปร"
      ]
    },
    {
      "cell_type": "code",
      "metadata": {
        "colab": {
          "base_uri": "https://localhost:8080/"
        },
        "id": "0vr3Y4sELciV",
        "outputId": "d04597e8-1dff-47a4-9dc3-0cf928eb9309"
      },
      "source": [
        "type(data['number_of_result'][0])"
      ],
      "execution_count": 30,
      "outputs": [
        {
          "output_type": "execute_result",
          "data": {
            "text/plain": [
              "int"
            ]
          },
          "metadata": {
            "tags": []
          },
          "execution_count": 30
        }
      ]
    },
    {
      "cell_type": "markdown",
      "metadata": {
        "id": "PgjktlQZLtkH"
      },
      "source": [
        "ตรวจสอบ data type ของตัวแปร"
      ]
    },
    {
      "cell_type": "code",
      "metadata": {
        "colab": {
          "base_uri": "https://localhost:8080/"
        },
        "id": "bJiQbndALce5",
        "outputId": "5f2e932a-4293-4fce-def7-6c04f25d7d89"
      },
      "source": [
        "type(data['number_of_result'][0]) == int"
      ],
      "execution_count": 31,
      "outputs": [
        {
          "output_type": "execute_result",
          "data": {
            "text/plain": [
              "True"
            ]
          },
          "metadata": {
            "tags": []
          },
          "execution_count": 31
        }
      ]
    },
    {
      "cell_type": "markdown",
      "metadata": {
        "id": "GwuQi4UoL02w"
      },
      "source": [
        "วนลูป เพื่อตรวจสอบทุกๆค่าใน column 'number_of_result'"
      ]
    },
    {
      "cell_type": "code",
      "metadata": {
        "id": "NEKgn0K0L0XB"
      },
      "source": [
        "# for x in data['number_of_result']:\n",
        "#     if type(x) != int:\n",
        "#         print(f'{x} -> {type(x)} ')"
      ],
      "execution_count": null,
      "outputs": []
    },
    {
      "cell_type": "markdown",
      "metadata": {
        "id": "CSVt8RRSNlyy"
      },
      "source": [
        "ลบ record ที่มี ค่า ใน data 'number_of_result' เป็น number_of_result"
      ]
    },
    {
      "cell_type": "code",
      "metadata": {
        "colab": {
          "base_uri": "https://localhost:8080/",
          "height": 84
        },
        "id": "EAzOOMZjNlcK",
        "outputId": "f027cc72-6274-48d5-caed-8636faa39ecc"
      },
      "source": [
        "data[data['number_of_result']=='number_of_result']"
      ],
      "execution_count": 32,
      "outputs": [
        {
          "output_type": "execute_result",
          "data": {
            "text/html": [
              "<div>\n",
              "<style scoped>\n",
              "    .dataframe tbody tr th:only-of-type {\n",
              "        vertical-align: middle;\n",
              "    }\n",
              "\n",
              "    .dataframe tbody tr th {\n",
              "        vertical-align: top;\n",
              "    }\n",
              "\n",
              "    .dataframe thead th {\n",
              "        text-align: right;\n",
              "    }\n",
              "</style>\n",
              "<table border=\"1\" class=\"dataframe\">\n",
              "  <thead>\n",
              "    <tr style=\"text-align: right;\">\n",
              "      <th></th>\n",
              "      <th>Unnamed: 0</th>\n",
              "      <th>search_id</th>\n",
              "      <th>search_timestamp</th>\n",
              "      <th>user_agent</th>\n",
              "      <th>q</th>\n",
              "      <th>user_id</th>\n",
              "      <th>session_id</th>\n",
              "      <th>number_of_result</th>\n",
              "      <th>lat</th>\n",
              "      <th>long</th>\n",
              "    </tr>\n",
              "  </thead>\n",
              "  <tbody>\n",
              "  </tbody>\n",
              "</table>\n",
              "</div>"
            ],
            "text/plain": [
              "Empty DataFrame\n",
              "Columns: [Unnamed: 0, search_id, search_timestamp, user_agent, q, user_id, session_id, number_of_result, lat, long]\n",
              "Index: []"
            ]
          },
          "metadata": {
            "tags": []
          },
          "execution_count": 32
        }
      ]
    },
    {
      "cell_type": "code",
      "metadata": {
        "id": "xMGwNfPWN8XI"
      },
      "source": [
        "data = data.drop(1000016)"
      ],
      "execution_count": null,
      "outputs": []
    },
    {
      "cell_type": "markdown",
      "metadata": {
        "id": "P82cmRU5NeWc"
      },
      "source": [
        "เปลี่ยน type ของข้อมูล"
      ]
    },
    {
      "cell_type": "code",
      "metadata": {
        "id": "awRuWwczL0Ud"
      },
      "source": [
        "new_type = data['number_of_result'].astype('int32')"
      ],
      "execution_count": 35,
      "outputs": []
    },
    {
      "cell_type": "code",
      "metadata": {
        "colab": {
          "base_uri": "https://localhost:8080/",
          "height": 274
        },
        "id": "E5HqFV1PO3XW",
        "outputId": "29b84729-9fb2-4865-f105-eca2d41a71ed"
      },
      "source": [
        "output3 = plt.hist(new_type, 100,  facecolor='violet', alpha=0.75); #ทำให้เลขในแนวแกน x เรียงได้"
      ],
      "execution_count": 36,
      "outputs": [
        {
          "output_type": "display_data",
          "data": {
            "image/png": "[encoded data removed]",
            "text/plain": [
              "<Figure size 432x288 with 1 Axes>"
            ]
          },
          "metadata": {
            "tags": [],
            "needs_background": "light"
          }
        }
      ]
    },
    {
      "cell_type": "markdown",
      "metadata": {
        "id": "dsrURgKTPbPk"
      },
      "source": [
        "ลบ outlier"
      ]
    },
    {
      "cell_type": "code",
      "metadata": {
        "id": "_fdvfFZdOLso"
      },
      "source": [
        "new_type_nooutlier = new_type[new_type < 25]"
      ],
      "execution_count": 39,
      "outputs": []
    },
    {
      "cell_type": "markdown",
      "metadata": {
        "id": "wxt3K685QyWR"
      },
      "source": [
        "ขนาดของกราฟ"
      ]
    },
    {
      "cell_type": "code",
      "metadata": {
        "id": "x0fJXr_PQxwA"
      },
      "source": [
        "mpl.rcParams['figure.figsize']=[10,10]"
      ],
      "execution_count": null,
      "outputs": []
    },
    {
      "cell_type": "code",
      "metadata": {
        "colab": {
          "base_uri": "https://localhost:8080/",
          "height": 492
        },
        "id": "KW95SKJfOLpo",
        "outputId": "e120aa64-ae2c-4885-c7ae-1ddbf2520f47"
      },
      "source": [
        "mpl.rcParams['figure.figsize']=[8,8]\n",
        "output = plt.hist(new_type_nooutlier, 10,  facecolor='red', alpha=0.75); "
      ],
      "execution_count": 59,
      "outputs": [
        {
          "output_type": "display_data",
          "data": {
            "image/png": "[encoded data removed]",
            "text/plain": [
              "<Figure size 576x576 with 1 Axes>"
            ]
          },
          "metadata": {
            "tags": [],
            "needs_background": "light"
          }
        }
      ]
    },
    {
      "cell_type": "markdown",
      "metadata": {
        "id": "-D_8omdDRFOC"
      },
      "source": [
        "Quiz 7 เปรียบเทียบความถี่ของแท่งที่มีค่ามากที่สุดกับแท่งอื่นๆรวมกัน"
      ]
    },
    {
      "cell_type": "code",
      "metadata": {
        "id": "4kuD1MWyQP9t"
      },
      "source": [
        "mpl.rcParams['figure.figsize']=[8,8]\n",
        "output2 = plt.hist(new_type_20, 10,  facecolor='red', alpha=0.75); "
      ],
      "execution_count": null,
      "outputs": []
    },
    {
      "cell_type": "code",
      "metadata": {
        "colab": {
          "base_uri": "https://localhost:8080/"
        },
        "id": "X5VBTYtvQP4P",
        "outputId": "bab46fb6-cbad-4836-a9b1-ab43671c2418"
      },
      "source": [
        "new_type_20 = new_type_nooutlier[new_type_nooutlier ==20]\n",
        "new_type_20.count()"
      ],
      "execution_count": 64,
      "outputs": [
        {
          "output_type": "execute_result",
          "data": {
            "text/plain": [
              "2090596"
            ]
          },
          "metadata": {
            "tags": []
          },
          "execution_count": 64
        }
      ]
    },
    {
      "cell_type": "code",
      "metadata": {
        "colab": {
          "base_uri": "https://localhost:8080/"
        },
        "id": "CI5PvhCwS1PX",
        "outputId": "ceb133c0-db2f-418d-d359-e0577cd50c06"
      },
      "source": [
        "new_type_no20 = new_type_nooutlier[new_type_nooutlier < 20]\n",
        "new_type_no20.count()"
      ],
      "execution_count": 65,
      "outputs": [
        {
          "output_type": "execute_result",
          "data": {
            "text/plain": [
              "4287104"
            ]
          },
          "metadata": {
            "tags": []
          },
          "execution_count": 65
        }
      ]
    },
    {
      "cell_type": "code",
      "metadata": {
        "colab": {
          "base_uri": "https://localhost:8080/",
          "height": 492
        },
        "id": "ZzarzqdxS9F7",
        "outputId": "9d795fc9-17a7-49c5-f37d-005ceb0d73cf"
      },
      "source": [
        "output2 = plt.hist(new_type_no20, 10,  facecolor='red', alpha=0.75); "
      ],
      "execution_count": 54,
      "outputs": [
        {
          "output_type": "display_data",
          "data": {
            "image/png": "[encoded data removed]",
            "text/plain": [
              "<Figure size 576x576 with 1 Axes>"
            ]
          },
          "metadata": {
            "tags": [],
            "needs_background": "light"
          }
        }
      ]
    },
    {
      "cell_type": "code",
      "metadata": {
        "colab": {
          "base_uri": "https://localhost:8080/",
          "height": 492
        },
        "id": "ddMewXXcTu2s",
        "outputId": "efa8ae40-ff6b-485f-d37f-2c4c4d5bd044"
      },
      "source": [
        "output3 = plt.hist(new_type_20, 10,  facecolor='red', alpha=0.75); "
      ],
      "execution_count": 58,
      "outputs": [
        {
          "output_type": "display_data",
          "data": {
            "image/png": "[encoded data removed]",
            "text/plain": [
              "<Figure size 576x576 with 1 Axes>"
            ]
          },
          "metadata": {
            "tags": [],
            "needs_background": "light"
          }
        }
      ]
    },
    {
      "cell_type": "markdown",
      "metadata": {
        "id": "hNOO4cdFVBMZ"
      },
      "source": [
        "เฉลย Quiz7"
      ]
    },
    {
      "cell_type": "code",
      "metadata": {
        "colab": {
          "base_uri": "https://localhost:8080/"
        },
        "id": "XHC2aw2FT2j4",
        "outputId": "9ec0aa1c-0c78-4f18-91c4-f08eb83cf505"
      },
      "source": [
        "output"
      ],
      "execution_count": 60,
      "outputs": [
        {
          "output_type": "execute_result",
          "data": {
            "text/plain": [
              "(array([ 670293., 1247269., 1921441.,   51703.,   50609.,  167502.,\n",
              "          36883.,   35914.,  105490., 5717238.]),\n",
              " array([ 0. ,  2.2,  4.4,  6.6,  8.8, 11. , 13.2, 15.4, 17.6, 19.8, 22. ]),\n",
              " <a list of 10 Patch objects>)"
            ]
          },
          "metadata": {
            "tags": []
          },
          "execution_count": 60
        }
      ]
    },
    {
      "cell_type": "markdown",
      "metadata": {
        "id": "jMjaClZjV2bz"
      },
      "source": [
        "แท่งสุดท้าย"
      ]
    },
    {
      "cell_type": "code",
      "metadata": {
        "id": "tm_f2e1fVHMi",
        "outputId": "859b4343-2331-417a-d1a9-85ee169dfdb0",
        "colab": {
          "base_uri": "https://localhost:8080/"
        }
      },
      "source": [
        "output[0][-1]"
      ],
      "execution_count": 62,
      "outputs": [
        {
          "output_type": "execute_result",
          "data": {
            "text/plain": [
              "5717238.0"
            ]
          },
          "metadata": {
            "tags": []
          },
          "execution_count": 62
        }
      ]
    },
    {
      "cell_type": "markdown",
      "metadata": {
        "id": "8VZzpyZVV7dg"
      },
      "source": [
        "แท่งแรก ถึง ก่อนแท่งสุดท้าย"
      ]
    },
    {
      "cell_type": "code",
      "metadata": {
        "id": "vUpOwvpwVHJk",
        "outputId": "470af399-2a6c-477b-f5b6-3740a162c7a7",
        "colab": {
          "base_uri": "https://localhost:8080/"
        }
      },
      "source": [
        "sum(output[0][:-1])"
      ],
      "execution_count": 63,
      "outputs": [
        {
          "output_type": "execute_result",
          "data": {
            "text/plain": [
              "4287104.0"
            ]
          },
          "metadata": {
            "tags": []
          },
          "execution_count": 63
        }
      ]
    },
    {
      "cell_type": "markdown",
      "metadata": {
        "id": "L-38vD-TWkqd"
      },
      "source": [
        "# Tree Map"
      ]
    },
    {
      "cell_type": "markdown",
      "metadata": {
        "id": "oBClq5A-W5jb"
      },
      "source": [
        ""
      ]
    },
    {
      "cell_type": "code",
      "metadata": {
        "id": "eGpHVRDCXTI2",
        "outputId": "2ab7c0bc-78af-4ed0-8cc3-d2664c35476c",
        "colab": {
          "base_uri": "https://localhost:8080/"
        }
      },
      "source": [
        "!pip install squarify"
      ],
      "execution_count": 68,
      "outputs": [
        {
          "output_type": "stream",
          "text": [
            "Collecting squarify\n",
            "  Downloading https://files.pythonhosted.org/packages/0b/2b/2e77c35326efec19819cd1d729540d4d235e6c2a3f37658288a363a67da5/squarify-0.4.3-py3-none-any.whl\n",
            "Installing collected packages: squarify\n",
            "Successfully installed squarify-0.4.3\n"
          ],
          "name": "stdout"
        }
      ]
    },
    {
      "cell_type": "code",
      "metadata": {
        "id": "FQ01hQ9CVSoI"
      },
      "source": [
        "import squarify "
      ],
      "execution_count": 69,
      "outputs": []
    },
    {
      "cell_type": "code",
      "metadata": {
        "id": "qmcc0NRrVSkV",
        "outputId": "0698f0e8-9d0f-41e3-f91e-8d853ef81dd6",
        "colab": {
          "base_uri": "https://localhost:8080/",
          "height": 485
        }
      },
      "source": [
        "output4 = squarify.plot(output[0])"
      ],
      "execution_count": 81,
      "outputs": [
        {
          "output_type": "display_data",
          "data": {
            "image/png": "[encoded data removed]",
            "text/plain": [
              "<Figure size 576x576 with 1 Axes>"
            ]
          },
          "metadata": {
            "tags": [],
            "needs_background": "light"
          }
        }
      ]
    },
    {
      "cell_type": "markdown",
      "metadata": {
        "id": "FG1ctrDRf-AR"
      },
      "source": [
        "ใส่ตัวเลข"
      ]
    },
    {
      "cell_type": "code",
      "metadata": {
        "id": "oQb5xWETXl-3",
        "outputId": "a42688c8-1735-4661-d21d-b6bbd2ca465d",
        "colab": {
          "base_uri": "https://localhost:8080/",
          "height": 502
        }
      },
      "source": [
        "squarify.plot(output[0], value=output[0])"
      ],
      "execution_count": 83,
      "outputs": [
        {
          "output_type": "execute_result",
          "data": {
            "text/plain": [
              "<matplotlib.axes._subplots.AxesSubplot at 0x7f3cc5c502d0>"
            ]
          },
          "metadata": {
            "tags": []
          },
          "execution_count": 83
        },
        {
          "output_type": "display_data",
          "data": {
            "image/png": "[encoded data removed]",
            "text/plain": [
              "<Figure size 576x576 with 1 Axes>"
            ]
          },
          "metadata": {
            "tags": [],
            "needs_background": "light"
          }
        }
      ]
    },
    {
      "cell_type": "markdown",
      "metadata": {
        "id": "YFw_xV_maI0W"
      },
      "source": [
        "ลดแกน y ให้สั้นลง"
      ]
    },
    {
      "cell_type": "code",
      "metadata": {
        "id": "PtYsJiqxXl8m",
        "outputId": "ab0c9e1f-7d83-4833-9a9e-2b83011d9492",
        "colab": {
          "base_uri": "https://localhost:8080/",
          "height": 502
        }
      },
      "source": [
        "squarify.plot(output[0], value=output[0], norm_y=50)"
      ],
      "execution_count": 91,
      "outputs": [
        {
          "output_type": "execute_result",
          "data": {
            "text/plain": [
              "<matplotlib.axes._subplots.AxesSubplot at 0x7f3cc5c44790>"
            ]
          },
          "metadata": {
            "tags": []
          },
          "execution_count": 91
        },
        {
          "output_type": "display_data",
          "data": {
            "image/png": "[encoded data removed]",
            "text/plain": [
              "<Figure size 576x576 with 1 Axes>"
            ]
          },
          "metadata": {
            "tags": [],
            "needs_background": "light"
          }
        }
      ]
    },
    {
      "cell_type": "markdown",
      "metadata": {
        "id": "5ziCUBjdcBSl"
      },
      "source": [
        "#Radar chart\n"
      ]
    },
    {
      "cell_type": "code",
      "metadata": {
        "id": "oVaRiVvZXl5-"
      },
      "source": [
        "import numpy as np\n",
        "import pandas as pd  #import pandas มาเพราะข้อมูลจะเกี่ยวกับตาราง\n",
        "import matplotlib.pyplot as plt\n",
        "from math import pi #import math มาเนื่องจากเกี่ยวกับวงกลมนำมาใช้เพื่อดึงค่าพาย"
      ],
      "execution_count": 100,
      "outputs": []
    },
    {
      "cell_type": "code",
      "metadata": {
        "id": "kcAGWvPKXl1V",
        "outputId": "f9b4a660-4467-4647-e9bb-a2b34963eebd",
        "colab": {
          "base_uri": "https://localhost:8080/",
          "height": 166
        }
      },
      "source": [
        "data = {'client_id' : ['c1' , 'c2' , 'c3' , 'c4'],\n",
        "        'cheese' : [2,5,4,3],\n",
        "        'beer' : [2,1,3,5],\n",
        "        'chicken' : [5,3,3,4],\n",
        "        'bread' : [4,3,2,1],\n",
        "        'coffee' : [2,3,5,3]}\n",
        "df = pd.DataFrame.from_dict(data)\n",
        "df"
      ],
      "execution_count": 92,
      "outputs": [
        {
          "output_type": "execute_result",
          "data": {
            "text/html": [
              "<div>\n",
              "<style scoped>\n",
              "    .dataframe tbody tr th:only-of-type {\n",
              "        vertical-align: middle;\n",
              "    }\n",
              "\n",
              "    .dataframe tbody tr th {\n",
              "        vertical-align: top;\n",
              "    }\n",
              "\n",
              "    .dataframe thead th {\n",
              "        text-align: right;\n",
              "    }\n",
              "</style>\n",
              "<table border=\"1\" class=\"dataframe\">\n",
              "  <thead>\n",
              "    <tr style=\"text-align: right;\">\n",
              "      <th></th>\n",
              "      <th>client_id</th>\n",
              "      <th>cheese</th>\n",
              "      <th>beer</th>\n",
              "      <th>chicken</th>\n",
              "      <th>bread</th>\n",
              "      <th>coffee</th>\n",
              "    </tr>\n",
              "  </thead>\n",
              "  <tbody>\n",
              "    <tr>\n",
              "      <th>0</th>\n",
              "      <td>c1</td>\n",
              "      <td>2</td>\n",
              "      <td>2</td>\n",
              "      <td>5</td>\n",
              "      <td>4</td>\n",
              "      <td>2</td>\n",
              "    </tr>\n",
              "    <tr>\n",
              "      <th>1</th>\n",
              "      <td>c2</td>\n",
              "      <td>5</td>\n",
              "      <td>1</td>\n",
              "      <td>3</td>\n",
              "      <td>3</td>\n",
              "      <td>3</td>\n",
              "    </tr>\n",
              "    <tr>\n",
              "      <th>2</th>\n",
              "      <td>c3</td>\n",
              "      <td>4</td>\n",
              "      <td>3</td>\n",
              "      <td>3</td>\n",
              "      <td>2</td>\n",
              "      <td>5</td>\n",
              "    </tr>\n",
              "    <tr>\n",
              "      <th>3</th>\n",
              "      <td>c4</td>\n",
              "      <td>3</td>\n",
              "      <td>5</td>\n",
              "      <td>4</td>\n",
              "      <td>1</td>\n",
              "      <td>3</td>\n",
              "    </tr>\n",
              "  </tbody>\n",
              "</table>\n",
              "</div>"
            ],
            "text/plain": [
              "  client_id  cheese  beer  chicken  bread  coffee\n",
              "0        c1       2     2        5      4       2\n",
              "1        c2       5     1        3      3       3\n",
              "2        c3       4     3        3      2       5\n",
              "3        c4       3     5        4      1       3"
            ]
          },
          "metadata": {
            "tags": []
          },
          "execution_count": 92
        }
      ]
    },
    {
      "cell_type": "markdown",
      "metadata": {
        "id": "MZMFoQKhdVe9"
      },
      "source": [
        "อยากได้ชื่อ columns"
      ]
    },
    {
      "cell_type": "code",
      "metadata": {
        "id": "b0LeMHgLc3dh",
        "outputId": "b48b5ab6-34f8-4c22-d66f-c91bac53ea83",
        "colab": {
          "base_uri": "https://localhost:8080/"
        }
      },
      "source": [
        "categories = list(df.columns[1:])\n",
        "categories"
      ],
      "execution_count": 98,
      "outputs": [
        {
          "output_type": "execute_result",
          "data": {
            "text/plain": [
              "['cheese', 'beer', 'chicken', 'bread', 'coffee']"
            ]
          },
          "metadata": {
            "tags": []
          },
          "execution_count": 98
        }
      ]
    },
    {
      "cell_type": "markdown",
      "metadata": {
        "id": "fU-5T-ugena9"
      },
      "source": [
        "- len(categories) ความยาว -> 012345\n",
        "- "
      ]
    },
    {
      "cell_type": "code",
      "metadata": {
        "id": "PNJvCe7dc3aj"
      },
      "source": [
        "values = df.mean().values.flatten().tolist()  #\n",
        "\n",
        "values += values[:1] # repeat the first value to close the circular graph\n",
        "\n",
        "angles = [n / float(len(categories)) * 2 * pi for n in range(len(categories))]\n",
        "\n",
        "angles += angles[:1]"
      ],
      "execution_count": 101,
      "outputs": []
    },
    {
      "cell_type": "code",
      "metadata": {
        "id": "MkR4wSBwdnlV",
        "outputId": "c598ea59-991b-4ac5-d5c4-05703d3938c3",
        "colab": {
          "base_uri": "https://localhost:8080/"
        }
      },
      "source": [
        "values"
      ],
      "execution_count": 102,
      "outputs": [
        {
          "output_type": "execute_result",
          "data": {
            "text/plain": [
              "[3.5, 2.75, 3.75, 2.5, 3.25, 3.5]"
            ]
          },
          "metadata": {
            "tags": []
          },
          "execution_count": 102
        }
      ]
    },
    {
      "cell_type": "code",
      "metadata": {
        "id": "9QRaNjSKdniu",
        "outputId": "e086af75-5c5a-435d-b3e3-9ddbbccf9326",
        "colab": {
          "base_uri": "https://localhost:8080/",
          "height": 501
        }
      },
      "source": [
        "fig, ax = plt.subplots(nrows=1, ncols=1, figsize=(8, 8),\n",
        "                       subplot_kw=dict(polar=True))\n",
        "\n",
        "plt.xticks(angles[:-1], categories, color='grey', size=12)\n",
        "plt.yticks(np.arange(1, 6), ['1', '2', '3', '4', '5'],\n",
        "           color='grey', size=12)\n",
        "\n",
        "plt.ylim(0, 5)\n",
        "ax.set_rlabel_position(30)\n",
        "\n",
        "ax.plot(angles, values, linewidth=1, linestyle='solid' , color = '#ea3033') #เส้นกราฟ\n",
        "ax.fill(angles, values, 'lightpink', alpha=0.5) #พื้นที่"
      ],
      "execution_count": 103,
      "outputs": [
        {
          "output_type": "execute_result",
          "data": {
            "text/plain": [
              "[<matplotlib.patches.Polygon at 0x7f3cc5cb8b10>]"
            ]
          },
          "metadata": {
            "tags": []
          },
          "execution_count": 103
        },
        {
          "output_type": "display_data",
          "data": {
            "image/png": "[encoded data removed]",
            "text/plain": [
              "<Figure size 576x576 with 1 Axes>"
            ]
          },
          "metadata": {
            "tags": [],
            "needs_background": "dark"
          }
        }
      ]
    },
    {
      "cell_type": "code",
      "metadata": {
        "id": "H9S_bs0ydnf0",
        "outputId": "148ff2f0-80d6-4928-9c37-5bbb324f5639",
        "colab": {
          "base_uri": "https://localhost:8080/",
          "height": 501
        }
      },
      "source": [
        "angles = [n / float(len(categories)) * 2 * pi for n in range(len(categories))]\n",
        "angles += angles[:1]\n",
        "\n",
        "fig, ax = plt.subplots(nrows=1, ncols=1, figsize=(8, 8),\n",
        "                       subplot_kw=dict(polar=True))\n",
        "\n",
        "plt.xticks(angles[:-1], categories, color='grey', size=12)\n",
        "plt.yticks(np.arange(1, 6), ['1', '2', '3', '4', '5'],\n",
        "           color='grey', size=12)\n",
        "\n",
        "plt.ylim(0, 5)\n",
        "ax.set_rlabel_position(30)\n",
        "\n",
        "# part 1\n",
        "val_c1 = df.loc[0].drop('client_id').values.flatten().tolist()\n",
        "val_c1 += val_c1[:1]\n",
        "ax.plot(angles, val_c1, linewidth=1,\n",
        "        linestyle='solid', label='Client c1')\n",
        "ax.fill(angles, val_c1, 'skyblue', alpha=0.4)\n",
        " \n",
        "# part 2\n",
        "val_c2=df.loc[1].drop('client_id').values.flatten().tolist()\n",
        "val_c2 += val_c2[:1]\n",
        "ax.plot(angles, val_c2, linewidth=1,\n",
        "        linestyle='solid', label='Client c2')\n",
        "ax.fill(angles, val_c2, 'lightpink', alpha=0.4)\n",
        " \n",
        "plt.legend(loc='upper right', bbox_to_anchor=(0.1, 0.1))"
      ],
      "execution_count": 104,
      "outputs": [
        {
          "output_type": "execute_result",
          "data": {
            "text/plain": [
              "<matplotlib.legend.Legend at 0x7f3cc572edd0>"
            ]
          },
          "metadata": {
            "tags": []
          },
          "execution_count": 104
        },
        {
          "output_type": "display_data",
          "data": {
            "image/png": "[encoded data removed]",
            "text/plain": [
              "<Figure size 576x576 with 1 Axes>"
            ]
          },
          "metadata": {
            "tags": [],
            "needs_background": "dark"
          }
        }
      ]
    },
    {
      "cell_type": "code",
      "metadata": {
        "id": "--avwVHdiiUY"
      },
      "source": [
        ""
      ],
      "execution_count": null,
      "outputs": []
    },
    {
      "cell_type": "code",
      "metadata": {
        "id": "7cqLmHA3iiR0"
      },
      "source": [
        ""
      ],
      "execution_count": null,
      "outputs": []
    },
    {
      "cell_type": "code",
      "metadata": {
        "id": "NhyJJ_MciiO6"
      },
      "source": [
        ""
      ],
      "execution_count": null,
      "outputs": []
    }
  ]
}