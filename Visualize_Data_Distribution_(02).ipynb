{
  "nbformat": 4,
  "nbformat_minor": 0,
  "metadata": {
    "colab": {
      "name": "Visualize Data Distribution (02).ipynb",
      "provenance": [],
      "authorship_tag": "ABX9TyO2WjKx+Q9SLLNTXQ9RxpJW",
      "include_colab_link": true
    },
    "kernelspec": {
      "name": "python3",
      "display_name": "Python 3"
    }
  },
  "cells": [
    {
      "cell_type": "markdown",
      "metadata": {
        "id": "view-in-github",
        "colab_type": "text"
      },
      "source": [
        "<a href=\"https://colab.research.google.com/github/PondKann/data_viz/blob/main/Visualize_Data_Distribution_(02).ipynb\" target=\"_parent\"><img src=\"https://colab.research.google.com/assets/colab-badge.svg\" alt=\"Open In Colab\"/></a>"
      ]
    },
    {
      "cell_type": "code",
      "metadata": {
        "id": "y8wcYa4kLy8Q"
      },
      "source": [
        "import pandas as pd\r\n",
        "from matplotlib import pyplot as plt   #from เป็นที่รวมแพกเก็จใหญ่  import มาแค่ pyplot"
      ],
      "execution_count": 1,
      "outputs": []
    },
    {
      "cell_type": "code",
      "metadata": {
        "colab": {
          "base_uri": "https://localhost:8080/",
          "height": 196
        },
        "id": "G48xT8wDNg8t",
        "outputId": "ede0b1b1-b910-4495-abad-1ac6f3419d9a"
      },
      "source": [
        "df = pd.read_csv('https://raw.github.com/pandas-dev/pandas/master/pandas/tests/io/data/csv/iris.csv')\r\n",
        "df.head()"
      ],
      "execution_count": 2,
      "outputs": [
        {
          "output_type": "execute_result",
          "data": {
            "text/html": [
              "<div>\n",
              "<style scoped>\n",
              "    .dataframe tbody tr th:only-of-type {\n",
              "        vertical-align: middle;\n",
              "    }\n",
              "\n",
              "    .dataframe tbody tr th {\n",
              "        vertical-align: top;\n",
              "    }\n",
              "\n",
              "    .dataframe thead th {\n",
              "        text-align: right;\n",
              "    }\n",
              "</style>\n",
              "<table border=\"1\" class=\"dataframe\">\n",
              "  <thead>\n",
              "    <tr style=\"text-align: right;\">\n",
              "      <th></th>\n",
              "      <th>SepalLength</th>\n",
              "      <th>SepalWidth</th>\n",
              "      <th>PetalLength</th>\n",
              "      <th>PetalWidth</th>\n",
              "      <th>Name</th>\n",
              "    </tr>\n",
              "  </thead>\n",
              "  <tbody>\n",
              "    <tr>\n",
              "      <th>0</th>\n",
              "      <td>5.1</td>\n",
              "      <td>3.5</td>\n",
              "      <td>1.4</td>\n",
              "      <td>0.2</td>\n",
              "      <td>Iris-setosa</td>\n",
              "    </tr>\n",
              "    <tr>\n",
              "      <th>1</th>\n",
              "      <td>4.9</td>\n",
              "      <td>3.0</td>\n",
              "      <td>1.4</td>\n",
              "      <td>0.2</td>\n",
              "      <td>Iris-setosa</td>\n",
              "    </tr>\n",
              "    <tr>\n",
              "      <th>2</th>\n",
              "      <td>4.7</td>\n",
              "      <td>3.2</td>\n",
              "      <td>1.3</td>\n",
              "      <td>0.2</td>\n",
              "      <td>Iris-setosa</td>\n",
              "    </tr>\n",
              "    <tr>\n",
              "      <th>3</th>\n",
              "      <td>4.6</td>\n",
              "      <td>3.1</td>\n",
              "      <td>1.5</td>\n",
              "      <td>0.2</td>\n",
              "      <td>Iris-setosa</td>\n",
              "    </tr>\n",
              "    <tr>\n",
              "      <th>4</th>\n",
              "      <td>5.0</td>\n",
              "      <td>3.6</td>\n",
              "      <td>1.4</td>\n",
              "      <td>0.2</td>\n",
              "      <td>Iris-setosa</td>\n",
              "    </tr>\n",
              "  </tbody>\n",
              "</table>\n",
              "</div>"
            ],
            "text/plain": [
              "   SepalLength  SepalWidth  PetalLength  PetalWidth         Name\n",
              "0          5.1         3.5          1.4         0.2  Iris-setosa\n",
              "1          4.9         3.0          1.4         0.2  Iris-setosa\n",
              "2          4.7         3.2          1.3         0.2  Iris-setosa\n",
              "3          4.6         3.1          1.5         0.2  Iris-setosa\n",
              "4          5.0         3.6          1.4         0.2  Iris-setosa"
            ]
          },
          "metadata": {
            "tags": []
          },
          "execution_count": 2
        }
      ]
    },
    {
      "cell_type": "markdown",
      "metadata": {
        "id": "-HnHKOpXN3I1"
      },
      "source": [
        "## scatter default"
      ]
    },
    {
      "cell_type": "code",
      "metadata": {
        "colab": {
          "base_uri": "https://localhost:8080/",
          "height": 281
        },
        "id": "0tEN_w_aN2X-",
        "outputId": "75e40306-52ef-4303-f4b8-4b2edba050db"
      },
      "source": [
        "plt.scatter(df['PetalLength'],df['PetalWidth'])"
      ],
      "execution_count": 3,
      "outputs": [
        {
          "output_type": "execute_result",
          "data": {
            "text/plain": [
              "<matplotlib.collections.PathCollection at 0x7f4b4f69dfd0>"
            ]
          },
          "metadata": {
            "tags": []
          },
          "execution_count": 3
        },
        {
          "output_type": "display_data",
          "data": {
            "image/png": "[encoded data removed]",
            "text/plain": [
              "<Figure size 432x288 with 1 Axes>"
            ]
          },
          "metadata": {
            "tags": [],
            "needs_background": "light"
          }
        }
      ]
    },
    {
      "cell_type": "markdown",
      "metadata": {
        "id": "6w-expfpO9zv"
      },
      "source": [
        "### color"
      ]
    },
    {
      "cell_type": "code",
      "metadata": {
        "colab": {
          "base_uri": "https://localhost:8080/",
          "height": 281
        },
        "id": "_WS8_KWxOQtP",
        "outputId": "0b631d6e-25a4-4933-caca-43639f872e53"
      },
      "source": [
        "plt.scatter(df['PetalLength'],df['PetalWidth'], c='r' ) #เปลี่ยนสี"
      ],
      "execution_count": 4,
      "outputs": [
        {
          "output_type": "execute_result",
          "data": {
            "text/plain": [
              "<matplotlib.collections.PathCollection at 0x7f4b4ca54110>"
            ]
          },
          "metadata": {
            "tags": []
          },
          "execution_count": 4
        },
        {
          "output_type": "display_data",
          "data": {
            "image/png": "[encoded data removed]",
            "text/plain": [
              "<Figure size 432x288 with 1 Axes>"
            ]
          },
          "metadata": {
            "tags": [],
            "needs_background": "light"
          }
        }
      ]
    },
    {
      "cell_type": "markdown",
      "metadata": {
        "id": "UtYQNWTkQ4Jt"
      },
      "source": [
        "### ใส่สีให้แต่ละจุด"
      ]
    },
    {
      "cell_type": "code",
      "metadata": {
        "colab": {
          "base_uri": "https://localhost:8080/"
        },
        "id": "PlL9USVlP9I1",
        "outputId": "c572623c-1bcd-47e6-b296-6ee370db8e62"
      },
      "source": [
        "set(df['Name'])  #ดูว่ามีค่าอะไรบ้าง ใน 'Name'"
      ],
      "execution_count": 5,
      "outputs": [
        {
          "output_type": "execute_result",
          "data": {
            "text/plain": [
              "{'Iris-setosa', 'Iris-versicolor', 'Iris-virginica'}"
            ]
          },
          "metadata": {
            "tags": []
          },
          "execution_count": 5
        }
      ]
    },
    {
      "cell_type": "code",
      "metadata": {
        "colab": {
          "base_uri": "https://localhost:8080/",
          "height": 404
        },
        "id": "zF0lUzbAQMHg",
        "outputId": "7b89acf2-44db-4935-9004-fb70e49f2ea3"
      },
      "source": [
        "df2 = df.replace({'Iris-setosa':0 , 'Iris-versicolor':1 , 'Iris-virginica':2 })\r\n",
        "df2"
      ],
      "execution_count": 6,
      "outputs": [
        {
          "output_type": "execute_result",
          "data": {
            "text/html": [
              "<div>\n",
              "<style scoped>\n",
              "    .dataframe tbody tr th:only-of-type {\n",
              "        vertical-align: middle;\n",
              "    }\n",
              "\n",
              "    .dataframe tbody tr th {\n",
              "        vertical-align: top;\n",
              "    }\n",
              "\n",
              "    .dataframe thead th {\n",
              "        text-align: right;\n",
              "    }\n",
              "</style>\n",
              "<table border=\"1\" class=\"dataframe\">\n",
              "  <thead>\n",
              "    <tr style=\"text-align: right;\">\n",
              "      <th></th>\n",
              "      <th>SepalLength</th>\n",
              "      <th>SepalWidth</th>\n",
              "      <th>PetalLength</th>\n",
              "      <th>PetalWidth</th>\n",
              "      <th>Name</th>\n",
              "    </tr>\n",
              "  </thead>\n",
              "  <tbody>\n",
              "    <tr>\n",
              "      <th>0</th>\n",
              "      <td>5.1</td>\n",
              "      <td>3.5</td>\n",
              "      <td>1.4</td>\n",
              "      <td>0.2</td>\n",
              "      <td>0</td>\n",
              "    </tr>\n",
              "    <tr>\n",
              "      <th>1</th>\n",
              "      <td>4.9</td>\n",
              "      <td>3.0</td>\n",
              "      <td>1.4</td>\n",
              "      <td>0.2</td>\n",
              "      <td>0</td>\n",
              "    </tr>\n",
              "    <tr>\n",
              "      <th>2</th>\n",
              "      <td>4.7</td>\n",
              "      <td>3.2</td>\n",
              "      <td>1.3</td>\n",
              "      <td>0.2</td>\n",
              "      <td>0</td>\n",
              "    </tr>\n",
              "    <tr>\n",
              "      <th>3</th>\n",
              "      <td>4.6</td>\n",
              "      <td>3.1</td>\n",
              "      <td>1.5</td>\n",
              "      <td>0.2</td>\n",
              "      <td>0</td>\n",
              "    </tr>\n",
              "    <tr>\n",
              "      <th>4</th>\n",
              "      <td>5.0</td>\n",
              "      <td>3.6</td>\n",
              "      <td>1.4</td>\n",
              "      <td>0.2</td>\n",
              "      <td>0</td>\n",
              "    </tr>\n",
              "    <tr>\n",
              "      <th>...</th>\n",
              "      <td>...</td>\n",
              "      <td>...</td>\n",
              "      <td>...</td>\n",
              "      <td>...</td>\n",
              "      <td>...</td>\n",
              "    </tr>\n",
              "    <tr>\n",
              "      <th>145</th>\n",
              "      <td>6.7</td>\n",
              "      <td>3.0</td>\n",
              "      <td>5.2</td>\n",
              "      <td>2.3</td>\n",
              "      <td>2</td>\n",
              "    </tr>\n",
              "    <tr>\n",
              "      <th>146</th>\n",
              "      <td>6.3</td>\n",
              "      <td>2.5</td>\n",
              "      <td>5.0</td>\n",
              "      <td>1.9</td>\n",
              "      <td>2</td>\n",
              "    </tr>\n",
              "    <tr>\n",
              "      <th>147</th>\n",
              "      <td>6.5</td>\n",
              "      <td>3.0</td>\n",
              "      <td>5.2</td>\n",
              "      <td>2.0</td>\n",
              "      <td>2</td>\n",
              "    </tr>\n",
              "    <tr>\n",
              "      <th>148</th>\n",
              "      <td>6.2</td>\n",
              "      <td>3.4</td>\n",
              "      <td>5.4</td>\n",
              "      <td>2.3</td>\n",
              "      <td>2</td>\n",
              "    </tr>\n",
              "    <tr>\n",
              "      <th>149</th>\n",
              "      <td>5.9</td>\n",
              "      <td>3.0</td>\n",
              "      <td>5.1</td>\n",
              "      <td>1.8</td>\n",
              "      <td>2</td>\n",
              "    </tr>\n",
              "  </tbody>\n",
              "</table>\n",
              "<p>150 rows × 5 columns</p>\n",
              "</div>"
            ],
            "text/plain": [
              "     SepalLength  SepalWidth  PetalLength  PetalWidth  Name\n",
              "0            5.1         3.5          1.4         0.2     0\n",
              "1            4.9         3.0          1.4         0.2     0\n",
              "2            4.7         3.2          1.3         0.2     0\n",
              "3            4.6         3.1          1.5         0.2     0\n",
              "4            5.0         3.6          1.4         0.2     0\n",
              "..           ...         ...          ...         ...   ...\n",
              "145          6.7         3.0          5.2         2.3     2\n",
              "146          6.3         2.5          5.0         1.9     2\n",
              "147          6.5         3.0          5.2         2.0     2\n",
              "148          6.2         3.4          5.4         2.3     2\n",
              "149          5.9         3.0          5.1         1.8     2\n",
              "\n",
              "[150 rows x 5 columns]"
            ]
          },
          "metadata": {
            "tags": []
          },
          "execution_count": 6
        }
      ]
    },
    {
      "cell_type": "code",
      "metadata": {
        "colab": {
          "base_uri": "https://localhost:8080/",
          "height": 281
        },
        "id": "2Ivbng1rN2VZ",
        "outputId": "2547f968-ba73-4b78-b165-e6bf127d6837"
      },
      "source": [
        "plt.scatter(df['PetalLength'],df['PetalWidth'], c= df2['Name'] )  #อาจจะมีสีที่ถูกทับอยู่"
      ],
      "execution_count": 7,
      "outputs": [
        {
          "output_type": "execute_result",
          "data": {
            "text/plain": [
              "<matplotlib.collections.PathCollection at 0x7f4b4c9db710>"
            ]
          },
          "metadata": {
            "tags": []
          },
          "execution_count": 7
        },
        {
          "output_type": "display_data",
          "data": {
            "image/png": "[encoded data removed]",
            "text/plain": [
              "<Figure size 432x288 with 1 Axes>"
            ]
          },
          "metadata": {
            "tags": [],
            "needs_background": "light"
          }
        }
      ]
    },
    {
      "cell_type": "markdown",
      "metadata": {
        "id": "d8wxLtD6CzHS"
      },
      "source": [
        "### alpha กำหนดความโปร่งแสง\r\n",
        "อาจจะมีสีที่ถูกทับอยู่ต้องใช้ alpha"
      ]
    },
    {
      "cell_type": "code",
      "metadata": {
        "id": "QpnOS5vrRIIL",
        "colab": {
          "base_uri": "https://localhost:8080/",
          "height": 281
        },
        "outputId": "6d02eff7-9adb-42cf-dee4-dc881955e28f"
      },
      "source": [
        "plt.scatter(df['PetalLength'],df['PetalWidth'], c= df2['Name'], alpha=0.5) "
      ],
      "execution_count": 8,
      "outputs": [
        {
          "output_type": "execute_result",
          "data": {
            "text/plain": [
              "<matplotlib.collections.PathCollection at 0x7f4b4ca0b590>"
            ]
          },
          "metadata": {
            "tags": []
          },
          "execution_count": 8
        },
        {
          "output_type": "display_data",
          "data": {
            "image/png": "[encoded data removed]",
            "text/plain": [
              "<Figure size 432x288 with 1 Axes>"
            ]
          },
          "metadata": {
            "tags": [],
            "needs_background": "light"
          }
        }
      ]
    },
    {
      "cell_type": "markdown",
      "metadata": {
        "id": "ZONfIA0JEPYX"
      },
      "source": [
        "### ใช้ขนาดของ marker แสดงค่าของ feature หรือ dimention ที่เรายังไม่ได้แสดง"
      ]
    },
    {
      "cell_type": "code",
      "metadata": {
        "id": "33fIMU8RRID6",
        "colab": {
          "base_uri": "https://localhost:8080/",
          "height": 281
        },
        "outputId": "ae23907a-8b06-4104-d891-c5c7f19e8af8"
      },
      "source": [
        "plt.scatter(df['PetalLength'],df['PetalWidth'], s=10*df['SepalWidth'] , c= df2['Name'], alpha=0.5) "
      ],
      "execution_count": 9,
      "outputs": [
        {
          "output_type": "execute_result",
          "data": {
            "text/plain": [
              "<matplotlib.collections.PathCollection at 0x7f4b4b697790>"
            ]
          },
          "metadata": {
            "tags": []
          },
          "execution_count": 9
        },
        {
          "output_type": "display_data",
          "data": {
            "image/png": "[encoded data removed]",
            "text/plain": [
              "<Figure size 432x288 with 1 Axes>"
            ]
          },
          "metadata": {
            "tags": [],
            "needs_background": "light"
          }
        }
      ]
    },
    {
      "cell_type": "code",
      "metadata": {
        "id": "5hfnngAJN2TM",
        "outputId": "e356f31d-4a3a-4e2b-bf9c-f5c4585f5051",
        "colab": {
          "base_uri": "https://localhost:8080/",
          "height": 281
        }
      },
      "source": [
        "plt.scatter(df['PetalLength'],df['PetalWidth'], s=10*df['SepalWidth'] , c= df2['Name'], alpha=0.5) "
      ],
      "execution_count": 10,
      "outputs": [
        {
          "output_type": "execute_result",
          "data": {
            "text/plain": [
              "<matplotlib.collections.PathCollection at 0x7f4b4b60c250>"
            ]
          },
          "metadata": {
            "tags": []
          },
          "execution_count": 10
        },
        {
          "output_type": "display_data",
          "data": {
            "image/png": "[encoded data removed]",
            "text/plain": [
              "<Figure size 432x288 with 1 Axes>"
            ]
          },
          "metadata": {
            "tags": [],
            "needs_background": "light"
          }
        }
      ]
    },
    {
      "cell_type": "markdown",
      "metadata": {
        "id": "N69t_eWmF1Kb"
      },
      "source": [
        "### Marker ใช้ในการ เปลี่ยนหน้าตาของ marker "
      ]
    },
    {
      "cell_type": "code",
      "metadata": {
        "id": "NQ27mopMN2QV",
        "colab": {
          "base_uri": "https://localhost:8080/",
          "height": 281
        },
        "outputId": "002ce420-1dda-47ad-9674-ce63e71c28c1"
      },
      "source": [
        "plt.scatter(df['PetalLength'],df['PetalWidth'] , c= df2['Name'], alpha=0.5, marker='$A$') "
      ],
      "execution_count": 11,
      "outputs": [
        {
          "output_type": "execute_result",
          "data": {
            "text/plain": [
              "<matplotlib.collections.PathCollection at 0x7f4b4b5e2310>"
            ]
          },
          "metadata": {
            "tags": []
          },
          "execution_count": 11
        },
        {
          "output_type": "display_data",
          "data": {
            "image/png": "[encoded data removed]",
            "text/plain": [
              "<Figure size 432x288 with 1 Axes>"
            ]
          },
          "metadata": {
            "tags": [],
            "needs_background": "light"
          }
        }
      ]
    },
    {
      "cell_type": "markdown",
      "metadata": {
        "id": "jSUvhwLaGyYx"
      },
      "source": [
        "## การ plot กราฟหลาย ๆ อันพร้อมกัน\r\n",
        "ให้มาซ้อนกัน เพื่อให้ปรับ marker ของแต่ละอันได้"
      ]
    },
    {
      "cell_type": "code",
      "metadata": {
        "id": "LX9FmJ4VGtyg",
        "colab": {
          "base_uri": "https://localhost:8080/",
          "height": 298
        },
        "outputId": "6f8feb6a-cfd1-43fd-d1ca-1eb40c2f2d0c"
      },
      "source": [
        "plt.scatter(df['PetalLength'][:50],df['PetalWidth'][:50] , s =100, c= 'm', alpha=0.5, marker='$S$') \r\n",
        "plt.scatter(df['PetalLength'][50:100],df['PetalWidth'][50:100] , s =100, c= 'c', alpha=0.5, marker='$ฺE$') \r\n",
        "plt.scatter(df['PetalLength'][100:],df['PetalWidth'][100:] , s =100, c= 'r', alpha=0.5, marker='$I$') "
      ],
      "execution_count": 12,
      "outputs": [
        {
          "output_type": "stream",
          "text": [
            "Font 'rm' does not have a glyph for '\\u0e3a' [U+e3a], substituting with a dummy symbol.\n"
          ],
          "name": "stderr"
        },
        {
          "output_type": "execute_result",
          "data": {
            "text/plain": [
              "<matplotlib.collections.PathCollection at 0x7f4b4b4f3e90>"
            ]
          },
          "metadata": {
            "tags": []
          },
          "execution_count": 12
        },
        {
          "output_type": "display_data",
          "data": {
            "image/png": "[encoded data removed]",
            "text/plain": [
              "<Figure size 432x288 with 1 Axes>"
            ]
          },
          "metadata": {
            "tags": [],
            "needs_background": "light"
          }
        }
      ]
    },
    {
      "cell_type": "markdown",
      "metadata": {
        "id": "wfA2HIb04JAI"
      },
      "source": [
        "## Label-Legend\r\n",
        "```plt.plot()``` inputn ตัวที่ 3 คือตัวกำหนด หน้าตาของ marker\r\n",
        "\r\n",
        "'หน้าตา marker' - 'ลักษณะของเส้นเชื่อมจุด' - 'สี'"
      ]
    },
    {
      "cell_type": "markdown",
      "metadata": {
        "id": "i5AHxkAu4XGv"
      },
      "source": [
        "plot ต่างกัน ตรงที่ เราต้องมานั่งจำพวกสัญลักษณ์ต่าง ๆ เอง"
      ]
    },
    {
      "cell_type": "code",
      "metadata": {
        "id": "jz4p2D6j4Q59",
        "outputId": "01130fa9-b622-4c86-eb1f-5fd7dde79378",
        "colab": {
          "base_uri": "https://localhost:8080/",
          "height": 281
        }
      },
      "source": [
        "plt.plot(df['PetalLength'][:50],df['PetalWidth'][:50], 'or' , alpha=0.5,label='setosa') \r\n",
        "plt.plot(df['PetalLength'][50:100],df['PetalWidth'][50:100], 'xc', alpha=0.5,label='versicolor') \r\n",
        "plt.plot(df['PetalLength'][100:],df['PetalWidth'][100:], '*m', alpha=0.5,label='virginica') \r\n",
        "plt.legend()"
      ],
      "execution_count": 20,
      "outputs": [
        {
          "output_type": "execute_result",
          "data": {
            "text/plain": [
              "<matplotlib.legend.Legend at 0x7f4b4ac8f650>"
            ]
          },
          "metadata": {
            "tags": []
          },
          "execution_count": 20
        },
        {
          "output_type": "display_data",
          "data": {
            "image/png": "[encoded data removed]",
            "text/plain": [
              "<Figure size 432x288 with 1 Axes>"
            ]
          },
          "metadata": {
            "tags": [],
            "needs_background": "light"
          }
        }
      ]
    },
    {
      "cell_type": "code",
      "metadata": {
        "id": "2fUlkN8-4QxD",
        "outputId": "13432149-6a3d-4504-dfa5-d0591d717dfc",
        "colab": {
          "base_uri": "https://localhost:8080/",
          "height": 281
        }
      },
      "source": [
        "plt.plot(df['PetalLength'][:50],df['PetalWidth'][:50], 'o:r' , alpha=0.5) "
      ],
      "execution_count": 17,
      "outputs": [
        {
          "output_type": "execute_result",
          "data": {
            "text/plain": [
              "[<matplotlib.lines.Line2D at 0x7f4b4b0d7ed0>]"
            ]
          },
          "metadata": {
            "tags": []
          },
          "execution_count": 17
        },
        {
          "output_type": "display_data",
          "data": {
            "image/png": "[encoded data removed]",
            "text/plain": [
              "<Figure size 432x288 with 1 Axes>"
            ]
          },
          "metadata": {
            "tags": [],
            "needs_background": "light"
          }
        }
      ]
    },
    {
      "cell_type": "markdown",
      "metadata": {
        "id": "J_-APEe7-oKC"
      },
      "source": [
        "## 3D scatter"
      ]
    },
    {
      "cell_type": "code",
      "metadata": {
        "id": "8i0SPpl-4Qtu",
        "outputId": "a539ac4c-d5f4-401d-9366-ec6b93436250",
        "colab": {
          "base_uri": "https://localhost:8080/",
          "height": 265
        }
      },
      "source": [
        "ax = plt.axes(projection =\"3d\")\r\n",
        "ax.scatter3D(df['PetalLength'],df['PetalWidth'],df['SepalWidth'],c=df2['Name'])"
      ],
      "execution_count": 21,
      "outputs": [
        {
          "output_type": "execute_result",
          "data": {
            "text/plain": [
              "<mpl_toolkits.mplot3d.art3d.Path3DCollection at 0x7f4b4abd2b50>"
            ]
          },
          "metadata": {
            "tags": []
          },
          "execution_count": 21
        },
        {
          "output_type": "display_data",
          "data": {
            "image/png": "[encoded data removed]",
            "text/plain": [
              "<Figure size 432x288 with 1 Axes>"
            ]
          },
          "metadata": {
            "tags": [],
            "needs_background": "light"
          }
        }
      ]
    },
    {
      "cell_type": "markdown",
      "metadata": {
        "id": "UXZqMrs8_59t"
      },
      "source": [
        "## Bubble Chart"
      ]
    },
    {
      "cell_type": "code",
      "metadata": {
        "id": "wuaNwa7jGtvu",
        "outputId": "8b7c4c1b-5ced-4600-8da9-0a7d5bc5beea",
        "colab": {
          "base_uri": "https://localhost:8080/",
          "height": 281
        }
      },
      "source": [
        "plt.scatter(df['PetalLength'][:50],df['PetalWidth'][100:] , s =80*df['SepalWidth'][100:], c= 'r') "
      ],
      "execution_count": 28,
      "outputs": [
        {
          "output_type": "execute_result",
          "data": {
            "text/plain": [
              "<matplotlib.collections.PathCollection at 0x7f4b3d9dcbd0>"
            ]
          },
          "metadata": {
            "tags": []
          },
          "execution_count": 28
        },
        {
          "output_type": "display_data",
          "data": {
            "image/png": "[encoded data removed]",
            "text/plain": [
              "<Figure size 432x288 with 1 Axes>"
            ]
          },
          "metadata": {
            "tags": [],
            "needs_background": "light"
          }
        }
      ]
    },
    {
      "cell_type": "markdown",
      "metadata": {
        "id": "L9BQXIOBCyfG"
      },
      "source": [
        "## Example"
      ]
    },
    {
      "cell_type": "code",
      "metadata": {
        "id": "0wbr4hvs_5mB",
        "outputId": "46adfc3d-2a78-43b4-f814-ddce57d68d08",
        "colab": {
          "base_uri": "https://localhost:8080/",
          "height": 1000
        }
      },
      "source": [
        "data = pd.read_excel('passenger-covid19.xlsx')\r\n",
        "data"
      ],
      "execution_count": 32,
      "outputs": [
        {
          "output_type": "execute_result",
          "data": {
            "text/html": [
              "<div>\n",
              "<style scoped>\n",
              "    .dataframe tbody tr th:only-of-type {\n",
              "        vertical-align: middle;\n",
              "    }\n",
              "\n",
              "    .dataframe tbody tr th {\n",
              "        vertical-align: top;\n",
              "    }\n",
              "\n",
              "    .dataframe thead th {\n",
              "        text-align: right;\n",
              "    }\n",
              "</style>\n",
              "<table border=\"1\" class=\"dataframe\">\n",
              "  <thead>\n",
              "    <tr style=\"text-align: right;\">\n",
              "      <th></th>\n",
              "      <th>ขนคน/ขนสินค้า</th>\n",
              "      <th>โหมดการเดินทาง</th>\n",
              "      <th>รูปแบบการเดินทาง</th>\n",
              "      <th>สาธารณะ/ส่วนบุคคล</th>\n",
              "      <th>หน่วยงาน</th>\n",
              "      <th>ยานพาหนะ/ท่า</th>\n",
              "      <th>ม.ค. 2562</th>\n",
              "      <th>ก.พ. 2562</th>\n",
              "      <th>มี.ค. 2562</th>\n",
              "      <th>เม.ย. 2562</th>\n",
              "      <th>พ.ค. 2562</th>\n",
              "      <th>มิ.ย. 2562</th>\n",
              "      <th>ก.ค. 2562</th>\n",
              "      <th>ส.ค. 2562</th>\n",
              "      <th>ก.ย. 2562</th>\n",
              "      <th>ต.ค. 2562</th>\n",
              "      <th>พ.ย. 2562</th>\n",
              "      <th>ธ.ค. 2562</th>\n",
              "    </tr>\n",
              "  </thead>\n",
              "  <tbody>\n",
              "    <tr>\n",
              "      <th>0</th>\n",
              "      <td>ขนคน (คน)</td>\n",
              "      <td>ทางบก</td>\n",
              "      <td>การเดินทางระหว่างจังหวัด</td>\n",
              "      <td>สาธารณะ</td>\n",
              "      <td>บขส.</td>\n",
              "      <td>รถ ขบส. และ รถร่วม</td>\n",
              "      <td>5236331</td>\n",
              "      <td>4628878.0</td>\n",
              "      <td>5234387.0</td>\n",
              "      <td>5137450.0</td>\n",
              "      <td>4885221.0</td>\n",
              "      <td>4572261.0</td>\n",
              "      <td>4772689.0</td>\n",
              "      <td>4701554.0</td>\n",
              "      <td>4482707.0</td>\n",
              "      <td>4774815.0</td>\n",
              "      <td>4559610.0</td>\n",
              "      <td>4840673.0</td>\n",
              "    </tr>\n",
              "    <tr>\n",
              "      <th>1</th>\n",
              "      <td>ขนคน (คน)</td>\n",
              "      <td>ทางบก</td>\n",
              "      <td>การเดินทางระหว่างจังหวัด</td>\n",
              "      <td>สาธารณะ</td>\n",
              "      <td>ขบ.</td>\n",
              "      <td>รถ Taxi</td>\n",
              "      <td>NaN</td>\n",
              "      <td>NaN</td>\n",
              "      <td>NaN</td>\n",
              "      <td>NaN</td>\n",
              "      <td>NaN</td>\n",
              "      <td>NaN</td>\n",
              "      <td>NaN</td>\n",
              "      <td>NaN</td>\n",
              "      <td>NaN</td>\n",
              "      <td>NaN</td>\n",
              "      <td>NaN</td>\n",
              "      <td>NaN</td>\n",
              "    </tr>\n",
              "    <tr>\n",
              "      <th>2</th>\n",
              "      <td>ขนคน (คน)</td>\n",
              "      <td>ทางบก</td>\n",
              "      <td>การเดินทางระหว่างจังหวัด</td>\n",
              "      <td>สาธารณะ</td>\n",
              "      <td>ขบ.</td>\n",
              "      <td>รถหมวด 3</td>\n",
              "      <td>2550864</td>\n",
              "      <td>2334128.0</td>\n",
              "      <td>2599144.0</td>\n",
              "      <td>2602024.0</td>\n",
              "      <td>2543424.0</td>\n",
              "      <td>2435944.0</td>\n",
              "      <td>2526104.0</td>\n",
              "      <td>2492728.0</td>\n",
              "      <td>2420736.0</td>\n",
              "      <td>2499408.0</td>\n",
              "      <td>2450888.0</td>\n",
              "      <td>2516032.0</td>\n",
              "    </tr>\n",
              "    <tr>\n",
              "      <th>3</th>\n",
              "      <td>ขนคน (คัน)</td>\n",
              "      <td>ทางบก</td>\n",
              "      <td>การเดินทางระหว่างจังหวัด</td>\n",
              "      <td>ส่วนบุคคล</td>\n",
              "      <td>ทล.</td>\n",
              "      <td>รถยนต์ (10 จุดสำรวจ)</td>\n",
              "      <td>28907234</td>\n",
              "      <td>26699682.0</td>\n",
              "      <td>30210655.0</td>\n",
              "      <td>28542444.0</td>\n",
              "      <td>29407838.0</td>\n",
              "      <td>27789633.0</td>\n",
              "      <td>28811411.0</td>\n",
              "      <td>29552867.0</td>\n",
              "      <td>27950945.0</td>\n",
              "      <td>29335664.0</td>\n",
              "      <td>28325020.0</td>\n",
              "      <td>29615013.0</td>\n",
              "    </tr>\n",
              "    <tr>\n",
              "      <th>4</th>\n",
              "      <td>ขนคน (คัน)</td>\n",
              "      <td>ทางบก</td>\n",
              "      <td>การเดินทางระหว่างจังหวัด</td>\n",
              "      <td>ส่วนบุคคล</td>\n",
              "      <td>กทพ.</td>\n",
              "      <td>รถยนต์ (ทางด่วน)</td>\n",
              "      <td>56404661</td>\n",
              "      <td>51536713.0</td>\n",
              "      <td>57376504.0</td>\n",
              "      <td>46838468.0</td>\n",
              "      <td>45769555.0</td>\n",
              "      <td>47344042.0</td>\n",
              "      <td>46027953.0</td>\n",
              "      <td>47566521.0</td>\n",
              "      <td>44765838.0</td>\n",
              "      <td>47236151.0</td>\n",
              "      <td>46996660.0</td>\n",
              "      <td>47294111.0</td>\n",
              "    </tr>\n",
              "    <tr>\n",
              "      <th>5</th>\n",
              "      <td>ขนคน (คัน)</td>\n",
              "      <td>ทางบก</td>\n",
              "      <td>การเดินทางระหว่างจังหวัด</td>\n",
              "      <td>ส่วนบุคคล</td>\n",
              "      <td>ทล.</td>\n",
              "      <td>รถจักรยานยนต์</td>\n",
              "      <td>NaN</td>\n",
              "      <td>NaN</td>\n",
              "      <td>NaN</td>\n",
              "      <td>NaN</td>\n",
              "      <td>NaN</td>\n",
              "      <td>NaN</td>\n",
              "      <td>NaN</td>\n",
              "      <td>NaN</td>\n",
              "      <td>NaN</td>\n",
              "      <td>NaN</td>\n",
              "      <td>NaN</td>\n",
              "      <td>NaN</td>\n",
              "    </tr>\n",
              "    <tr>\n",
              "      <th>6</th>\n",
              "      <td>ขนคน (คน)</td>\n",
              "      <td>ทางบก</td>\n",
              "      <td>การเดินทางภายในจังหวัด/กรุงเทพ</td>\n",
              "      <td>สาธารณะ</td>\n",
              "      <td>ขบ.</td>\n",
              "      <td>รถหมวด 4</td>\n",
              "      <td>108716</td>\n",
              "      <td>103437.0</td>\n",
              "      <td>102001.0</td>\n",
              "      <td>104421.0</td>\n",
              "      <td>107417.0</td>\n",
              "      <td>107698.0</td>\n",
              "      <td>109522.0</td>\n",
              "      <td>107789.0</td>\n",
              "      <td>104813.0</td>\n",
              "      <td>105082.0</td>\n",
              "      <td>108037.0</td>\n",
              "      <td>104032.0</td>\n",
              "    </tr>\n",
              "    <tr>\n",
              "      <th>7</th>\n",
              "      <td>ขนคน (คน)</td>\n",
              "      <td>ทางบก</td>\n",
              "      <td>การเดินทางภายในจังหวัด/กรุงเทพ</td>\n",
              "      <td>สาธารณะ</td>\n",
              "      <td>ขบ.</td>\n",
              "      <td>รถจักรยานยนต์รับจ้าง</td>\n",
              "      <td>NaN</td>\n",
              "      <td>NaN</td>\n",
              "      <td>NaN</td>\n",
              "      <td>NaN</td>\n",
              "      <td>NaN</td>\n",
              "      <td>NaN</td>\n",
              "      <td>NaN</td>\n",
              "      <td>NaN</td>\n",
              "      <td>NaN</td>\n",
              "      <td>NaN</td>\n",
              "      <td>NaN</td>\n",
              "      <td>NaN</td>\n",
              "    </tr>\n",
              "    <tr>\n",
              "      <th>8</th>\n",
              "      <td>ขนคน (คน)</td>\n",
              "      <td>ทางบก</td>\n",
              "      <td>การเดินทางภายในจังหวัด/กรุงเทพ</td>\n",
              "      <td>สาธารณะ</td>\n",
              "      <td>ขสมก.</td>\n",
              "      <td>รถเมล์ ขสมก.</td>\n",
              "      <td>32756201</td>\n",
              "      <td>29567092.0</td>\n",
              "      <td>32278496.0</td>\n",
              "      <td>29002665.0</td>\n",
              "      <td>29444786.0</td>\n",
              "      <td>29774190.0</td>\n",
              "      <td>29961893.0</td>\n",
              "      <td>30476179.0</td>\n",
              "      <td>29328968.0</td>\n",
              "      <td>29879889.0</td>\n",
              "      <td>29672244.0</td>\n",
              "      <td>29019427.0</td>\n",
              "    </tr>\n",
              "    <tr>\n",
              "      <th>9</th>\n",
              "      <td>ขนคน (คน)</td>\n",
              "      <td>ทางบก</td>\n",
              "      <td>การเดินทางภายในจังหวัด/กรุงเทพ</td>\n",
              "      <td>สาธารณะ</td>\n",
              "      <td>ขสมก.</td>\n",
              "      <td>รถร่วม (หมวด 1)</td>\n",
              "      <td>28753451</td>\n",
              "      <td>27871978.0</td>\n",
              "      <td>28249937.0</td>\n",
              "      <td>23874176.0</td>\n",
              "      <td>24499764.0</td>\n",
              "      <td>25942632.0</td>\n",
              "      <td>25560717.0</td>\n",
              "      <td>24770240.0</td>\n",
              "      <td>26511750.0</td>\n",
              "      <td>24935747.0</td>\n",
              "      <td>25368180.0</td>\n",
              "      <td>24993204.0</td>\n",
              "    </tr>\n",
              "    <tr>\n",
              "      <th>10</th>\n",
              "      <td>ขนคน (คัน)</td>\n",
              "      <td>ทางบก</td>\n",
              "      <td>การเดินทางภายในจังหวัด/กรุงเทพ</td>\n",
              "      <td>ส่วนบุคคล</td>\n",
              "      <td>ทล.</td>\n",
              "      <td>รถยนต์</td>\n",
              "      <td>NaN</td>\n",
              "      <td>NaN</td>\n",
              "      <td>NaN</td>\n",
              "      <td>NaN</td>\n",
              "      <td>NaN</td>\n",
              "      <td>NaN</td>\n",
              "      <td>NaN</td>\n",
              "      <td>NaN</td>\n",
              "      <td>NaN</td>\n",
              "      <td>NaN</td>\n",
              "      <td>NaN</td>\n",
              "      <td>NaN</td>\n",
              "    </tr>\n",
              "    <tr>\n",
              "      <th>11</th>\n",
              "      <td>ขนคน (คัน)</td>\n",
              "      <td>ทางบก</td>\n",
              "      <td>การเดินทางภายในจังหวัด/กรุงเทพ</td>\n",
              "      <td>ส่วนบุคคล</td>\n",
              "      <td>ทล.</td>\n",
              "      <td>รถจักรยานยนต์</td>\n",
              "      <td>NaN</td>\n",
              "      <td>NaN</td>\n",
              "      <td>NaN</td>\n",
              "      <td>NaN</td>\n",
              "      <td>NaN</td>\n",
              "      <td>NaN</td>\n",
              "      <td>NaN</td>\n",
              "      <td>NaN</td>\n",
              "      <td>NaN</td>\n",
              "      <td>NaN</td>\n",
              "      <td>NaN</td>\n",
              "      <td>NaN</td>\n",
              "    </tr>\n",
              "    <tr>\n",
              "      <th>12</th>\n",
              "      <td>ขนคน (คน)</td>\n",
              "      <td>ทางน้ำ</td>\n",
              "      <td>การเดินทางระหว่างจังหวัด</td>\n",
              "      <td>สาธารณะ</td>\n",
              "      <td>จท.</td>\n",
              "      <td>เรือภูมิภาค</td>\n",
              "      <td>ไม่มีการจัดเก็บข้อมูล</td>\n",
              "      <td>NaN</td>\n",
              "      <td>NaN</td>\n",
              "      <td>NaN</td>\n",
              "      <td>NaN</td>\n",
              "      <td>NaN</td>\n",
              "      <td>NaN</td>\n",
              "      <td>NaN</td>\n",
              "      <td>NaN</td>\n",
              "      <td>NaN</td>\n",
              "      <td>NaN</td>\n",
              "      <td>NaN</td>\n",
              "    </tr>\n",
              "    <tr>\n",
              "      <th>13</th>\n",
              "      <td>ขนคน (คน)</td>\n",
              "      <td>ทางน้ำ</td>\n",
              "      <td>การเดินทางภายในจังหวัด/กรุงเทพ</td>\n",
              "      <td>สาธารณะ</td>\n",
              "      <td>จท.</td>\n",
              "      <td>เรือเจ้าพระยา</td>\n",
              "      <td>968060</td>\n",
              "      <td>848038.0</td>\n",
              "      <td>819430.0</td>\n",
              "      <td>714176.0</td>\n",
              "      <td>721440.0</td>\n",
              "      <td>775351.0</td>\n",
              "      <td>881799.0</td>\n",
              "      <td>857927.0</td>\n",
              "      <td>687417.0</td>\n",
              "      <td>668144.0</td>\n",
              "      <td>771668.0</td>\n",
              "      <td>766378.0</td>\n",
              "    </tr>\n",
              "    <tr>\n",
              "      <th>14</th>\n",
              "      <td>ขนคน (คน)</td>\n",
              "      <td>ทางน้ำ</td>\n",
              "      <td>การเดินทางภายในจังหวัด/กรุงเทพ</td>\n",
              "      <td>สาธารณะ</td>\n",
              "      <td>จท.</td>\n",
              "      <td>เรือคลองแสนแสบ</td>\n",
              "      <td>818195</td>\n",
              "      <td>800744.0</td>\n",
              "      <td>820090.0</td>\n",
              "      <td>636994.0</td>\n",
              "      <td>815729.0</td>\n",
              "      <td>830625.0</td>\n",
              "      <td>796782.0</td>\n",
              "      <td>817956.0</td>\n",
              "      <td>826987.0</td>\n",
              "      <td>846489.0</td>\n",
              "      <td>837965.0</td>\n",
              "      <td>796559.0</td>\n",
              "    </tr>\n",
              "    <tr>\n",
              "      <th>15</th>\n",
              "      <td>ขนคน (คน)</td>\n",
              "      <td>ทางน้ำ</td>\n",
              "      <td>การเดินทางภายในจังหวัด/กรุงเทพ</td>\n",
              "      <td>สาธารณะ</td>\n",
              "      <td>จท.</td>\n",
              "      <td>เรือภูมิภาค</td>\n",
              "      <td>6288628</td>\n",
              "      <td>6308324.0</td>\n",
              "      <td>6494292.0</td>\n",
              "      <td>8040472.0</td>\n",
              "      <td>5687057.0</td>\n",
              "      <td>5233272.0</td>\n",
              "      <td>5431222.0</td>\n",
              "      <td>6520566.0</td>\n",
              "      <td>5345152.0</td>\n",
              "      <td>6405377.0</td>\n",
              "      <td>6420869.0</td>\n",
              "      <td>7216193.0</td>\n",
              "    </tr>\n",
              "    <tr>\n",
              "      <th>16</th>\n",
              "      <td>ขนคน (คน)</td>\n",
              "      <td>ทางน้ำ</td>\n",
              "      <td>การเดินทางภายในจังหวัด/กรุงเทพ</td>\n",
              "      <td>ส่วนบุคคล</td>\n",
              "      <td>จท.</td>\n",
              "      <td>เรือส่วนบุคคล</td>\n",
              "      <td>ไม่มีการจัดเก็บข้อมูล</td>\n",
              "      <td>NaN</td>\n",
              "      <td>NaN</td>\n",
              "      <td>NaN</td>\n",
              "      <td>NaN</td>\n",
              "      <td>NaN</td>\n",
              "      <td>NaN</td>\n",
              "      <td>NaN</td>\n",
              "      <td>NaN</td>\n",
              "      <td>NaN</td>\n",
              "      <td>NaN</td>\n",
              "      <td>NaN</td>\n",
              "    </tr>\n",
              "    <tr>\n",
              "      <th>17</th>\n",
              "      <td>ขนคน (คน)</td>\n",
              "      <td>ทางราง</td>\n",
              "      <td>การเดินทางระหว่างจังหวัด</td>\n",
              "      <td>สาธารณะ</td>\n",
              "      <td>รฟท.</td>\n",
              "      <td>รถไฟ</td>\n",
              "      <td>2715054</td>\n",
              "      <td>2388220.0</td>\n",
              "      <td>2797101.0</td>\n",
              "      <td>2736354.0</td>\n",
              "      <td>2591968.0</td>\n",
              "      <td>2487475.0</td>\n",
              "      <td>2647634.0</td>\n",
              "      <td>2720879.0</td>\n",
              "      <td>2441734.0</td>\n",
              "      <td>2950359.0</td>\n",
              "      <td>2609722.0</td>\n",
              "      <td>2715880.0</td>\n",
              "    </tr>\n",
              "    <tr>\n",
              "      <th>18</th>\n",
              "      <td>ขนคน (คน)</td>\n",
              "      <td>ทางราง</td>\n",
              "      <td>การเดินทางภายในจังหวัด/กรุงเทพ</td>\n",
              "      <td>สาธารณะ</td>\n",
              "      <td>รฟม.</td>\n",
              "      <td>รถไฟฟ้าสายสีน้ำเงิน</td>\n",
              "      <td>9080423</td>\n",
              "      <td>8334110.0</td>\n",
              "      <td>9462844.0</td>\n",
              "      <td>8206327.0</td>\n",
              "      <td>8038437.0</td>\n",
              "      <td>8572432.0</td>\n",
              "      <td>9056787.0</td>\n",
              "      <td>10260894.0</td>\n",
              "      <td>10676842.0</td>\n",
              "      <td>10793797.0</td>\n",
              "      <td>11520590.0</td>\n",
              "      <td>10265578.0</td>\n",
              "    </tr>\n",
              "    <tr>\n",
              "      <th>19</th>\n",
              "      <td>ขนคน (คน)</td>\n",
              "      <td>ทางราง</td>\n",
              "      <td>การเดินทางภายในจังหวัด/กรุงเทพ</td>\n",
              "      <td>สาธารณะ</td>\n",
              "      <td>รฟม.</td>\n",
              "      <td>รถไฟฟ้าสายสีม่วง</td>\n",
              "      <td>1172956</td>\n",
              "      <td>1060635.0</td>\n",
              "      <td>1224857.0</td>\n",
              "      <td>1072255.0</td>\n",
              "      <td>1125328.0</td>\n",
              "      <td>1245619.0</td>\n",
              "      <td>1297620.0</td>\n",
              "      <td>1339673.0</td>\n",
              "      <td>1291700.0</td>\n",
              "      <td>1280900.0</td>\n",
              "      <td>1305024.0</td>\n",
              "      <td>1179272.0</td>\n",
              "    </tr>\n",
              "    <tr>\n",
              "      <th>20</th>\n",
              "      <td>ขนคน (คน)</td>\n",
              "      <td>ทางราง</td>\n",
              "      <td>การเดินทางภายในจังหวัด/กรุงเทพ</td>\n",
              "      <td>สาธารณะ</td>\n",
              "      <td>รฟฟท.</td>\n",
              "      <td>รถไฟฟ้า ARL</td>\n",
              "      <td>2167528</td>\n",
              "      <td>1986306.0</td>\n",
              "      <td>2294142.0</td>\n",
              "      <td>2075144.0</td>\n",
              "      <td>2004377.0</td>\n",
              "      <td>2204219.0</td>\n",
              "      <td>2201717.0</td>\n",
              "      <td>2215873.0</td>\n",
              "      <td>2158113.0</td>\n",
              "      <td>2196794.0</td>\n",
              "      <td>2290792.0</td>\n",
              "      <td>2181036.0</td>\n",
              "    </tr>\n",
              "    <tr>\n",
              "      <th>21</th>\n",
              "      <td>ขนคน (คน)</td>\n",
              "      <td>ทางราง</td>\n",
              "      <td>การเดินทางภายในจังหวัด/กรุงเทพ</td>\n",
              "      <td>สาธารณะ</td>\n",
              "      <td>กทม.</td>\n",
              "      <td>รถไฟฟ้า BTS</td>\n",
              "      <td>20800000</td>\n",
              "      <td>19000000.0</td>\n",
              "      <td>21300000.0</td>\n",
              "      <td>18700000.0</td>\n",
              "      <td>20300000.0</td>\n",
              "      <td>20600000.0</td>\n",
              "      <td>21100000.0</td>\n",
              "      <td>22000000.0</td>\n",
              "      <td>20800000.0</td>\n",
              "      <td>20800000.0</td>\n",
              "      <td>21300000.0</td>\n",
              "      <td>20900000.0</td>\n",
              "    </tr>\n",
              "    <tr>\n",
              "      <th>22</th>\n",
              "      <td>ขนคน (คน)</td>\n",
              "      <td>ทางอากาศ</td>\n",
              "      <td>การเดินทางระหว่างจังหวัด</td>\n",
              "      <td>สาธารณะ</td>\n",
              "      <td>ทอท.</td>\n",
              "      <td>ท่าอากาศยานสุวรรณภูมิ</td>\n",
              "      <td>458709</td>\n",
              "      <td>425178.0</td>\n",
              "      <td>430965.0</td>\n",
              "      <td>411991.0</td>\n",
              "      <td>357617.0</td>\n",
              "      <td>354825.0</td>\n",
              "      <td>395952.0</td>\n",
              "      <td>389527.0</td>\n",
              "      <td>336586.0</td>\n",
              "      <td>409035.0</td>\n",
              "      <td>411562.0</td>\n",
              "      <td>458992.0</td>\n",
              "    </tr>\n",
              "    <tr>\n",
              "      <th>23</th>\n",
              "      <td>ขนคน (คน)</td>\n",
              "      <td>ทางอากาศ</td>\n",
              "      <td>การเดินทางระหว่างจังหวัด</td>\n",
              "      <td>สาธารณะ</td>\n",
              "      <td>ทอท.</td>\n",
              "      <td>ท่าอากาศยานดอนเมือง</td>\n",
              "      <td>1003125</td>\n",
              "      <td>934616.0</td>\n",
              "      <td>1009713.0</td>\n",
              "      <td>978842.0</td>\n",
              "      <td>950347.0</td>\n",
              "      <td>885172.0</td>\n",
              "      <td>919692.0</td>\n",
              "      <td>930329.0</td>\n",
              "      <td>848434.0</td>\n",
              "      <td>997396.0</td>\n",
              "      <td>936619.0</td>\n",
              "      <td>986303.0</td>\n",
              "    </tr>\n",
              "    <tr>\n",
              "      <th>24</th>\n",
              "      <td>ขนคน (คน)</td>\n",
              "      <td>ทางอากาศ</td>\n",
              "      <td>การเดินทางระหว่างจังหวัด</td>\n",
              "      <td>สาธารณะ</td>\n",
              "      <td>ทอท.</td>\n",
              "      <td>ท่าอากาศอื่น ๆ ของ ทอท.</td>\n",
              "      <td>1076360</td>\n",
              "      <td>979634.0</td>\n",
              "      <td>1005178.0</td>\n",
              "      <td>931476.0</td>\n",
              "      <td>853221.0</td>\n",
              "      <td>816263.0</td>\n",
              "      <td>865491.0</td>\n",
              "      <td>910499.0</td>\n",
              "      <td>749967.0</td>\n",
              "      <td>908065.0</td>\n",
              "      <td>903852.0</td>\n",
              "      <td>924307.0</td>\n",
              "    </tr>\n",
              "    <tr>\n",
              "      <th>25</th>\n",
              "      <td>ขนคน (คน)</td>\n",
              "      <td>ทางอากาศ</td>\n",
              "      <td>การเดินทางระหว่างจังหวัด</td>\n",
              "      <td>สาธารณะ</td>\n",
              "      <td>ทย.</td>\n",
              "      <td>ท่าอากาศยานภูมิภาค</td>\n",
              "      <td>719670</td>\n",
              "      <td>663355.0</td>\n",
              "      <td>728778.0</td>\n",
              "      <td>710072.0</td>\n",
              "      <td>686969.0</td>\n",
              "      <td>624522.0</td>\n",
              "      <td>670047.0</td>\n",
              "      <td>664118.0</td>\n",
              "      <td>602766.0</td>\n",
              "      <td>722503.0</td>\n",
              "      <td>674826.0</td>\n",
              "      <td>724097.0</td>\n",
              "    </tr>\n",
              "    <tr>\n",
              "      <th>26</th>\n",
              "      <td>ขนคน (คน)</td>\n",
              "      <td>ทางถนน</td>\n",
              "      <td>การเดินทางระหว่างประเทศ</td>\n",
              "      <td>สาธารณะ</td>\n",
              "      <td>บขส.</td>\n",
              "      <td>รถ บขส. ขาเข้าประเทศ</td>\n",
              "      <td>24221</td>\n",
              "      <td>19600.0</td>\n",
              "      <td>19874.0</td>\n",
              "      <td>32376.0</td>\n",
              "      <td>21146.0</td>\n",
              "      <td>18717.0</td>\n",
              "      <td>20031.0</td>\n",
              "      <td>20447.0</td>\n",
              "      <td>18139.0</td>\n",
              "      <td>18706.0</td>\n",
              "      <td>19912.0</td>\n",
              "      <td>21968.0</td>\n",
              "    </tr>\n",
              "    <tr>\n",
              "      <th>27</th>\n",
              "      <td>ขนคน (คน)</td>\n",
              "      <td>ทางถนน</td>\n",
              "      <td>การเดินทางระหว่างประเทศ</td>\n",
              "      <td>สาธารณะ</td>\n",
              "      <td>บขส.</td>\n",
              "      <td>รถ บขส. ขาออกประเทศ</td>\n",
              "      <td>28670</td>\n",
              "      <td>25574.0</td>\n",
              "      <td>31910.0</td>\n",
              "      <td>42078.0</td>\n",
              "      <td>28711.0</td>\n",
              "      <td>27840.0</td>\n",
              "      <td>28975.0</td>\n",
              "      <td>29453.0</td>\n",
              "      <td>25610.0</td>\n",
              "      <td>30854.0</td>\n",
              "      <td>26225.0</td>\n",
              "      <td>32820.0</td>\n",
              "    </tr>\n",
              "    <tr>\n",
              "      <th>28</th>\n",
              "      <td>ขนคน (คน)</td>\n",
              "      <td>ทางราง</td>\n",
              "      <td>การเดินทางระหว่างประเทศ</td>\n",
              "      <td>สาธารณะ</td>\n",
              "      <td>รฟท.</td>\n",
              "      <td>รถไฟ ขาเข้าประเทศ (ปาดังเบซาร์)</td>\n",
              "      <td>303</td>\n",
              "      <td>363.0</td>\n",
              "      <td>251.0</td>\n",
              "      <td>163.0</td>\n",
              "      <td>247.0</td>\n",
              "      <td>262.0</td>\n",
              "      <td>244.0</td>\n",
              "      <td>222.0</td>\n",
              "      <td>172.0</td>\n",
              "      <td>3486.0</td>\n",
              "      <td>253.0</td>\n",
              "      <td>330.0</td>\n",
              "    </tr>\n",
              "    <tr>\n",
              "      <th>29</th>\n",
              "      <td>ขนคน (คน)</td>\n",
              "      <td>ทางราง</td>\n",
              "      <td>การเดินทางระหว่างประเทศ</td>\n",
              "      <td>สาธารณะ</td>\n",
              "      <td>รฟท.</td>\n",
              "      <td>รถไฟ ขาออกประเทศ (ปาดังเบซาร์)</td>\n",
              "      <td>598</td>\n",
              "      <td>693.0</td>\n",
              "      <td>495.0</td>\n",
              "      <td>429.0</td>\n",
              "      <td>443.0</td>\n",
              "      <td>524.0</td>\n",
              "      <td>559.0</td>\n",
              "      <td>504.0</td>\n",
              "      <td>474.0</td>\n",
              "      <td>429.0</td>\n",
              "      <td>667.0</td>\n",
              "      <td>818.0</td>\n",
              "    </tr>\n",
              "    <tr>\n",
              "      <th>30</th>\n",
              "      <td>ขนคน (คน)</td>\n",
              "      <td>ทางน้ำ</td>\n",
              "      <td>การเดินทางระหว่างประเทศ</td>\n",
              "      <td>สาธารณะ</td>\n",
              "      <td>จท.</td>\n",
              "      <td>ท่าเรือด่านชายแดน ขาเข้าประเทศ</td>\n",
              "      <td>ไม่ทีการจัดเก็บข้อมูล</td>\n",
              "      <td>NaN</td>\n",
              "      <td>NaN</td>\n",
              "      <td>NaN</td>\n",
              "      <td>NaN</td>\n",
              "      <td>NaN</td>\n",
              "      <td>NaN</td>\n",
              "      <td>NaN</td>\n",
              "      <td>NaN</td>\n",
              "      <td>NaN</td>\n",
              "      <td>NaN</td>\n",
              "      <td>NaN</td>\n",
              "    </tr>\n",
              "    <tr>\n",
              "      <th>31</th>\n",
              "      <td>ขนคน (คน)</td>\n",
              "      <td>ทางน้ำ</td>\n",
              "      <td>การเดินทางระหว่างประเทศ</td>\n",
              "      <td>สาธารณะ</td>\n",
              "      <td>จท.</td>\n",
              "      <td>ท่าเรือด่านชายแดน ขาออกประเทศ</td>\n",
              "      <td>ไม่มีการจัดเก็บข้อมูล</td>\n",
              "      <td>NaN</td>\n",
              "      <td>NaN</td>\n",
              "      <td>NaN</td>\n",
              "      <td>NaN</td>\n",
              "      <td>NaN</td>\n",
              "      <td>NaN</td>\n",
              "      <td>NaN</td>\n",
              "      <td>NaN</td>\n",
              "      <td>NaN</td>\n",
              "      <td>NaN</td>\n",
              "      <td>NaN</td>\n",
              "    </tr>\n",
              "    <tr>\n",
              "      <th>32</th>\n",
              "      <td>ขนคน (คน)</td>\n",
              "      <td>ทางอากาศ</td>\n",
              "      <td>การเดินทางระหว่างประเทศ</td>\n",
              "      <td>สาธารณะ</td>\n",
              "      <td>ทอท.</td>\n",
              "      <td>ท่าอากาศยานสุวรรณภูมิ ขาเข้าประเทศ</td>\n",
              "      <td>2464894</td>\n",
              "      <td>2224587.0</td>\n",
              "      <td>2294408.0</td>\n",
              "      <td>2227482.0</td>\n",
              "      <td>1865431.0</td>\n",
              "      <td>1997480.0</td>\n",
              "      <td>2249686.0</td>\n",
              "      <td>2216137.0</td>\n",
              "      <td>1933764.0</td>\n",
              "      <td>2195190.0</td>\n",
              "      <td>2301907.0</td>\n",
              "      <td>2545272.0</td>\n",
              "    </tr>\n",
              "    <tr>\n",
              "      <th>33</th>\n",
              "      <td>ขนคน (คน)</td>\n",
              "      <td>ทางอากาศ</td>\n",
              "      <td>การเดินทางระหว่างประเทศ</td>\n",
              "      <td>สาธารณะ</td>\n",
              "      <td>ทอท.</td>\n",
              "      <td>ท่าอากาศยานสุวรรณภูมิ ขาออกประเทศ</td>\n",
              "      <td>2028379</td>\n",
              "      <td>1919774.0</td>\n",
              "      <td>2064603.0</td>\n",
              "      <td>1891725.0</td>\n",
              "      <td>1652994.0</td>\n",
              "      <td>1600979.0</td>\n",
              "      <td>1762927.0</td>\n",
              "      <td>1888899.0</td>\n",
              "      <td>1543004.0</td>\n",
              "      <td>1729385.0</td>\n",
              "      <td>1799319.0</td>\n",
              "      <td>1952980.0</td>\n",
              "    </tr>\n",
              "    <tr>\n",
              "      <th>34</th>\n",
              "      <td>ขนคน (คน)</td>\n",
              "      <td>ทางอากาศ</td>\n",
              "      <td>การเดินทางระหว่างประเทศ</td>\n",
              "      <td>สาธารณะ</td>\n",
              "      <td>ทอท.</td>\n",
              "      <td>ท่าอากาศยานดอนเมือง ขาเข้าประเทศ</td>\n",
              "      <td>748089</td>\n",
              "      <td>702251.0</td>\n",
              "      <td>774448.0</td>\n",
              "      <td>764724.0</td>\n",
              "      <td>692187.0</td>\n",
              "      <td>687321.0</td>\n",
              "      <td>744731.0</td>\n",
              "      <td>780482.0</td>\n",
              "      <td>681134.0</td>\n",
              "      <td>738845.0</td>\n",
              "      <td>728209.0</td>\n",
              "      <td>805839.0</td>\n",
              "    </tr>\n",
              "    <tr>\n",
              "      <th>35</th>\n",
              "      <td>ขนคน (คน)</td>\n",
              "      <td>ทางอากาศ</td>\n",
              "      <td>การเดินทางระหว่างประเทศ</td>\n",
              "      <td>สาธารณะ</td>\n",
              "      <td>ทอท.</td>\n",
              "      <td>ท่าอากาศยานดอนเมือง ขาออกประเทศ</td>\n",
              "      <td>702441</td>\n",
              "      <td>978370.0</td>\n",
              "      <td>748852.0</td>\n",
              "      <td>707809.0</td>\n",
              "      <td>658868.0</td>\n",
              "      <td>623405.0</td>\n",
              "      <td>689064.0</td>\n",
              "      <td>707514.0</td>\n",
              "      <td>635938.0</td>\n",
              "      <td>705790.0</td>\n",
              "      <td>676655.0</td>\n",
              "      <td>744031.0</td>\n",
              "    </tr>\n",
              "    <tr>\n",
              "      <th>36</th>\n",
              "      <td>ขนคน (คน)</td>\n",
              "      <td>ทางอากาศ</td>\n",
              "      <td>การเดินทางระหว่างประเทศ</td>\n",
              "      <td>สาธารณะ</td>\n",
              "      <td>ทอท.</td>\n",
              "      <td>ท่าอากาศอื่น ๆ ของ ทอท.ขาเข้าประเทศ</td>\n",
              "      <td>753017</td>\n",
              "      <td>710321.0</td>\n",
              "      <td>698460.0</td>\n",
              "      <td>591289.0</td>\n",
              "      <td>455767.0</td>\n",
              "      <td>494260.0</td>\n",
              "      <td>574456.0</td>\n",
              "      <td>578856.0</td>\n",
              "      <td>482615.0</td>\n",
              "      <td>556104.0</td>\n",
              "      <td>630423.0</td>\n",
              "      <td>755055.0</td>\n",
              "    </tr>\n",
              "    <tr>\n",
              "      <th>37</th>\n",
              "      <td>ขนคน (คน)</td>\n",
              "      <td>ทางอากาศ</td>\n",
              "      <td>การเดินทางระหว่างประเทศ</td>\n",
              "      <td>สาธารณะ</td>\n",
              "      <td>ทอท.</td>\n",
              "      <td>ท่าอากาศอื่น ๆ ของ ทอท. ขาออกประเทศ</td>\n",
              "      <td>750052</td>\n",
              "      <td>733723.0</td>\n",
              "      <td>741191.0</td>\n",
              "      <td>600419.0</td>\n",
              "      <td>489178.0</td>\n",
              "      <td>473202.0</td>\n",
              "      <td>542494.0</td>\n",
              "      <td>594959.0</td>\n",
              "      <td>466849.0</td>\n",
              "      <td>531082.0</td>\n",
              "      <td>612620.0</td>\n",
              "      <td>682621.0</td>\n",
              "    </tr>\n",
              "    <tr>\n",
              "      <th>38</th>\n",
              "      <td>ขนคน (คน)</td>\n",
              "      <td>ทางอากาศ</td>\n",
              "      <td>การเดินทางระหว่างประเทศ</td>\n",
              "      <td>สาธารณะ</td>\n",
              "      <td>ทย.</td>\n",
              "      <td>ท่าอากาศยานภูมิภาค ขาเข้าประเทศ</td>\n",
              "      <td>98581</td>\n",
              "      <td>108408.0</td>\n",
              "      <td>71729.0</td>\n",
              "      <td>50038.0</td>\n",
              "      <td>42413.0</td>\n",
              "      <td>45414.0</td>\n",
              "      <td>50103.0</td>\n",
              "      <td>55074.0</td>\n",
              "      <td>43331.0</td>\n",
              "      <td>37486.0</td>\n",
              "      <td>45609.0</td>\n",
              "      <td>72067.0</td>\n",
              "    </tr>\n",
              "    <tr>\n",
              "      <th>39</th>\n",
              "      <td>ขนคน (คน)</td>\n",
              "      <td>ทางอากาศ</td>\n",
              "      <td>การเดินทางระหว่างประเทศ</td>\n",
              "      <td>สาธารณะ</td>\n",
              "      <td>ทย.</td>\n",
              "      <td>ท่าอากาศยานภูมิภาค ขาออกประเทศ</td>\n",
              "      <td>96843</td>\n",
              "      <td>116047.0</td>\n",
              "      <td>83223.0</td>\n",
              "      <td>53096.0</td>\n",
              "      <td>47317.0</td>\n",
              "      <td>45001.0</td>\n",
              "      <td>51994.0</td>\n",
              "      <td>52701.0</td>\n",
              "      <td>44119.0</td>\n",
              "      <td>38058.0</td>\n",
              "      <td>42175.0</td>\n",
              "      <td>59594.0</td>\n",
              "    </tr>\n",
              "  </tbody>\n",
              "</table>\n",
              "</div>"
            ],
            "text/plain": [
              "   ขนคน/ขนสินค้า โหมดการเดินทาง  ...   พ.ย. 2562   ธ.ค. 2562\n",
              "0      ขนคน (คน)          ทางบก  ...   4559610.0   4840673.0\n",
              "1      ขนคน (คน)          ทางบก  ...         NaN         NaN\n",
              "2      ขนคน (คน)          ทางบก  ...   2450888.0   2516032.0\n",
              "3     ขนคน (คัน)          ทางบก  ...  28325020.0  29615013.0\n",
              "4     ขนคน (คัน)          ทางบก  ...  46996660.0  47294111.0\n",
              "5     ขนคน (คัน)          ทางบก  ...         NaN         NaN\n",
              "6      ขนคน (คน)          ทางบก  ...    108037.0    104032.0\n",
              "7      ขนคน (คน)          ทางบก  ...         NaN         NaN\n",
              "8      ขนคน (คน)          ทางบก  ...  29672244.0  29019427.0\n",
              "9      ขนคน (คน)          ทางบก  ...  25368180.0  24993204.0\n",
              "10    ขนคน (คัน)          ทางบก  ...         NaN         NaN\n",
              "11    ขนคน (คัน)          ทางบก  ...         NaN         NaN\n",
              "12     ขนคน (คน)         ทางน้ำ  ...         NaN         NaN\n",
              "13     ขนคน (คน)         ทางน้ำ  ...    771668.0    766378.0\n",
              "14     ขนคน (คน)         ทางน้ำ  ...    837965.0    796559.0\n",
              "15     ขนคน (คน)         ทางน้ำ  ...   6420869.0   7216193.0\n",
              "16     ขนคน (คน)         ทางน้ำ  ...         NaN         NaN\n",
              "17     ขนคน (คน)         ทางราง  ...   2609722.0   2715880.0\n",
              "18     ขนคน (คน)         ทางราง  ...  11520590.0  10265578.0\n",
              "19     ขนคน (คน)         ทางราง  ...   1305024.0   1179272.0\n",
              "20     ขนคน (คน)         ทางราง  ...   2290792.0   2181036.0\n",
              "21     ขนคน (คน)         ทางราง  ...  21300000.0  20900000.0\n",
              "22     ขนคน (คน)       ทางอากาศ  ...    411562.0    458992.0\n",
              "23     ขนคน (คน)       ทางอากาศ  ...    936619.0    986303.0\n",
              "24     ขนคน (คน)       ทางอากาศ  ...    903852.0    924307.0\n",
              "25     ขนคน (คน)       ทางอากาศ  ...    674826.0    724097.0\n",
              "26     ขนคน (คน)         ทางถนน  ...     19912.0     21968.0\n",
              "27     ขนคน (คน)         ทางถนน  ...     26225.0     32820.0\n",
              "28     ขนคน (คน)         ทางราง  ...       253.0       330.0\n",
              "29     ขนคน (คน)         ทางราง  ...       667.0       818.0\n",
              "30     ขนคน (คน)         ทางน้ำ  ...         NaN         NaN\n",
              "31     ขนคน (คน)         ทางน้ำ  ...         NaN         NaN\n",
              "32     ขนคน (คน)       ทางอากาศ  ...   2301907.0   2545272.0\n",
              "33     ขนคน (คน)       ทางอากาศ  ...   1799319.0   1952980.0\n",
              "34     ขนคน (คน)       ทางอากาศ  ...    728209.0    805839.0\n",
              "35     ขนคน (คน)       ทางอากาศ  ...    676655.0    744031.0\n",
              "36     ขนคน (คน)       ทางอากาศ  ...    630423.0    755055.0\n",
              "37     ขนคน (คน)       ทางอากาศ  ...    612620.0    682621.0\n",
              "38     ขนคน (คน)       ทางอากาศ  ...     45609.0     72067.0\n",
              "39     ขนคน (คน)       ทางอากาศ  ...     42175.0     59594.0\n",
              "\n",
              "[40 rows x 18 columns]"
            ]
          },
          "metadata": {
            "tags": []
          },
          "execution_count": 32
        }
      ]
    },
    {
      "cell_type": "code",
      "metadata": {
        "id": "KjU5hh79_5ji"
      },
      "source": [
        "data_drop = data.dropna()\r\n",
        "data_drop"
      ],
      "execution_count": null,
      "outputs": []
    },
    {
      "cell_type": "code",
      "metadata": {
        "id": "GbtlvBbiDuNB",
        "outputId": "b88ebfd8-bd8f-4c50-b228-034e2d25db5a",
        "colab": {
          "base_uri": "https://localhost:8080/"
        }
      },
      "source": [
        "data_drop.iloc[:3,6]"
      ],
      "execution_count": 34,
      "outputs": [
        {
          "output_type": "execute_result",
          "data": {
            "text/plain": [
              "0     5236331\n",
              "2     2550864\n",
              "3    28907234\n",
              "Name: ม.ค. 2562, dtype: object"
            ]
          },
          "metadata": {
            "tags": []
          },
          "execution_count": 34
        }
      ]
    },
    {
      "cell_type": "code",
      "metadata": {
        "id": "RIeJ8K0sDuKA",
        "outputId": "a4c8cebd-f61f-4795-d521-b633fcb870e0",
        "colab": {
          "base_uri": "https://localhost:8080/",
          "height": 281
        }
      },
      "source": [
        "plt.scatter([0,100,200],[200,200,200],s=[200,3000,700])"
      ],
      "execution_count": 35,
      "outputs": [
        {
          "output_type": "execute_result",
          "data": {
            "text/plain": [
              "<matplotlib.collections.PathCollection at 0x7f4b3bd10ad0>"
            ]
          },
          "metadata": {
            "tags": []
          },
          "execution_count": 35
        },
        {
          "output_type": "display_data",
          "data": {
            "image/png": "[encoded data removed]",
            "text/plain": [
              "<Figure size 432x288 with 1 Axes>"
            ]
          },
          "metadata": {
            "tags": [],
            "needs_background": "light"
          }
        }
      ]
    }
  ]
}