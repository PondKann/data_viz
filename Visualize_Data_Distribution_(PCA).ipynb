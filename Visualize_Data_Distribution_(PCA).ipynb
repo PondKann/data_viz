{
  "nbformat": 4,
  "nbformat_minor": 0,
  "metadata": {
    "colab": {
      "name": "Visualize Data Distribution (PCA).ipynb",
      "provenance": [],
      "authorship_tag": "ABX9TyMsYE5OEtUOgsNixhENrNFc",
      "include_colab_link": true
    },
    "kernelspec": {
      "name": "python3",
      "display_name": "Python 3"
    },
    "language_info": {
      "name": "python"
    }
  },
  "cells": [
    {
      "cell_type": "markdown",
      "metadata": {
        "id": "view-in-github",
        "colab_type": "text"
      },
      "source": [
        "<a href=\"https://colab.research.google.com/github/PondKann/data_viz/blob/main/Visualize_Data_Distribution_(PCA).ipynb\" target=\"_parent\"><img src=\"https://colab.research.google.com/assets/colab-badge.svg\" alt=\"Open In Colab\"/></a>"
      ]
    },
    {
      "cell_type": "markdown",
      "metadata": {
        "id": "P7aeDQi-BEAm"
      },
      "source": [
        "## เมื่อเรามีตัวแปรมากกว่า 2 ตัวแปร เราสามารถใช้ PCA (Principal Component Analysis ) ลดจำนวนตัวแปรได้"
      ]
    },
    {
      "cell_type": "markdown",
      "metadata": {
        "id": "5ze65YQjIKN6"
      },
      "source": [
        "![PCA.png](data:image/png;base64,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)"
      ]
    },
    {
      "cell_type": "code",
      "metadata": {
        "id": "5qf0ek5oCB2n"
      },
      "source": [
        "import pandas as pd"
      ],
      "execution_count": 2,
      "outputs": []
    },
    {
      "cell_type": "code",
      "metadata": {
        "colab": {
          "base_uri": "https://localhost:8080/",
          "height": 408
        },
        "id": "EuwANEtP-QMj",
        "outputId": "1bbc3ac4-ba5c-4fff-df7b-d440cc374a87"
      },
      "source": [
        "df = pd.read_csv('https://raw.github.com/pandas-dev/pandas/master/pandas/tests/io/data/csv/iris.csv')\n",
        "df"
      ],
      "execution_count": 3,
      "outputs": [
        {
          "output_type": "execute_result",
          "data": {
            "text/html": [
              "<div>\n",
              "<style scoped>\n",
              "    .dataframe tbody tr th:only-of-type {\n",
              "        vertical-align: middle;\n",
              "    }\n",
              "\n",
              "    .dataframe tbody tr th {\n",
              "        vertical-align: top;\n",
              "    }\n",
              "\n",
              "    .dataframe thead th {\n",
              "        text-align: right;\n",
              "    }\n",
              "</style>\n",
              "<table border=\"1\" class=\"dataframe\">\n",
              "  <thead>\n",
              "    <tr style=\"text-align: right;\">\n",
              "      <th></th>\n",
              "      <th>SepalLength</th>\n",
              "      <th>SepalWidth</th>\n",
              "      <th>PetalLength</th>\n",
              "      <th>PetalWidth</th>\n",
              "      <th>Name</th>\n",
              "    </tr>\n",
              "  </thead>\n",
              "  <tbody>\n",
              "    <tr>\n",
              "      <th>0</th>\n",
              "      <td>5.1</td>\n",
              "      <td>3.5</td>\n",
              "      <td>1.4</td>\n",
              "      <td>0.2</td>\n",
              "      <td>Iris-setosa</td>\n",
              "    </tr>\n",
              "    <tr>\n",
              "      <th>1</th>\n",
              "      <td>4.9</td>\n",
              "      <td>3.0</td>\n",
              "      <td>1.4</td>\n",
              "      <td>0.2</td>\n",
              "      <td>Iris-setosa</td>\n",
              "    </tr>\n",
              "    <tr>\n",
              "      <th>2</th>\n",
              "      <td>4.7</td>\n",
              "      <td>3.2</td>\n",
              "      <td>1.3</td>\n",
              "      <td>0.2</td>\n",
              "      <td>Iris-setosa</td>\n",
              "    </tr>\n",
              "    <tr>\n",
              "      <th>3</th>\n",
              "      <td>4.6</td>\n",
              "      <td>3.1</td>\n",
              "      <td>1.5</td>\n",
              "      <td>0.2</td>\n",
              "      <td>Iris-setosa</td>\n",
              "    </tr>\n",
              "    <tr>\n",
              "      <th>4</th>\n",
              "      <td>5.0</td>\n",
              "      <td>3.6</td>\n",
              "      <td>1.4</td>\n",
              "      <td>0.2</td>\n",
              "      <td>Iris-setosa</td>\n",
              "    </tr>\n",
              "    <tr>\n",
              "      <th>...</th>\n",
              "      <td>...</td>\n",
              "      <td>...</td>\n",
              "      <td>...</td>\n",
              "      <td>...</td>\n",
              "      <td>...</td>\n",
              "    </tr>\n",
              "    <tr>\n",
              "      <th>145</th>\n",
              "      <td>6.7</td>\n",
              "      <td>3.0</td>\n",
              "      <td>5.2</td>\n",
              "      <td>2.3</td>\n",
              "      <td>Iris-virginica</td>\n",
              "    </tr>\n",
              "    <tr>\n",
              "      <th>146</th>\n",
              "      <td>6.3</td>\n",
              "      <td>2.5</td>\n",
              "      <td>5.0</td>\n",
              "      <td>1.9</td>\n",
              "      <td>Iris-virginica</td>\n",
              "    </tr>\n",
              "    <tr>\n",
              "      <th>147</th>\n",
              "      <td>6.5</td>\n",
              "      <td>3.0</td>\n",
              "      <td>5.2</td>\n",
              "      <td>2.0</td>\n",
              "      <td>Iris-virginica</td>\n",
              "    </tr>\n",
              "    <tr>\n",
              "      <th>148</th>\n",
              "      <td>6.2</td>\n",
              "      <td>3.4</td>\n",
              "      <td>5.4</td>\n",
              "      <td>2.3</td>\n",
              "      <td>Iris-virginica</td>\n",
              "    </tr>\n",
              "    <tr>\n",
              "      <th>149</th>\n",
              "      <td>5.9</td>\n",
              "      <td>3.0</td>\n",
              "      <td>5.1</td>\n",
              "      <td>1.8</td>\n",
              "      <td>Iris-virginica</td>\n",
              "    </tr>\n",
              "  </tbody>\n",
              "</table>\n",
              "<p>150 rows × 5 columns</p>\n",
              "</div>"
            ],
            "text/plain": [
              "     SepalLength  SepalWidth  PetalLength  PetalWidth            Name\n",
              "0            5.1         3.5          1.4         0.2     Iris-setosa\n",
              "1            4.9         3.0          1.4         0.2     Iris-setosa\n",
              "2            4.7         3.2          1.3         0.2     Iris-setosa\n",
              "3            4.6         3.1          1.5         0.2     Iris-setosa\n",
              "4            5.0         3.6          1.4         0.2     Iris-setosa\n",
              "..           ...         ...          ...         ...             ...\n",
              "145          6.7         3.0          5.2         2.3  Iris-virginica\n",
              "146          6.3         2.5          5.0         1.9  Iris-virginica\n",
              "147          6.5         3.0          5.2         2.0  Iris-virginica\n",
              "148          6.2         3.4          5.4         2.3  Iris-virginica\n",
              "149          5.9         3.0          5.1         1.8  Iris-virginica\n",
              "\n",
              "[150 rows x 5 columns]"
            ]
          },
          "metadata": {
            "tags": []
          },
          "execution_count": 3
        }
      ]
    },
    {
      "cell_type": "markdown",
      "metadata": {
        "id": "CncX1RdRCljP"
      },
      "source": [
        "# PCA"
      ]
    },
    {
      "cell_type": "markdown",
      "metadata": {
        "id": "AzDEZmvVCMdA"
      },
      "source": [
        "sklearn -> scikit-learn เป็น packege ที่รวบรสมการทำ Data science - Machine Learning - Data Mining เอาไว้ในเรา แบบไม่ต้องเขียนเอง"
      ]
    },
    {
      "cell_type": "code",
      "metadata": {
        "id": "Watt0uLQBDxA"
      },
      "source": [
        "from sklearn.decomposition import PCA "
      ],
      "execution_count": 4,
      "outputs": []
    },
    {
      "cell_type": "markdown",
      "metadata": {
        "id": "Q18cyKLPC9cC"
      },
      "source": [
        "Difine \n",
        "\n",
        " เซต ว่าจะให้ PCA มีคุณสมบัติอะไรบ้าง "
      ]
    },
    {
      "cell_type": "code",
      "metadata": {
        "id": "gImdzraHBDuO"
      },
      "source": [
        "pca = PCA()"
      ],
      "execution_count": 7,
      "outputs": []
    },
    {
      "cell_type": "markdown",
      "metadata": {
        "id": "hXlXz-ySE58T"
      },
      "source": [
        "หมุนแกน แล้วดู data ที่มันอธิบายได้ดีที่สุด"
      ]
    },
    {
      "cell_type": "code",
      "metadata": {
        "colab": {
          "base_uri": "https://localhost:8080/"
        },
        "id": "BJ9BiVcDFSDc",
        "outputId": "a5353b8a-1a89-4ca7-e626-a27c1fad3e16"
      },
      "source": [
        "df.iloc[:,:-1].shape"
      ],
      "execution_count": 5,
      "outputs": [
        {
          "output_type": "execute_result",
          "data": {
            "text/plain": [
              "(150, 4)"
            ]
          },
          "metadata": {
            "tags": []
          },
          "execution_count": 5
        }
      ]
    },
    {
      "cell_type": "markdown",
      "metadata": {
        "id": "xdf9fDQHGeMh"
      },
      "source": [
        "หมุนแกน x y แต่ data อยู่ที่เดิม"
      ]
    },
    {
      "cell_type": "code",
      "metadata": {
        "id": "LW6yry_qCi_t"
      },
      "source": [
        "new_pca = pca.fit_transform(df.iloc[:,:-1])"
      ],
      "execution_count": 8,
      "outputs": []
    },
    {
      "cell_type": "code",
      "metadata": {
        "colab": {
          "base_uri": "https://localhost:8080/"
        },
        "id": "e72u1mmvBDro",
        "outputId": "7d25d130-5c7e-445f-8d25-eaf1932017f1"
      },
      "source": [
        "new_pca.shape"
      ],
      "execution_count": 9,
      "outputs": [
        {
          "output_type": "execute_result",
          "data": {
            "text/plain": [
              "(150, 4)"
            ]
          },
          "metadata": {
            "tags": []
          },
          "execution_count": 9
        }
      ]
    },
    {
      "cell_type": "code",
      "metadata": {
        "id": "UOEQV3UsBDpA"
      },
      "source": [
        ""
      ],
      "execution_count": null,
      "outputs": []
    },
    {
      "cell_type": "code",
      "metadata": {
        "id": "ZUM1RSGkBDnB"
      },
      "source": [
        ""
      ],
      "execution_count": null,
      "outputs": []
    },
    {
      "cell_type": "code",
      "metadata": {
        "id": "KrL-e1IiBDkc"
      },
      "source": [
        ""
      ],
      "execution_count": null,
      "outputs": []
    }
  ]
}